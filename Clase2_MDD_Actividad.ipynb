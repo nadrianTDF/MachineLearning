{
  "nbformat": 4,
  "nbformat_minor": 0,
  "metadata": {
    "colab": {
      "provenance": [],
      "include_colab_link": true
    },
    "kernelspec": {
      "name": "python3",
      "display_name": "Python 3"
    }
  },
  "cells": [
    {
      "cell_type": "markdown",
      "metadata": {
        "id": "view-in-github",
        "colab_type": "text"
      },
      "source": [
        "<a href=\"https://colab.research.google.com/github/nadrianTDF/MachineLearning/blob/main/Clase2_MDD_Actividad.ipynb\" target=\"_parent\"><img src=\"https://colab.research.google.com/assets/colab-badge.svg\" alt=\"Open In Colab\"/></a>"
      ]
    },
    {
      "cell_type": "markdown",
      "source": [
        "# Actividad: Exploración y Tratamiento de Datos con Pandas y Polars\n",
        "\n",
        "## Instrucciones\n",
        "\n",
        "En esta actividad, deberás realizar un análisis exploratorio de datos utilizando las bibliotecas Pandas y Polars en Python. Los datos serán generados de manera ficticia y contendrán valores nulos y outliers, los cuales deberás identificar y tratar adecuadamente.\n",
        "\n",
        "### Objetivos\n",
        "\n",
        "- Comparar el uso de Pandas y Polars para la manipulación de datos.\n",
        "- Identificar y tratar valores nulos y outliers en un conjunto de datos.\n",
        "- Aplicar diferentes estrategias para el tratamiento de valores nulos utilizando ambas bibliotecas."
      ],
      "metadata": {
        "id": "i4Lp6OwXuCOO"
      }
    },
    {
      "cell_type": "markdown",
      "source": [
        "##Tareas"
      ],
      "metadata": {
        "id": "njKethH7otrl"
      }
    },
    {
      "cell_type": "markdown",
      "source": [
        "1. **Generación de Datos Ficticios:**\n",
        "   - Utiliza la biblioteca Faker para generar un conjunto de datos que incluya nombres, edades, ingresos y ciudades. Introduce valores nulos y outliers en el dataset."
      ],
      "metadata": {
        "id": "x0I6NLNLo9yA"
      }
    },
    {
      "cell_type": "markdown",
      "source": [
        "En primer lugar se procedio a instalar la libreria Faker."
      ],
      "metadata": {
        "id": "EDfIAeZ3ouhL"
      }
    },
    {
      "cell_type": "code",
      "source": [
        "!pip install faker\n",
        "!pip install polars"
      ],
      "metadata": {
        "colab": {
          "base_uri": "https://localhost:8080/"
        },
        "id": "oE0e96Spwvni",
        "outputId": "1d96a62f-241c-45a3-f57f-eed64bfc8273",
        "collapsed": true
      },
      "execution_count": null,
      "outputs": [
        {
          "output_type": "stream",
          "name": "stdout",
          "text": [
            "Collecting faker\n",
            "  Downloading Faker-28.4.1-py3-none-any.whl.metadata (15 kB)\n",
            "Requirement already satisfied: python-dateutil>=2.4 in /usr/local/lib/python3.10/dist-packages (from faker) (2.8.2)\n",
            "Requirement already satisfied: six>=1.5 in /usr/local/lib/python3.10/dist-packages (from python-dateutil>=2.4->faker) (1.16.0)\n",
            "Downloading Faker-28.4.1-py3-none-any.whl (1.8 MB)\n",
            "\u001b[?25l   \u001b[90m━━━━━━━━━━━━━━━━━━━━━━━━━━━━━━━━━━━━━━━━\u001b[0m \u001b[32m0.0/1.8 MB\u001b[0m \u001b[31m?\u001b[0m eta \u001b[36m-:--:--\u001b[0m\r\u001b[2K   \u001b[91m━━━━━━━━━━━━━━━━━━━━━━━━━━━━━━━━━━━━━━━\u001b[0m\u001b[91m╸\u001b[0m \u001b[32m1.8/1.8 MB\u001b[0m \u001b[31m72.2 MB/s\u001b[0m eta \u001b[36m0:00:01\u001b[0m\r\u001b[2K   \u001b[90m━━━━━━━━━━━━━━━━━━━━━━━━━━━━━━━━━━━━━━━━\u001b[0m \u001b[32m1.8/1.8 MB\u001b[0m \u001b[31m36.7 MB/s\u001b[0m eta \u001b[36m0:00:00\u001b[0m\n",
            "\u001b[?25hInstalling collected packages: faker\n",
            "Successfully installed faker-28.4.1\n",
            "Requirement already satisfied: polars in /usr/local/lib/python3.10/dist-packages (0.20.2)\n"
          ]
        }
      ]
    },
    {
      "cell_type": "markdown",
      "source": [
        "A continuacion se cargaron todas las librerias necesarias para el trabajo y se procedio a generar el dataset."
      ],
      "metadata": {
        "id": "G6WqSMQeo33Y"
      }
    },
    {
      "cell_type": "code",
      "metadata": {
        "id": "ddCGyr2VScTa"
      },
      "source": [
        "import pandas as pd\n",
        "import polars as pl\n",
        "from faker import Faker\n",
        "import numpy as np\n",
        "\n",
        "faker = Faker()\n",
        "\n",
        "cant = 100000\n",
        "\n",
        "# Generar datos ficticios\n",
        "banco = {\n",
        "    'Name': [faker.name() for _ in range(cant)],\n",
        "    'Age': [faker.random_int(min=18, max=80) for _ in range(cant)],\n",
        "    'Income': [faker.random_number(digits=5) for _ in range(cant)],\n",
        "    'Job' : [faker.job() for _ in range(cant)],\n",
        "    'Phone': [faker.phone_number() for _ in range(cant)],\n",
        "    'City': [faker.city() for _ in range(cant)]\n",
        "}\n",
        "\n",
        "# Introducir valores nulos aleatoriamente en 'Income'\n",
        "for _ in range(300):  # Añadir 300 valores nulos\n",
        "    banco['Income'][np.random.randint(0, cant)] = None\n",
        "\n",
        "# Introducir valores nulos aleatoriamente en 'Phone'\n",
        "for _ in range(50):  # Añadir 50 valores nulos\n",
        "    banco['Phone'][np.random.randint(0, cant)] = None\n",
        "\n",
        "# Introducir outliers en 'Age'\n",
        "banco['Age'][np.random.randint(0, cant)] = 110  # Añadir un outlier extremo\n"
      ],
      "execution_count": null,
      "outputs": []
    },
    {
      "cell_type": "markdown",
      "source": [
        "Se generaron tambien los 2 dataframes requeridos para el trabajo (Pandas y Polars)."
      ],
      "metadata": {
        "id": "jaHpZRbnpWBo"
      }
    },
    {
      "cell_type": "code",
      "source": [
        "df_pandas = pd.DataFrame(banco)\n",
        "# Mostrar los primeros registros de cada DataFrame\n",
        "print(\"Pandas DataFrame:\")\n",
        "print(df_pandas.head(5))"
      ],
      "metadata": {
        "colab": {
          "base_uri": "https://localhost:8080/"
        },
        "id": "HeHbl3LiEIX9",
        "outputId": "0478027a-7ed5-4eed-d2b9-622287d36e7c"
      },
      "execution_count": null,
      "outputs": [
        {
          "output_type": "stream",
          "name": "stdout",
          "text": [
            "Pandas DataFrame:\n",
            "                   Name  Age   Income                    Job  \\\n",
            "0          Robert Perez   46  82388.0    Designer, furniture   \n",
            "1      Andrew Fernandez   28  42571.0  Clinical embryologist   \n",
            "2        Shawn Phillips   18   5368.0                  Actor   \n",
            "3  Dr. Wanda Livingston   42  65048.0      Systems developer   \n",
            "4        Ashley Chapman   36  85896.0   Pharmacist, hospital   \n",
            "\n",
            "              Phone              City  \n",
            "0     (767)850-9714        Jerrymouth  \n",
            "1   +1-438-678-2538         Tammyfurt  \n",
            "2     (637)645-8908  East Christopher  \n",
            "3  001-886-423-0930   New Carlosmouth  \n",
            "4  001-874-619-3454      Scottborough  \n"
          ]
        }
      ]
    },
    {
      "cell_type": "code",
      "source": [
        "df_polars = pl.DataFrame(banco)\n",
        "print(\"\\nPolars DataFrame:\")\n",
        "print(df_polars.head(5))"
      ],
      "metadata": {
        "colab": {
          "base_uri": "https://localhost:8080/"
        },
        "id": "CKWRv_RJEzk1",
        "outputId": "e94b7343-93be-4b58-b6da-3501d4f99281"
      },
      "execution_count": null,
      "outputs": [
        {
          "output_type": "stream",
          "name": "stdout",
          "text": [
            "\n",
            "Polars DataFrame:\n",
            "shape: (5, 6)\n",
            "┌──────────────────────┬─────┬────────┬──────────────────────┬──────────────────┬──────────────────┐\n",
            "│ Name                 ┆ Age ┆ Income ┆ Job                  ┆ Phone            ┆ City             │\n",
            "│ ---                  ┆ --- ┆ ---    ┆ ---                  ┆ ---              ┆ ---              │\n",
            "│ str                  ┆ i64 ┆ i64    ┆ str                  ┆ str              ┆ str              │\n",
            "╞══════════════════════╪═════╪════════╪══════════════════════╪══════════════════╪══════════════════╡\n",
            "│ Robert Perez         ┆ 46  ┆ 82388  ┆ Designer, furniture  ┆ (767)850-9714    ┆ Jerrymouth       │\n",
            "│ Andrew Fernandez     ┆ 28  ┆ 42571  ┆ Clinical             ┆ +1-438-678-2538  ┆ Tammyfurt        │\n",
            "│                      ┆     ┆        ┆ embryologist         ┆                  ┆                  │\n",
            "│ Shawn Phillips       ┆ 18  ┆ 5368   ┆ Actor                ┆ (637)645-8908    ┆ East Christopher │\n",
            "│ Dr. Wanda Livingston ┆ 42  ┆ 65048  ┆ Systems developer    ┆ 001-886-423-0930 ┆ New Carlosmouth  │\n",
            "│ Ashley Chapman       ┆ 36  ┆ 85896  ┆ Pharmacist, hospital ┆ 001-874-619-3454 ┆ Scottborough     │\n",
            "└──────────────────────┴─────┴────────┴──────────────────────┴──────────────────┴──────────────────┘\n"
          ]
        }
      ]
    },
    {
      "cell_type": "markdown",
      "source": [
        "2. **Análisis Exploratorio de Datos:**\n",
        "   - Realiza un análisis exploratorio de los datos generados, incluyendo la identificación de valores nulos, la generación de resúmenes estadísticos y la verificación de los tipos de datos."
      ],
      "metadata": {
        "id": "eqUGKDsAtApG"
      }
    },
    {
      "cell_type": "markdown",
      "source": [
        "Una vez generado nuestros dataset, el siguiente paso fue realizar un análisis exploratorio inicial. Este análisis incluye la verificación de la cantidad de valores nulos, exploración de los tipos de datos y la generación de resúmenes estadísticos básicos. Estos pasos son fundamentales para entender la estructura y calidad de los datos con los que estamos trabajando.\n",
        "\n",
        "#### Verificación de Valores Nulos\n",
        "\n",
        "Los valores nulos pueden afectar significativamente la calidad de los análisis y modelos predictivos. Es crucial identificar y entender la cantidad de valores nulos en nuestro dataset.\n",
        "\n",
        "#### Resumen Estadístico\n",
        "\n",
        "El resumen estadístico nos proporciona una visión rápida de las tendencias centrales, la dispersión y la forma de la distribución de los datos.\n",
        "\n",
        "#### Tipos de Datos\n",
        "\n",
        "Comprender los tipos de datos es esencial para asegurar que las operaciones de datos se realicen correctamente sin errores de tipo.\n"
      ],
      "metadata": {
        "id": "1EETkRf3zbJ5"
      }
    },
    {
      "cell_type": "code",
      "metadata": {
        "id": "ix-VUGtgDT9c",
        "colab": {
          "base_uri": "https://localhost:8080/"
        },
        "outputId": "3a1c70ae-6b9a-46b6-c856-2c13aa4d68a9"
      },
      "source": [
        "# Pandas: Análisis de valores nulos\n",
        "print(\"Pandas - Valores Nulos por Columna:\")\n",
        "print(df_pandas.isnull().sum())\n",
        "\n",
        "# Pandas: Resumen estadístico\n",
        "print(\"\\nPandas - Resumen Estadístico:\")\n",
        "print(df_pandas.describe())\n",
        "\n",
        "# Pandas: Tipos de datos\n",
        "print(\"\\nPandas - Tipos de Datos:\")\n",
        "print(df_pandas.dtypes)"
      ],
      "execution_count": null,
      "outputs": [
        {
          "output_type": "stream",
          "name": "stdout",
          "text": [
            "Pandas - Valores Nulos por Columna:\n",
            "Name        0\n",
            "Age         0\n",
            "Income    300\n",
            "Job         0\n",
            "Phone      50\n",
            "City        0\n",
            "dtype: int64\n",
            "\n",
            "Pandas - Resumen Estadístico:\n",
            "                Age        Income\n",
            "count  5.000000e+06  4.999700e+06\n",
            "mean   4.900353e+01  4.998550e+04\n",
            "std    1.818486e+01  2.886390e+04\n",
            "min    1.800000e+01  0.000000e+00\n",
            "25%    3.300000e+01  2.499100e+04\n",
            "50%    4.900000e+01  4.999100e+04\n",
            "75%    6.500000e+01  7.498200e+04\n",
            "max    1.100000e+02  9.999900e+04\n",
            "\n",
            "Pandas - Tipos de Datos:\n",
            "Name       object\n",
            "Age         int64\n",
            "Income    float64\n",
            "Job        object\n",
            "Phone      object\n",
            "City       object\n",
            "dtype: object\n"
          ]
        }
      ]
    },
    {
      "cell_type": "code",
      "metadata": {
        "id": "_r_Uu5MvDPs8",
        "colab": {
          "base_uri": "https://localhost:8080/"
        },
        "outputId": "b2978c0a-f991-4344-f675-e10500b4c4a2"
      },
      "source": [
        "# Polars: Análisis de valores nulos\n",
        "print(\"\\nPolars - Valores Nulos por Columna:\")\n",
        "print(df_polars.null_count())\n",
        "\n",
        "# Polars: Resumen estadístico\n",
        "print(\"\\nPolars - Resumen Estadístico:\")\n",
        "print(df_polars.describe())\n",
        "\n",
        "# Polars: Tipos de datos\n",
        "print(\"\\nPolars - Tipos de Datos:\")\n",
        "print(df_polars.schema)"
      ],
      "execution_count": null,
      "outputs": [
        {
          "output_type": "stream",
          "name": "stdout",
          "text": [
            "\n",
            "Polars - Valores Nulos por Columna:\n",
            "shape: (1, 6)\n",
            "┌──────┬─────┬────────┬─────┬───────┬──────┐\n",
            "│ Name ┆ Age ┆ Income ┆ Job ┆ Phone ┆ City │\n",
            "│ ---  ┆ --- ┆ ---    ┆ --- ┆ ---   ┆ ---  │\n",
            "│ u32  ┆ u32 ┆ u32    ┆ u32 ┆ u32   ┆ u32  │\n",
            "╞══════╪═════╪════════╪═════╪═══════╪══════╡\n",
            "│ 0    ┆ 0   ┆ 300    ┆ 0   ┆ 50    ┆ 0    │\n",
            "└──────┴─────┴────────┴─────┴───────┴──────┘\n",
            "\n",
            "Polars - Resumen Estadístico:\n",
            "shape: (9, 7)\n",
            "┌────────────┬──────────────┬───────────┬──────────────┬──────────────┬──────────────┬─────────────┐\n",
            "│ describe   ┆ Name         ┆ Age       ┆ Income       ┆ Job          ┆ Phone        ┆ City        │\n",
            "│ ---        ┆ ---          ┆ ---       ┆ ---          ┆ ---          ┆ ---          ┆ ---         │\n",
            "│ str        ┆ str          ┆ f64       ┆ f64          ┆ str          ┆ str          ┆ str         │\n",
            "╞════════════╪══════════════╪═══════════╪══════════════╪══════════════╪══════════════╪═════════════╡\n",
            "│ count      ┆ 5000000      ┆ 5e6       ┆ 4.9997e6     ┆ 5000000      ┆ 4999950      ┆ 5000000     │\n",
            "│ null_count ┆ 0            ┆ 0.0       ┆ 300.0        ┆ 0            ┆ 50           ┆ 0           │\n",
            "│ mean       ┆ null         ┆ 49.003534 ┆ 49985.495689 ┆ null         ┆ null         ┆ null        │\n",
            "│ std        ┆ null         ┆ 18.184864 ┆ 28863.900997 ┆ null         ┆ null         ┆ null        │\n",
            "│ min        ┆ Aaron Abbott ┆ 18.0      ┆ 0.0          ┆ Academic     ┆ (200)200-615 ┆ Aaronberg   │\n",
            "│            ┆              ┆           ┆              ┆ librarian    ┆ 2            ┆             │\n",
            "│ 25%        ┆ null         ┆ 33.0      ┆ 24991.0      ┆ null         ┆ null         ┆ null        │\n",
            "│ 50%        ┆ null         ┆ 49.0      ┆ 49991.0      ┆ null         ┆ null         ┆ null        │\n",
            "│ 75%        ┆ null         ┆ 65.0      ┆ 74982.0      ┆ null         ┆ null         ┆ null        │\n",
            "│ max        ┆ Zoe Zuniga   ┆ 110.0     ┆ 99999.0      ┆ Youth worker ┆ 9999981628   ┆ Zunigaville │\n",
            "└────────────┴──────────────┴───────────┴──────────────┴──────────────┴──────────────┴─────────────┘\n",
            "\n",
            "Polars - Tipos de Datos:\n",
            "OrderedDict([('Name', Utf8), ('Age', Int64), ('Income', Int64), ('Job', Utf8), ('Phone', Utf8), ('City', Utf8)])\n"
          ]
        }
      ]
    },
    {
      "cell_type": "markdown",
      "source": [
        "3. **Tratamiento de Valores Nulos:**\n",
        "   - Implementa diferentes estrategias para tratar los valores nulos: eliminación de filas, imputación con la media, y asignación de un valor específico."
      ],
      "metadata": {
        "id": "mWH4Cu031OyS"
      }
    },
    {
      "cell_type": "markdown",
      "metadata": {
        "id": "2JTy6B-qDQNr"
      },
      "source": [
        "Los valores nulos pueden ser un indicativo de datos perdidos, errores durante la recopilación de datos o entradas no aplicables. El tratamiento adecuado de estos valores es esencial para realizar análisis precisos y evitar resultados erróneos. Existen varias estrategias para manejar los valores nulos. En nuestro caso vamos a utilizar las siguientes:\n",
        "\n",
        "- **Eliminación**: Remover las filas o columnas que contienen valores nulos.\n",
        "- **Imputación**: Sustituir los valores nulos por un valor estimado, como la media, mediana o moda de la columna.\n",
        "- **Marcado**: En algunos casos, puede ser útil convertir valores nulos en un valor específico que indique \"desconocido\" o \"no aplicable\".\n",
        "\n",
        "A continuacion implementamos estas estrategias usando Pandas y Polars.\n"
      ]
    },
    {
      "cell_type": "code",
      "source": [
        "# Pandas: Estrategias de tratamiento de valores nulos\n",
        "# Imprimir datos originales para poder comparar los resultados\n",
        "\n",
        "print(\"Pandas - Dataframe original:\")\n",
        "print(df_pandas.isnull().sum())\n",
        "print(df_pandas['Name'].count())\n",
        "\n",
        "# Eliminación de filas con valores nulos\n",
        "df_pandas_dropped = df_pandas.dropna()\n",
        "\n",
        "print(\"Pandas - Dataframe con datos nulos eliminados:\")\n",
        "print(df_pandas_dropped.isnull().sum())\n",
        "print(df_pandas_dropped['Name'].count())\n",
        "\n",
        "# Imputación con la media\n",
        "df_pandas_filled_mean = df_pandas.fillna(df_pandas['Income'].mean())\n",
        "\n",
        "print(\"Pandas - Dataframe con datos nulos rellenados:\")\n",
        "print(df_pandas_filled_mean.isnull().sum())\n",
        "print(df_pandas_filled_mean['Name'].count())\n",
        "\n",
        "# Imputación con un valor específico (en este caso \"-1\" para los datos desconocidos,\n",
        "# y poder discernir de los datos con valor \"0\")\n",
        "df_pandas_filled_specific = df_pandas.fillna({'Income': -1})\n",
        "\n",
        "print(\"Pandas - Dataframe con datos nulos marcados:\")\n",
        "print(df_pandas_filled_specific.isnull().sum())\n",
        "print(df_pandas_filled_specific['Name'].count())"
      ],
      "metadata": {
        "id": "_ttJCmgl1AP1",
        "colab": {
          "base_uri": "https://localhost:8080/"
        },
        "outputId": "8f1d6d17-9097-442d-a3fb-515feb3e7278"
      },
      "execution_count": null,
      "outputs": [
        {
          "output_type": "stream",
          "name": "stdout",
          "text": [
            "Pandas - Dataframe original:\n",
            "Name        0\n",
            "Age         0\n",
            "Income    300\n",
            "Job         0\n",
            "Phone      50\n",
            "City        0\n",
            "dtype: int64\n",
            "5000000\n",
            "Pandas - Dataframe con datos nulos eliminados:\n",
            "Name      0\n",
            "Age       0\n",
            "Income    0\n",
            "Job       0\n",
            "Phone     0\n",
            "City      0\n",
            "dtype: int64\n",
            "4999650\n",
            "Pandas - Dataframe con datos nulos rellenados:\n",
            "Name      0\n",
            "Age       0\n",
            "Income    0\n",
            "Job       0\n",
            "Phone     0\n",
            "City      0\n",
            "dtype: int64\n",
            "5000000\n",
            "Pandas - Dataframe con datos nulos marcados:\n",
            "Name       0\n",
            "Age        0\n",
            "Income     0\n",
            "Job        0\n",
            "Phone     50\n",
            "City       0\n",
            "dtype: int64\n",
            "5000000\n"
          ]
        }
      ]
    },
    {
      "cell_type": "code",
      "source": [
        "# Polars: Estrategias de tratamiento de valores nulos\n",
        "# Imprimir datos originales para poder comparar los resultados\n",
        "print(\"Polar - Dataframe original:\")\n",
        "print(df_polars.null_count())\n",
        "print(df_polars['Name'].count())\n",
        "\n",
        "# Eliminación de filas con valores nulos\n",
        "df_polars_dropped = df_polars.drop_nulls()\n",
        "\n",
        "print(\"Polar - Dataframe con datos nulos eliminados:\")\n",
        "print(df_polars_dropped.null_count())\n",
        "print(df_polars_dropped['Name'].count())\n",
        "\n",
        "# Imputación con la media\n",
        "# Imputar la media a los valores nulos en \"columna_con_nulos\"\n",
        "df_polars_filled_mean = df_polars.with_columns(pl.col(\"Income\").fill_null(strategy=\"mean\"))\n",
        "\n",
        "print(\"Polar - Dataframe con datos nulos rellenados:\")\n",
        "print(df_polars_filled_mean.null_count())\n",
        "print(df_polars_filled_mean['Name'].count())\n",
        "\n",
        "# Imputación con un valor específico\n",
        "# Imputar el valor \"error\" a los valores nulos en \"Phone\"\n",
        "df_polar_filled_specific = df_polars.with_columns(pl.col(\"Phone\").fill_null(\"no disponible\"))\n",
        "\n",
        "print(\"Polar - Dataframe con datos nulos marcados:\")\n",
        "print(df_polar_filled_specific.null_count())\n",
        "print(df_polar_filled_specific['Name'].count())\n",
        "\n",
        "# Imputación con un valor específico\n",
        "# Imputar el valor \"error\" a los valores nulos en \"Phone\" pero al dataframe\n",
        "# donde ya se relleno \"Income\" con la media.\n",
        "\n",
        "df_polars_filled_mean_specific = df_polars_filled_mean.with_columns(pl.col(\"Phone\").fill_null(\"no disponible\"))\n",
        "\n",
        "print(\"Polar - Dataframe con datos nulos rellenoo y marcados:\")\n",
        "print(df_polars_filled_mean_specific.null_count())\n",
        "print(df_polars_filled_mean_specific['Name'].count())"
      ],
      "metadata": {
        "id": "vCAw8i9E3E46",
        "colab": {
          "base_uri": "https://localhost:8080/"
        },
        "outputId": "b65b7c96-e3ab-406e-daae-0f65ee608fc8"
      },
      "execution_count": null,
      "outputs": [
        {
          "output_type": "stream",
          "name": "stdout",
          "text": [
            "Polar - Dataframe original:\n",
            "shape: (1, 6)\n",
            "┌──────┬─────┬────────┬─────┬───────┬──────┐\n",
            "│ Name ┆ Age ┆ Income ┆ Job ┆ Phone ┆ City │\n",
            "│ ---  ┆ --- ┆ ---    ┆ --- ┆ ---   ┆ ---  │\n",
            "│ u32  ┆ u32 ┆ u32    ┆ u32 ┆ u32   ┆ u32  │\n",
            "╞══════╪═════╪════════╪═════╪═══════╪══════╡\n",
            "│ 0    ┆ 0   ┆ 300    ┆ 0   ┆ 50    ┆ 0    │\n",
            "└──────┴─────┴────────┴─────┴───────┴──────┘\n",
            "5000000\n",
            "Polar - Dataframe con datos nulos eliminados:\n",
            "shape: (1, 6)\n",
            "┌──────┬─────┬────────┬─────┬───────┬──────┐\n",
            "│ Name ┆ Age ┆ Income ┆ Job ┆ Phone ┆ City │\n",
            "│ ---  ┆ --- ┆ ---    ┆ --- ┆ ---   ┆ ---  │\n",
            "│ u32  ┆ u32 ┆ u32    ┆ u32 ┆ u32   ┆ u32  │\n",
            "╞══════╪═════╪════════╪═════╪═══════╪══════╡\n",
            "│ 0    ┆ 0   ┆ 0      ┆ 0   ┆ 0     ┆ 0    │\n",
            "└──────┴─────┴────────┴─────┴───────┴──────┘\n",
            "4999650\n",
            "Polar - Dataframe con datos nulos rellenados:\n",
            "shape: (1, 6)\n",
            "┌──────┬─────┬────────┬─────┬───────┬──────┐\n",
            "│ Name ┆ Age ┆ Income ┆ Job ┆ Phone ┆ City │\n",
            "│ ---  ┆ --- ┆ ---    ┆ --- ┆ ---   ┆ ---  │\n",
            "│ u32  ┆ u32 ┆ u32    ┆ u32 ┆ u32   ┆ u32  │\n",
            "╞══════╪═════╪════════╪═════╪═══════╪══════╡\n",
            "│ 0    ┆ 0   ┆ 0      ┆ 0   ┆ 50    ┆ 0    │\n",
            "└──────┴─────┴────────┴─────┴───────┴──────┘\n",
            "5000000\n",
            "Polar - Dataframe con datos nulos marcados:\n",
            "shape: (1, 6)\n",
            "┌──────┬─────┬────────┬─────┬───────┬──────┐\n",
            "│ Name ┆ Age ┆ Income ┆ Job ┆ Phone ┆ City │\n",
            "│ ---  ┆ --- ┆ ---    ┆ --- ┆ ---   ┆ ---  │\n",
            "│ u32  ┆ u32 ┆ u32    ┆ u32 ┆ u32   ┆ u32  │\n",
            "╞══════╪═════╪════════╪═════╪═══════╪══════╡\n",
            "│ 0    ┆ 0   ┆ 300    ┆ 0   ┆ 0     ┆ 0    │\n",
            "└──────┴─────┴────────┴─────┴───────┴──────┘\n",
            "5000000\n",
            "Polar - Dataframe con datos nulos rellenoo y marcados:\n",
            "shape: (1, 6)\n",
            "┌──────┬─────┬────────┬─────┬───────┬──────┐\n",
            "│ Name ┆ Age ┆ Income ┆ Job ┆ Phone ┆ City │\n",
            "│ ---  ┆ --- ┆ ---    ┆ --- ┆ ---   ┆ ---  │\n",
            "│ u32  ┆ u32 ┆ u32    ┆ u32 ┆ u32   ┆ u32  │\n",
            "╞══════╪═════╪════════╪═════╪═══════╪══════╡\n",
            "│ 0    ┆ 0   ┆ 0      ┆ 0   ┆ 0     ┆ 0    │\n",
            "└──────┴─────┴────────┴─────┴───────┴──────┘\n",
            "5000000\n"
          ]
        }
      ]
    },
    {
      "cell_type": "code",
      "source": [
        "from google.colab import drive\n",
        "drive.mount('/content/drive')"
      ],
      "metadata": {
        "colab": {
          "base_uri": "https://localhost:8080/"
        },
        "id": "-2ejXnFnakAX",
        "outputId": "9179e907-d655-4b83-a56e-331fed5fed1c"
      },
      "execution_count": 1,
      "outputs": [
        {
          "output_type": "stream",
          "name": "stdout",
          "text": [
            "Mounted at /content/drive\n"
          ]
        }
      ]
    },
    {
      "cell_type": "markdown",
      "source": [
        "4. **Comparación entre Pandas y Polars:**\n",
        "- Compara los resultados obtenidos utilizando Pandas y Polars en cada uno de los pasos anteriores."
      ],
      "metadata": {
        "id": "XIIjHZCs2RQ5"
      }
    },
    {
      "cell_type": "markdown",
      "source": [
        "En primer lugar se pudo observar que ambas librerias cumplen con la tareas solicitadas sin inconvenientes. Los datos obtenidos en ambos analisis coinciden en los resultados.\n",
        "\n",
        "En segundo lugar, se puede destacar que la libreria Polars tiene como caracteristica una mejor presentacion de los datos en pantalla, ya que les asigna un formato de tabla, lo que hace un poco mas facil su lectura."
      ],
      "metadata": {
        "id": "nUe1ircNsZ3D"
      }
    },
    {
      "cell_type": "markdown",
      "source": [
        "Tambien se realizo una comparacion en los tiempos de ejecucion, donde se comparan no solo los tiempos entre ambas librerias, sino tambien los tiempos empleados por los distintos entornos que brinda Colab para realizar las tareas. Los mismos se pueden observar en la siguiente imagen:\n",
        "\n",
        "![Tabla tiempos.jpg](data:image/jpeg;base64,/9j/4AAQSkZJRgABAQEAkACQAAD/2wBDAAIBAQIBAQICAgICAgICAwUDAwMDAwYEBAMFBwYHBwcGBwcICQsJCAgKCAcHCg0KCgsMDAwMBwkODw0MDgsMDAz/2wBDAQICAgMDAwYDAwYMCAcIDAwMDAwMDAwMDAwMDAwMDAwMDAwMDAwMDAwMDAwMDAwMDAwMDAwMDAwMDAwMDAwMDAz/wAARCAFnArcDASIAAhEBAxEB/8QAHwAAAQUBAQEBAQEAAAAAAAAAAAECAwQFBgcICQoL/8QAtRAAAgEDAwIEAwUFBAQAAAF9AQIDAAQRBRIhMUEGE1FhByJxFDKBkaEII0KxwRVS0fAkM2JyggkKFhcYGRolJicoKSo0NTY3ODk6Q0RFRkdISUpTVFVWV1hZWmNkZWZnaGlqc3R1dnd4eXqDhIWGh4iJipKTlJWWl5iZmqKjpKWmp6ipqrKztLW2t7i5usLDxMXGx8jJytLT1NXW19jZ2uHi4+Tl5ufo6erx8vP09fb3+Pn6/8QAHwEAAwEBAQEBAQEBAQAAAAAAAAECAwQFBgcICQoL/8QAtREAAgECBAQDBAcFBAQAAQJ3AAECAxEEBSExBhJBUQdhcRMiMoEIFEKRobHBCSMzUvAVYnLRChYkNOEl8RcYGRomJygpKjU2Nzg5OkNERUZHSElKU1RVVldYWVpjZGVmZ2hpanN0dXZ3eHl6goOEhYaHiImKkpOUlZaXmJmaoqOkpaanqKmqsrO0tba3uLm6wsPExcbHyMnK0tPU1dbX2Nna4uPk5ebn6Onq8vP09fb3+Pn6/9oADAMBAAIRAxEAPwD9hPjz+1rffCL47eC/CumfCf4kePvEXibQda1W3sfD9xocLQWtlcaVFPLI9/qNrHgSX9soVWZjuJ24Umq//DZHxF/6NO/aA/8ABv4I/wDmho+I3/KU34N/9kq8ef8Ap38GV9AUAfP/APw2R8Rf+jTv2gP/AAb+CP8A5oaP+GyPiL/0ad+0B/4N/BH/AM0NfQFFAHz/AP8ADZHxF/6NO/aA/wDBv4I/+aGj/hsj4i/9GnftAf8Ag38Ef/NDX0BRQB8//wDDZHxF/wCjTv2gP/Bv4I/+aGj/AIbI+Iv/AEad+0B/4N/BH/zQ19AUUAfP/wDw2R8Rf+jTv2gP/Bv4I/8Amho/4bI+Iv8A0ad+0B/4N/BH/wA0NfQFFAHz/wD8NkfEX/o079oD/wAG/gj/AOaGj/hsj4i/9GnftAf+DfwR/wDNDX0BRQB8/wD/AA2R8Rf+jTv2gP8Awb+CP/mho/4bI+Iv/Rp37QH/AIN/BH/zQ19AUUAfP/8Aw2R8Rf8Ao079oD/wb+CP/mho/wCGyPiL/wBGnftAf+DfwR/80NfQFFAHxt4d/wCCqGot8QPHmip+zX8fZNV8L61Dp+rW4vPCGbG4fTLG7SMsdeCuTb3NvJmMsoEoUkMrKu7/AMPPNc/6Nj/aA/8AA7wb/wDL+vO/Bv8AyeL+1N/2UbTv/UM8MV3lfQYXKaNSlGpJu79P8jwcVmlWnVlCKVl6/wCZY/4eea5/0bH+0B/4HeDf/l/R/wAPPNc/6Nj/AGgP/A7wb/8AL+q9FdH9iUO7/D/I5/7Zr9l+P+ZY/wCHnmuf9Gx/tAf+B3g3/wCX9H/DzzXP+jY/2gP/AAO8G/8Ay/qvRR/YlDu/w/yD+2a/Zfj/AJlj/h55rn/Rsf7QH/gd4N/+X9H/AA881z/o2P8AaA/8DvBv/wAv6r0Uf2JQ7v8AD/IP7Zr9l+P+ZY/4eea5/wBGx/tAf+B3g3/5f0f8PPNc/wCjY/2gP/A7wb/8v6r0Uf2JQ7v8P8g/tmv2X4/5lj/h55rn/Rsf7QH/AIHeDf8A5f0f8PPNc/6Nj/aA/wDA7wb/APL+vlHXf+CsnhGbxZrFj4J+HHxq+LOleHbt9P1PxB4K8K/2jpFrcxttlhSV5Y2uHjxlhbpLwRjOQDufHb/gpN4b+CuofDWxsfAnxS8fan8VtMuNW0TT/DejQteC3gjhkkM0N1PbvGwSZTtILDDBgCKwjluDlBVFJ2e3ndXVtNmk2ns1qtDb+0sVzcnKr6/hvfXddVufSX/DzzXP+jY/2gP/AAO8G/8Ay/o/4eea5/0bH+0B/wCB3g3/AOX9fNfgH/gp14A8efBb4m+Lm0fxxoOofB+ye+8WeFNa0gWHiDS0EDzoDA7+W3mxoxjZZSjY+8K9i0L4vab4g+CNn49hgvl0e+0NNfjhdFFyIHgE4UqGK+ZtOMbsZ745q5ZThVGU3J2ik27rRO7T262f3E/2piuZQ5VdtpKz3Vrrf+8vvR2X/DzzXP8Ao2P9oD/wO8G//L+j/h55rn/Rsf7QH/gd4N/+X9cH+zn8ddI/ac+BXhX4haDb6lZ6L4w06LVLOHUI0juoopBlRIqO6hvUKzD3NdpWssjop2bf4f5Gazqs1dJfj/mWP+Hnmuf9Gx/tAf8Agd4N/wDl/VHxB/wUq1/VbCOKP9mT4+qy3MEx3X/g7GI5kc/8x7rhTj3qt4q1xvDHhjUtSSwv9UfT7WW5WysUWS6uyilvKiVmUNI2NqgsASRyOtfI2of8FjrPSviVpvg64/Z0/aah8UavZTajZaY3hvTftFzbwsqyyqv9ocqrOoJ9WFYTyvCwlySk7v8A4Pl5N+iNoZliprmjFW/rz8z7Q/4eea5/0bH+0B/4HeDf/l/R/wAPPNc/6Nj/AGgP/A7wb/8AL+vOT+0RpOh/s6zfEzxVp+teBdFsdLk1bULPxBDHb3+mRICWSZEd1EnHCq7ZJAByaw/2Lf2xvDv7c3wX/wCE48M6R4n0LT11K60qSy8QWkdrfQT277JA8cckgXDcYLZ4OQDWn9j4d1HSUnzJXautr2vt30M/7WxCgqjirN2T13te2/Y9i/4eea5/0bH+0B/4HeDf/l/R/wAPPNc/6Nj/AGgP/A7wb/8AL+vK/wBp79rnwP8Ash+EbHVfGWo3Uc2sXQsNI0vT7OS+1TW7oj5be1tog0krnjoNq5G4qDmuB+Dv/BRS3+KPxK0fwzq3wZ+P3w9k14lLHUfFHhDydNkkClhG89vNMIGIBwJtgJGM54qY5ThnLkUne9um72W27utN9Vpqiv7UxKhzuKtv8u++3nsfSX/DzzXP+jY/2gP/AAO8G/8Ay/o/4eea5/0bH+0B/wCB3g3/AOX9fKXxO/4KpaL8PvjZ448D6b8Ifjn46u/h3LbRa5qHhbw/a6jZ2pnt0uEwPtSzN+7bOBFnKtgHHPXxf8FFfhvq3w4+Evi3RbjVfEPh/wCM3iCDw3oN1Y2yjybqQTZ+0LK6NGqNBIjgBmVhjaetKnleFmk4Serium8naPTq9EVPMsVBXlFbN9eiu+vRanv3/DzzXP8Ao2P9oD/wO8G//L+j/h55rn/Rsf7QH/gd4N/+X9eZ/tNftMaD+yn4D07xF4itNXvLLU9c0/QIk06KOSVZ724WCJmEjoPLDOCxBJAzgMeK43xf+1n4m8B/tyeC/hRqfgXTV8N/EC01G50fxLD4iMlyxsbaKaZZbH7MAnzShFInbIG7A+7TWU4Zy5VJ3u103S5rbdncn+1cRa/Ktr/K9u/f8m9ke/f8PPNc/wCjY/2gP/A7wb/8v6P+Hnmuf9Gx/tAf+B3g3/5f1XorT+xKHd/h/kZ/2zX7L8f8yx/w881z/o2P9oD/AMDvBv8A8v6P+Hnmuf8ARsf7QH/gd4N/+X9V6KP7Eod3+H+Qf2zX7L8f8yx/w881z/o2P9oD/wADvBv/AMv6P+Hnmuf9Gx/tAf8Agd4N/wDl/Veij+xKHd/h/kH9s1+y/H/Msf8ADzzXP+jY/wBoD/wO8G//AC/o/wCHnmuf9Gx/tAf+B3g3/wCX9V6KP7Eod3+H+Qf2zX7L8f8AMsf8PPNc/wCjY/2gP/A7wb/8v65fwB/wVruPE/ivxvZaf+zf8fbq78O61Hp+pxC68IobO4bTrK5WMltdAYmC4gfKFlxIBncGVegrxn9lj/kuP7SP/ZRbP/1EvDleHxDh44DC+3o6u6Wu2t+1jow+aVZtppbefdeZ7d/w851z/o2L9oD/AMD/AAb/APL+j/h5zrn/AEbF+0B/4H+Df/l/UdFfDf29iO0fuf8AmdH1+p2X9fMk/wCHnOuf9GxftAf+B/g3/wCX9H/DznXP+jYv2gP/AAP8G/8Ay/qOij+3sR2j9z/zD6/U7L+vmSf8POdc/wCjYv2gP/A/wb/8v6P+HnOuf9GxftAf+B/g3/5f1HRR/b2I7R+5/wCYfX6nZf18yT/h5zrn/RsX7QH/AIH+Df8A5f0f8POdc/6Ni/aA/wDA/wAG/wDy/qOij+3sR2j9z/zD6/U7L+vmSf8ADznXP+jYv2gP/A/wb/8AL+j/AIec65/0bF+0B/4H+Df/AJf1HRR/b2I7R+5/5h9fqdl/XzJP+HnOuf8ARsX7QH/gf4N/+X9H/DznXP8Ao2L9oD/wP8G//L+o6o+Kdcbwz4Z1HUksb/VG0+1kuVs7FFkursopbyolZlDSNjaoLAEkcjrSef4hK9l9z/zCOOqN2SX9fM0v+HnOuf8ARsX7QH/gf4N/+X9H/DznXP8Ao2L9oD/wP8G//L+vjLUf+CyFnpHxK03wdc/s5/tNw+KNYs5tQstMbw3pv2i5t4WVZZVX+0OVUuoJ/wBoV2fxe/4KYaZ8HD8NbK6+Evxn1bxP8ULO9vdO8NabpFlJq9itoIzMtzE92iqwWRWwjuMA5Iro/tTGaPljrt52vfr05XftZmn1qtflaV9/y8/NH01/w851z/o2L9oD/wAD/Bv/AMv6P+HnOuf9GxftAf8Agf4N/wDl/Xzf8P8A/gp14B8f/Bn4neLG0fxxoGpfB6xkv/FfhPW9IFh4g0uMQPOmYHk8tvNjRjGyylGx94da9i8O/F/TfE3wQsfH1vBfLo+oaHHr8cMiKLkQPAJwpUMV8zacYDEZ745rOrnWKppynFJK19H1Ta69Um15E/XK3MoWV22kvNWut/7y+9HQ+IP+Ck/iDVbCOKP9mP4+qy3MEx3X/g7GEmRz/wAx7rhTj3q7/wAPOdc/6Ni/aA/8D/Bv/wAv64X9nH476R+0/wDArwr8QtAt9Ss9F8X6dFqdnDqEaR3UUcgyBIqO6hvUKzD3rtqKmdYqEnCcUmtHo9/vM45hNq6t/XzJP+HnOuf9GxftAf8Agf4N/wDl/R/w851z/o2L9oD/AMD/AAb/APL+vGf2mf2ztJ/Zs13SdETwZ8SfiF4m1qF7qDRvBugNqNxHbIdrTyyO0cEUYbC/vJVZiQFBq7+yH+2L4Q/bV+Gt14k8JrrVi+lahLpGsaPrVibHVNCvosGS1uoCTskXcM4LDngnBxUc4xcoe0UVbvZ97d9r6X2vpuVLHVY/El/w6uuvVarutT1n/h5zrn/RsX7QH/gf4N/+X9H/AA851z/o2L9oD/wP8G//AC/rg/2i/wBojwz+y18J77xl4suLuLS7KSG2SGztnury+uJpFiht4IUBaSWSR1VVHrk4AJHnfwZ/4KCaH8UfjNpvw/1zwH8Tvhj4q17TpdU0W08X6TDbJrUEQUzeRLbzzx+ZGGUvE7JIoOStKnnOLmm4xTtfo+iu+vRavstXoV9crcvPZW/pd+7S9T6A/wCHnOuf9GxftAf+B/g3/wCX9H/DznXP+jYv2gP/AAP8G/8Ay/qOis/7exHaP3P/ADJ+v1Oy/r5kn/DznXP+jYv2gP8AwP8ABv8A8v6P+HnOuf8ARsX7QH/gf4N/+X9R0Uf29iO0fuf+YfX6nZf18yT/AIec65/0bF+0B/4H+Df/AJf0f8POdc/6Ni/aA/8AA/wb/wDL+o6KP7exHaP3P/MPr9Tsv6+ZJ/w851z/AKNi/aA/8D/Bv/y/o/4ec65/0bF+0B/4H+Df/l/UdFH9vYjtH7n/AJh9fqdl/XzJP+HnOuf9GxftAf8Agf4N/wDl/R/w851z/o2L9oD/AMD/AAb/APL+o6KP7exHaP3P/MPr9Tsv6+ZJ/wAPOdc/6Ni/aA/8D/Bv/wAv6P8Ah5zrn/RsX7QH/gf4N/8Al/UdFH9vYjtH7n/mH1+p2X9fM7r9kT9r1P2m4/iBcW3w+8d+FL7wr4mXRNS03XH0o3ME50vT7xSGtb2eFkaG7hYFZCckggEEUVxP/BMj/kff2nP+ypWv/qH+GaK+nw9RzpRm92k/vR6dOTlFSfY6z4jf8pTfg3/2Srx5/wCnfwZX0BXz/wDEb/lKb8G/+yVePP8A07+DK+gK2LCiiigAooooAKKKKACiiigAooooAKKKKACiiigD4P8ABv8AyeL+1N/2UbTv/UM8MV3lcH4N/wCTxf2pv+yjad/6hnhiu8r7TL/93h6Hx+P/AN4l6hRRRXYcYUUUUAFFFFABXn37Wn9tf8Mr/Er/AIRvf/wkH/CLan/ZmzO77T9kl8rGOc79uMc16DQRkVz4uh7ahOje3Mmr9rqxth63sqsatr8rTt6O585/8Eif7B/4dl/BH/hHPs39n/8ACKWfmeRt2/atn+lZ28b/ALR5u7PO7Oec15H/AMFEvHXij4c/8FLv2ZtV8H+B7z4ia9Do3itIdEtdUtdNknVoLUO/nXLLEuxctgnJxgc13Fz/AMEifCOh+JdYuPA/xQ+Onwr0HXrt7688M+D/ABb9h0bz5HLyvFG8UkluZGYlvIkjA4C7QBj1OH9izwlZ/FP4V+LLe88RR3nwg0m90bRIJNQ+0xTwXUMcMhuXmV5pXCxKQ3mA5JLbqqs6lepGrJcju27NO14yTtdWtdpLS9ru0WVT9nRvFPmVraprqrX1372dr9Wj5H+KnwC+Jd98Bv2v/jd8TtA0nwXrfxC+HMuj6Z4T0+/XU5tJsrKyuTvurmMCOWd2kJxHlUVQNzdvpz4YazZn/gmL4fv/ALVbfYR8MLeY3Hmr5IQaUpLbs4245znFe46tpNrr2lXVjfW8F5ZXsTQXEEyCSOeNgVZGU8MpBIIPBBr5Jt/+CL/w8tNNl8Ow+PvjZD8L5p2lPw7TxhIvhoRNy1qECfafsxOSYfP2EsTiuSthZeyq4eklyziop32adRtvq+Z1HJ26301RtTxEXUp1qm8JN+qappJdrKmlr089+2/4JJ2k1l/wTM+Bsc0UkMn/AAh9g211KnDRBlOD2III9QRXz7rH7Wviz9jXwJ+1R8PtW1jWvEXjDwjdx6v8OrjUb+W9vL+215hDp1urykyOLe+ZouWOFAAwFBr9ANE0Wz8NaNZ6bp9rb2On6fCltbW0EYjit4kUKiIo4VVUAADgAV8b/tSfssR/tHf8FcPgnrEnhXXV0b4ceH7vXdb102ksel6lKlzGdMsDNgJLLDc+bc+WSSowcfMa6MdB1q6UbpVOaL7qDXM2unMuRWe266mOCl7Ok3JK8OWS7OSdkn1s+Zr5pvRH03+zV8O9W+En7P3g3wzr2tap4k17RdHtrXUtU1K8kvLq/uljHnSvLIWZy0m45JPGB0FeAfFr/lNN8Hf+yaeIf/Suyr62rzvxF+zPoPib9p7w18WLi71dfEXhbQ73QLS2jljFlJBdSRSSNIpQuZAYV2kOAATkHgjWtzVK8KvZyb+cJrT5tGNK0KUqfdJL5Si/yTPkv/go/wDtqfCyP9r7wX8Gfid4y03wj4F8OwweN/FK6gsnl+IZo5c6dpgVVYSRCWM3EwYbSIYVySzAWP8AghZ+0z4D+LPw1+JXh3w74ksdV1qHx94h8QPaRK4kWwu9Qdre4+ZQNsikEc59QK+8K87/AGaf2Z9B/ZY8Ia1ovh+71e8tdd8Q6j4kuH1GWOSRLi9naeVFKIgEYZiFBBYDqzHmscNRnTruc3dOM+lneUoNdXsoJX0Vo7XlddFetCdFQimmnHrppGab2W7k31eu9opHzt8TniuP+C7Hwyh8SR27aZD8K9Um8JG65Uaub6MXZgBOBMLPAJAB8tjyR0s/E/8Aad+PvwB/ba+FfhHxQ3wf1T4d/FfxNf6RYf2Vpmow61ZW0NvLPE0skly0JkwIw22MqTuwFyCPcv2rP2O/A/7ZHg3T9J8Y2moJcaJdjUdG1fSr2Sw1XQ7sDAntbiMho3HpypwMqcDHnPwr/wCCXnhrwL8YvDXjjxJ8SPjP8VNa8FtJJoCeM/E4vbXSZXjMTTRwwxQq0hRmXfIHJzzkhSIp06sXCC0UZtt94ufPJNfzWbguiVpXWyqpVpyjKT3cbJW2ko8sWn2vaT63urPd+AfD74zfFb4X/wDBRj9rG1+GfwauPihNqGr6B5123iex0a00qQaTGE84Tt5rqcliYkYgIR1IrG8Zfsx6x+xp8Dv2RfDfi7U9JvPEE3x3ttY1q4sFMWnQ3l+b+cwwbsHy1aQRruwWIzgZAH3X8Kv2ZtB+EHxn+JPjrTbvV59W+KV3ZXmqw3MsbW9u9pbC3jECqisoKDLb2cluhA4q3+0f+zd4P/aw+E9/4L8caX/amiXzpMAkrQXFpPG26KeGVCHjlRhlWUg9QcgkFU8PKnCnNe9OPs9+0JQm4qytZuC1ab0V3uE8RGblDaMlJad5QlBSd+yk9NFq/K3gf/BZY+d+zb4ItU+a6vvid4Vht4RzJcP/AGnE21F6s2FJwOcAntV79qH/AJSlfsr/APYN8Zf+kVnWl8I/+CYHhX4ffEnw/wCKvE/xA+L3xc1Twewl8Pp478SDUrXRZwpQXEUMcUSNOFJHmyh3GchsgEVfiv4B8f8AxK/4KbfCHxBB4B1Kz8B/DOw12K78TzanYG2vnv7O3WNYrdZzdDbJGyMXiUZ5GV5q6cHGav8AanKXovZqOr2vdfikieZOWm0Y29XeT0Xb3l57tpI+oKKKK6zlCiiigAooooAKKKKACvGf2WP+S4/tI/8AZRbP/wBRLw5Xs1eM/ssf8lx/aR/7KLZ/+ol4cr5HjX/kXf8Aby/U7MH8UvT9Ue1UUUV+SnYFFFFABRRRQAUUUUAFFFFABRRRQB8j/GD/AJTSfBj/ALJv4i/9KrKuP/4KL+OvFHw5/wCClP7Meq+D/A958RNeh0nxWsOiWup2umyXCtb2odhNcssS7Fy2CcnGBzX1H4k/Zl0HxR+094Z+LFxd6uniLwpol7oNpbRyxiykgupIpJGkUoXLgxLtIcAAnIPGDx7+zLoPxE/aK8A/E29u9Xi174c2upWmmwQSxrZzpfRxxymZShdiBGu3a64JOd3brw9aMPY3+yqif/b3tbL586v217G0qi55Ste6ivuUU/yZ8YfFD4BfEzUfgb+198cPid4f0nwVrXxA+G82jaX4T0+/XU5tKsrKyuTvu7mMCOWd2kJxFlUVQNzdvpr4SazZn/gmF4bv/tVt9hHwwtpjc+avkhBpSktuzjbjnOcV7lqul2uu6Xc2N7bw3lneRNBPBMgkjmjYFWRlPDKQSCDwQa+SIP8Agi78O7TTpvDsPj743W/wvmuGlb4dxeMJE8NCNuWtggT7T9mY5Jh8/YSxOKipUjWo1KEvdUlFKyulbnv1vrzXvd3d72NIVl7SFae8W363VNJLorKCXp579r/wSOtJrL/gmX8D45opIX/4RGxfa6lTtaMMpwexBBB7gg18/wCpftdeJ/2OfAX7VngHWNa17X/GXg+/Gq/D19UvJru7v7TXdsOmwRySszyLBfu8P3vlCgcAV+gGhaHZ+GNEs9N021t7HT9PgS2tbaCMRxW8SKFREUcKqqAABwAK8S+PX/BO74f/ALRv7UHw/wDi14gk15PEXw8Ci1tbS6SKw1QRzfaLcXcZjLSiCf8AexhXUB+TuHFbVK1Kti5zqpqFRyv3SbUtP72iXzZz4WXsqSUtZRs0ujlHSz/utN/Oz6CH4n6f/wAE8/2HPDt58SvEeteItU8N6RaafcT3FzJqOr+J9WaMAW8G9jJcXE825UXJ68kKpI86/Yd+E3xC/Zb/AGdPHnxA1zwLeeJfih8XfFlx411Lwjo17Z28uli6aNI7IT3UsMLNBCoZyzjLl1XdgE9r+15/wTj0P9sL4u+D/G2ofEL4peDtZ8CQyx6OPDOpWlvDaySk+ZcBZ7WbbOVwm9SDtUD1z3H7NP7NN5+znbavHdfE/wCKPxJ/tZomV/GWpW161hsDDEBht4dobd827dnauMY5XtlKNSrJpTm9VbS3MnZerSb7JJK2rde7ClClHVKzd920ml9yb9W79EfOv/BQr4rp8Tv2LobL4hfDfx94C8a+IPGOnaR4C0mDVdLuNUn14Ok1hdRzwTz2sUSyK+8zNwkcnyksmeJ+CQ+K3w1/4KHfDG4/aqXSPEHizXtFu9D+HWs+EJtuhWF19nE2oR3Vs8aTC7ljiGJgWhKjaqRnJH2Z+03+y94V/a0+HMPhvxXHqEcdjqEGr6Zf6bdtZ6ho9/AxaC7tpl5jlQk4PI5IIIJFcR8Kf+Cf2i+A/i9o/jrxJ48+JnxS8TeGYJYNCuPF+qW88Wh+dH5czwQW0EEQlePKtK6M5UkbqvC4inCLurXcu70cFH3ddJPXmfVW3S5Sqkoyp8q7fO/Nda/yrTT/ABdXc97ooorzzEKKKKACiiigAooooAKKKKACiiigCT/gmR/yPv7Tn/ZUrX/1D/DNFH/BMj/kff2nP+ypWv8A6h/hmivv8H/u8P8ACvyPoKP8OPojovGenTWH/BU34Pedf3d9u+FXjvHnLENmNX8G9NiL1989K+iq+f8A4jf8pTfg3/2Srx5/6d/BlfQFdJoFFFFABRRRQAUUUUAFFFFABRRRQAUUUUAFFFFAH5m+Jvgx4k+Iv7c/7UF9o/xb+IXgK1i8e6ZA2n6FZ6HNbzOPB3htjMxvtOuZd5DBSFkCYRcKDuLav/DLXjn/AKOS+NP/AILPCP8A8pK63wb/AMni/tTf9lG07/1DPDFd5X2OApp4eD127s+Rx1RqvJab9keLf8MteOf+jkvjT/4LPCP/AMpKP+GWvHP/AEcl8af/AAWeEf8A5SV7TRXX7Jef3v8AzOX2j8vuX+R4t/wy145/6OS+NP8A4LPCP/yko/4Za8c/9HJfGn/wWeEf/lJXtNfFmqftK/tNfF79rD40+DPhTH8C4ND+E95ptrFF4psNU+2akbqxS5wZ7e42L8xdd3lcDbw3NY1JRhLl1ejel3orefmjSmpT10Xql/ke1f8ADLXjn/o5L40/+Czwj/8AKSj/AIZa8c/9HJfGn/wWeEf/AJSVmfsqft7+Hfjd+yFp/wAU/Gkmj/DGOG5utL12HWdUigtNJvra4e2mj+0SFEZTJGSp4yGA65r1n4efGHwj8XPBv/CR+E/FPhzxP4ey6/2ppOpQ3tnlPvjzo2ZPl788d60SptXjK6sndSbVmrp77NNNPZrUluonZrW7Wy3Ts1tumjzn/hlrxz/0cl8af/BZ4R/+UlH/AAy145/6OS+NP/gs8I//ACkrqNN/a1+FWteJ9C0Sz+Jnw+u9a8UW8d3o1hD4is5LrV4ZMlJbeMSbpkba2GQEHacHit34ofGPwj8EPDf9s+NPFXhvwho/mLD9u1vU4dPtt7dF8yVlXcewzk0OMEuZvTbd77W37hzTva3nsv8AI86/4Za8c/8ARyXxp/8ABZ4R/wDlJR/wy145/wCjkvjT/wCCzwj/APKSuQ/Zb/aa1r4zft3/AB48Nr4kste8A+F9K8L3/hoWi28lvGt9a3Es0iTxrumWQojAs7AAfLgE59d8IftSfDL4g/EO58I6D8RvAmueLLPzPtGi6fr9pc6jB5f399ukhkXb3yvHephySstbu+l3fTfS/Qc+eMnHTTld7K3vRUl07NfM5H/hlrxz/wBHJfGn/wAFnhH/AOUlH/DLXjn/AKOS+NP/AILPCP8A8pK7P4o/tLfDn4Hatp9h41+IHgnwffasM2NtreuWunzXnIX92szqX5IHyg8nFdqjiRAykMrDII6EVcacXs397/zJlOStdb+S/wAjxf8A4Za8c/8ARyXxp/8ABZ4R/wDlJR/wy145/wCjkvjT/wCCzwj/APKSvaaKfsl5/e/8xe0fl9y/yPFv+GWvHP8A0cl8af8AwWeEf/lJXn37TXwy+JXwY+G+m6xpf7RfxcuLq88V+G9CdbrSfCjRiDUdcsNPnYBdGU71hupGQ5wHCkhgCp+qq8W/b3/5Ibof/ZRfAv8A6lukVFSmlBtX27v/ADLp1G5pO2/Zf5B/wy145/6OS+NP/gs8I/8Ayko/4Za8c/8ARyXxp/8ABZ4R/wDlJXtNFX7Jef3v/Mj2j8vuX+R4t/wy145/6OS+NP8A4LPCP/yko/4Za8c/9HJfGn/wWeEf/lJXtNFHsl5/e/8AMPaPy+5f5Hi3/DLXjn/o5L40/wDgs8I//KSj/hlrxz/0cl8af/BZ4R/+Ule018i/H39pH496z+3ne/B/4Qt8IbG10vwRb+K57rxhpuo3MkryXktsY1a1uIwF+RDyhP3uTwKyqcsHGOrcm0rN9E5Pr2TZpT5pJy0SVr3S6tRXTu0eo/8ADLXjn/o5L40/+Czwj/8AKSj/AIZa8c/9HJfGn/wWeEf/AJSVkfsN/tf6z+0B4N8d2fxC0XSfB/jj4U6/P4d8Tx2V402lu8USTLd28sgVhBJHIGAk+ZQDur0r4TftLfDn4+XN5D4F+IHgnxpNpwDXaaDrlrqTWoJwDIIXYrk+uKuMacknF35kmtXqmrp79v8Agkyc4tqS2dnot07W2OM/4Za8c/8ARyXxp/8ABZ4R/wDlJR/wy145/wCjkvjT/wCCzwj/APKSub/ZM/aA8S/EL9pz9pTQ/Emsx3Hh/wCHfiWwsdFjkghgXTbaTTIJ5AXVVZwZHZt0jMRnGQBivVfhX+018N/jrqt/YeCPiD4H8ZX2lqHvbfQ9dtdQlswTtBkWF2KDII+YDkYqafJUjFxb96Kla7vZq/f7xz54uSaWja2Vrp27HHf8MteOf+jkvjT/AOCzwj/8pKP+GWvHP/RyXxp/8FnhH/5SV1/iP9qD4aeD9f8A7J1b4ieBdL1T+0k0b7Hea9awXH250SRLXY0gbz2SSNhHjcVdSBgjL/Ev7THw38F/Emz8G6x8QPBGk+MNSMa2mhXmu2sGpXRk4QR27OJG3HphTntVcsHaz30Wr169+zT+Yrz3t+C9O3c43/hlrxz/ANHJfGn/AMFnhH/5SUf8MteOf+jkvjT/AOCzwj/8pK9poqvZLz+9/wCZPtH5fcv8jxb/AIZa8c/9HJfGn/wWeEf/AJSUf8MteOf+jkvjT/4LPCP/AMpK9poo9kvP73/mHtH5fcv8jxb/AIZa8c/9HJfGn/wWeEf/AJSV5N+zb+zd4y1D4xfH+GH9oD4uWMlj49tYJ54NO8LtJqLnwvoMgmlD6OyhwrrEBEsabIUJUuXd/sKvGf2WP+S4/tI/9lFs/wD1EvDlfKcZR5Mvuv5lvr37nVg6jcntt2XdB/wyz45/6OS+NX/gs8I//KOj/hlnxz/0cl8av/BZ4R/+Ude1UV+Ve2l5fcv8js5n/SR4r/wyz45/6OS+NX/gs8I//KOj/hlnxz/0cl8av/BZ4R/+Ude1UUe2l5fcv8g5n/SR4r/wyz45/wCjkvjV/wCCzwj/APKOj/hlnxz/ANHJfGr/AMFnhH/5R14tq/7Sv7TXxd/a0+NHgr4Up8C7fQ/hPd6ZbRR+KrDVPtmom7sUucGe3uNi/NvXd5XAK8NzXqv7KX7fHh343/shWPxS8bSaP8MVt7q60rXodZ1SKG00m+tbh7aaP7RIURlLxkqcjIYDqDW7jNU1U02i7WV7SSadrdbr0bSe6vpOMo9nrbRdbXt9yf3M1P8Ahlnxz/0cl8av/BZ4R/8AlHR/wyz45/6OS+NX/gs8I/8Ayjr0f4d/GLwj8XvBv/CReE/FXhzxR4f3Ov8AamkalDe2eU++POiZkyvfnjvWBpv7W/wp1nxPoWiWfxO+Ht1rPii3S70awh8RWcl1q8L52SW8Yk3TI21sMgIO046VF6nNy8uvov8ALyf3E80t7fh2OX/4ZZ8c/wDRyXxq/wDBZ4R/+UdH/DLPjn/o5L41f+Czwj/8o69H+KHxi8I/BDw1/bXjTxV4c8IaP5ixfbtb1KHT7be33V8yVlXcewzk14V+y5+05rXxn/b0+PHhqPxJY694A8L6P4X1Dw0tmtvJbxi+tbmSaVJ413TLIURgWdgAPlwCclPnmpSVrRV3ovLTbfUPe5HPtZ7b3ko6fNq513/DLPjn/o5L41f+Czwj/wDKOj/hlnxz/wBHJfGr/wAFnhH/AOUddd4R/al+GPxA+Ilz4Q0H4jeA9b8WWfmfaNEsNftLnUYPL+/vt0kMi7e+V471N8U/2lvhz8DNV0+x8bfEDwT4PvtWGbG31zXLXT5bwZC/u1mdS/JA+UHk0uao2klvtotfTTUPeva34HF/8Ms+Of8Ao5L41f8Ags8I/wDyjo/4ZZ8c/wDRyXxq/wDBZ4R/+Ude0o6yIrKQysMgg8EUtR7WXl9y/wAifaX1X5I8V/4ZZ8c/9HJfGr/wWeEf/lHR/wAMs+Of+jkvjV/4LPCP/wAo69qoo9tLy+5f5BzP+kj5T/ab+GXxK+C/w207WNL/AGjPi5cXV54r8N6E63Wk+FGjEGo65YafOwC6Kp3rDdSMhzgOFJDAFT6F/wAMs+Of+jkvjV/4LPCP/wAo6P2+f+SF6J/2UTwN/wCpbpFe1Vo6j9mnZbvovLyK5nb/AICPFf8Ahlnxz/0cl8av/BZ4R/8AlHR/wyz45/6OS+NX/gs8I/8Ayjr2qis/bS8vuX+RPM/6SPFf+GWfHP8A0cl8av8AwWeEf/lHR/wyz45/6OS+NX/gs8I//KOvaqKPbS8vuX+Qcz/pI8V/4ZZ8c/8ARyXxq/8ABZ4R/wDlHR/wyz45/wCjkvjV/wCCzwj/APKOvL/2gP2kfj1q/wC3ndfB/wCELfCGxtdN8D2/iye68YabqNzJK8l5LbGNWtbiMBflQ8oT97k8Cu5/YZ/bA1r9oDwj48sfiFomkeEPHPwo1+fw94mjsbxptKkaOJJlvLeWQKwgkjkDASfMoB3VsozdP2mlrN7K9lLlb225tPmaVIyho7dF85R5kvmtfw3Nf/hlnxz/ANHJfGr/AMFnhH/5R0f8Ms+Of+jkvjV/4LPCP/yjrtPhN+0x8N/j5dXkHgX4geCfGk2nANdx6DrtrqTWoJwDIIXYrk8c4ryf9k79oDxN8Qv2o/2lNB8SazHceHvh34i0+y0WJ4IYF022k0yGeUGRVVnBkZm3SMxGcAgDFTHnfNey5Y8zultzRj27yXyuS20r+aW3Vpv9DpP+GWfHP/RyXxq/8FnhH/5R0f8ADLPjn/o5L41f+Czwj/8AKOuy+Ff7Tfw2+Our3+n+CPiF4H8ZX2lqHvbbQ9dtdQms1J2gyJC7FBkEZYDkYpviT9qH4Z+Dde/srWPiJ4F0nVP7RTR/sd5r1rBcfbnRJEtdjSBvOZJI2EeNxV1IGCKP3t+Xl1/wr/ILy7fh8/yOP/4ZZ8c/9HJfGr/wWeEf/lHR/wAMs+Of+jkvjV/4LPCP/wAo67PxP+0z8N/BPxIsvButfEHwRpHjDUjGtpod7rtrb6ldGQ4QR27uJG3HgYU57V29T7Sduays/Jf5CcmnZ/keK/8ADLPjn/o5L41f+Czwj/8AKOj/AIZZ8c/9HJfGr/wWeEf/AJR17VRU+2l5fcv8hcz/AKSPFf8Ahlnxz/0cl8av/BZ4R/8AlHR/wyz45/6OS+NX/gs8I/8Ayjr2qij20vL7l/kHM/6SOb/4JLeANW8Man+0fp99448UeIru1+KEAl1PUYNOjurwt4S8OMDItvaxQgqrBBsjQbUXOW3MxXUf8EyP+R9/ac/7Kla/+of4Zor7zB60IPyX5HvUf4cfRHWfEb/lKb8G/wDslXjz/wBO/gyvoCvkX9p79qP4Z/Ab/gpJ8F9d8c/EXwL4L0Sb4a+ObCPUNd1+1061e4fVPCDpCJZpFQyMkUrBAckRuQMKcd1/w9i/ZZ/6OW/Z/wD/AA4ekf8AyRXQaH0BRXz/AP8AD2L9ln/o5b9n/wD8OHpH/wAkUf8AD2L9ln/o5b9n/wD8OHpH/wAkUAfQFFfP/wDw9i/ZZ/6OW/Z//wDDh6R/8kUf8PYv2Wf+jlv2f/8Aw4ekf/JFAH0BRXz/AP8AD2L9ln/o5b9n/wD8OHpH/wAkUf8AD2L9ln/o5b9n/wD8OHpH/wAkUAfQFFfP/wDw9i/ZZ/6OW/Z//wDDh6R/8kUf8PYv2Wf+jlv2f/8Aw4ekf/JFAH0BRXz/AP8AD2L9ln/o5b9n/wD8OHpH/wAkUf8AD2L9ln/o5b9n/wD8OHpH/wAkUAfQFFfP/wDw9i/ZZ/6OW/Z//wDDh6R/8kUf8PYv2Wf+jlv2f/8Aw4ekf/JFAH0BRXz/AP8AD2L9ln/o5b9n/wD8OHpH/wAkUf8AD2L9ln/o5b9n/wD8OHpH/wAkUAeH+Df+Txf2pv8Aso2nf+oZ4YrvK+YfCn/BQ/8AZ/tv2rP2kdRk+OXwdj0/XfHtheabdN4z04Q6hAvhLw7btLC/nYkQTQTRFlJAeGRc7lYDtf8Ah5H+zt/0Xz4Lf+Fvpn/x6vscBUgsPBNrY+Rx1ObryaT3PaaK8W/4eR/s7f8ARfPgt/4W+mf/AB6j/h5H+zt/0Xz4Lf8Ahb6Z/wDHq6/bQ7r7zl9lPs/uPaa/Of4e/Bv4sfFv/gov+1lD8OvjFb/CvT01fQItTC+EoNZu7zdpMeHhlmmVYGVQwB8txlgccYr6v/4eR/s7f9F8+C3/AIW+mf8Ax6sjQv25P2WPC/iLWNY034wfs/6dq3iKSOXVb218V6RDcam8aeXG08iyhpSifKpckheBgVhUjSnNSlLSzW9t3F9HqtHozam6kItRjq7dL7eqPDfjp4J8G/8ABPv4ffAX4L+Efh/4P8feINc1jUX8P618SNRWKw07UFja5udQurkwSM11K0pCpEiu2WCkBcVxv/BMjxRqms/tPftk2+pSfC9ZvseiXN1bfDy+e88Px3jWV5HMyO6IfPPlKJflB3qc5OSfpn4n/ti/sk/G7wudD8afFT9nTxdorSrOdP1rxLo2oWpkXO1/LlkZdwycHGRmoPBH7WH7H/wyjul8N/Er9m3w+t7ZwafcDTfEOi2gntoFZYYH8uQbo41dwiH5VDsABk1zVqKn7T3l7yklsrJxSW3ay06q23KkdNOs4xilB3TTb1bbU+ZvXutPvevMz4Ln/Zm+HvhD/g2z0vxxpvg3w7a+NYdF0/xBH4gWyQ6ol+NRiCzi5IMoZV+QDdtCfIAF4r6W/afvPA11/wAFb/hbF8aG8Nt4KHw1vpfCY8SiL+y/7cN7D9qIM37r7R9lWLbnkDOOStevS/tYfsfz/CtfAsnxK/ZtfwSsK2y+Hm8Q6KdKWJWDrGLbzPK2hgGC7cAjPWnfFH9rj9kP44eG49G8a/E79m/xho8Mqzx2Ot+I9F1C2SRQQriOaRlDAEgEDIya6KvI63tYNWUrpPb4XD70mmn3ijGnKfslTmne0k311cGvxi0/KT7s+Z/2FPGXwh8B/tV/tveJfhnpui6t8NdM0PRdSltPDUAex1ForPUWu0tVUeW4eRJF/dfuy2cd68Z+I/xh1Txi/wCyXr2m+Ef2Z/ht4X1j4j+Hr7wxo/hDXTdeKrC0nm8uaJkjtoofKKybZ9hIDFAQW5H6DeEv2zP2TfAOp3V7oPxW/Z30W8vre3tLmew8TaNbS3EMAZYInZJQWSMOwRTkIGIAGTXLeHvi3+wv4R1Ga80nxN+ydpd5dXsOpzT2mo+H4ZJbuGQyQ3DMrAmWOQl1c/MrEkEHmsadKMKtOXOrQdN9PsT5vxVklf3baXuzWpWcvaPkd5JrvvTUPv0bbt71+h5d+3FpGl/s5fGL4vfHLQNY+CvxEjXRbO28eeA/GU1ut7BBaQFo4bO5G8wSzxupFvPCyysykHJAr7n+GfimHxx8OPD+tW9jcaXb6xpttex2U8YjltFliVxE6jhWUNtIHQivnTxd8e/2J/H/AMQoPF2veNP2Wdb8V2pQw61f6voNzqEJT7hWd3Mg29sNx2rvf+Hkf7O3/RfPgt/4W+mf/Hq2wvJSjJOS1d1rtu3ru+Zu9n8OqTaenPiFKpKMknorPTfSKWnSyVr/AGtLq619porxb/h5H+zt/wBF8+C3/hb6Z/8AHqP+Hkf7O3/RfPgt/wCFvpn/AMero9tDuvvMfZT7P7j2mvFv29/+SG6H/wBlF8C/+pbpFH/DyP8AZ2/6L58Fv/C30z/49Xkf7bH7f/wH8V/BvR7XS/jZ8I9SuovHvgy8eG18YafNIkEHijS555SqzEhI4Y5JHboqIzEgAkZ1a0OR6rZ9TSlTnzrR7rofYtFeLf8ADyP9nb/ovnwW/wDC30z/AOPUf8PI/wBnb/ovnwW/8LfTP/j1ae2h3X3mfsp9n9x7TRXi3/DyP9nb/ovnwW/8LfTP/j1H/DyP9nb/AKL58Fv/AAt9M/8Aj1Htod194eyn2f3HtNfAPxv+HnxI+I//AAWe120+GvxI0/4Z6pF8IrGS6v7rwxHr32iH+1bgeWsck0SoQxDbst93GOa+lf8Ah5H+zt/0Xz4Lf+Fvpn/x6siL9uT9liDxzN4oT4wfs/p4luLJdNl1ZfFekC+ktVcyLA03m7zEHJYITtDEnGaxqeznUhJy0i29HZ6wlHdNdZJvuro2p+0hCcVHWSS1V1pOMtmu0beup8u/ty/si6L+x1+xdo9hrXiDX/FXhvxv8XNG1v4x+I9UbbLrNlPOFuHuBCAsNqJFtk8tcKiDAJJyb37QB+EEv7fX7LC/AIfD9vHMWu3L6r/whYttq+GTZyC5N0bX5PJzsEXmcbt2zndX1Hq3/BQ79mvXtLubG++OXwOvLK8iaC4t5/GelyRTxsCGR1aYhlIJBBGCDXJfCb9pL9jH4CSXj+BfH37MPgt9Qx9qbQdb0PTTc46b/Jdd2PfNZwjCNRO8bKUZK1k1yqKUF05bRs12lJW1uaOc3BpqV3GUfJ83M3J/3ve+do9jwC++L/h/4DX37f8A4r8VeEYfHmg6X4k0n7XoE4T7Pqgk0uziWOYurKsW51LsysqoGJBAxXHeF/GfiWT/AIKtfsux6tp37Ovht7qz1yC30/4a6y99fppr6W8sUN6DBEnkK0amMoChZXK4Gc/Y1r+2d+ydY3HiGaH4sfs7wy+Lm3a66eJ9HVtaPliLNyRL++PlgJ+83fKNvTiud+H/AMcP2IfhPc2M3hXxh+yr4Zm0y5kvbOTStV0Cza0nki8mSWMxspSRoiYyy4JQ7SccVnRpqE6cnNe5GC6fZi4v776fNW1bLnUbhOKg7yc9f8S0+59t9Hf3UcD+xj+zx4F+If8AwUc/a08VeIPCPh/XvEGneK9Is7O91GyS6ks4l0u2mAi8wERnzMMWUBiVXJO1ccT8XdS0b9hn4l+MfiJotz8HPjV4F8efES3n1zRLtrY+LdG1ia5htvKsZl8xLpreUBxbSJHLHsYBxgsPp7w/+3J+yx4T1zWNT0v4wfs/6bqXiKdLnVbu08V6RDPqcqII1kndZQ0rKihQzkkKAOgrmbX49/sT2PxRbxxD40/ZZh8aSSmdvECavoK6o0h4Lm5D+buPc7s1VOnCCopSX7tJPXdLlclbb3nHfdOzWpE5zn7TmT95t/nbXfROy6W0asfU1FeLf8PI/wBnb/ovnwW/8LfTP/j1H/DyP9nb/ovnwW/8LfTP/j1dntod195y+yn2f3HtNFeLf8PI/wBnb/ovnwW/8LfTP/j1H/DyP9nb/ovnwW/8LfTP/j1Htod194eyn2f3HtNeM/ssf8lx/aR/7KLZ/wDqJeHKZ/w8j/Z2/wCi+fBb/wALfTP/AI9Xk37Nv/BQD4D6F8Yvj/dX3xs+Ednbaz49tbzT5p/GGnRx30A8L6DAZYmMwEiCaGaMsuQHidc5UgfKcZSU8vtDV8y2+Z1YOnNSd09v1R9jUV4r/wAPJf2df+i+fBX/AMLfTP8A49R/w8l/Z1/6L58Ff/C30z/49X5V7Gp/K/uOzkl2PaqK8V/4eS/s6/8ARfPgr/4W+mf/AB6j/h5L+zr/ANF8+Cv/AIW+mf8Ax6j2NT+V/cHJLsfKPgH4N/Fj4t/8FHv2sofhz8Yrf4V2Car4ei1Pb4Sg1q7vN2kpteGWaZFgZVDAHy3GWBxxiul+Ovgjwb/wT4+HXwH+DPhP4f8AhD4geINe1nUG0DW/iRqKRWGnagsbXNzqN1cmCRmuZWlIVIlV23MFIC4r3PQ/25f2V/DHiPWNY034w/s/6fq/iJ4pdVvrbxXpENzqbxJ5cbTyLKGlKJ8qlydq8DAqn8T/ANsf9kn43eF20Pxp8VP2c/F2itKs50/WvEujahamRc7X8qWRl3DJwcZGa6+epaEOV8qUE9NXyxS33te7Svptp06FUk580lp71lbq00nZWu1frvqno3f5m/4Jj+KNV1n9qj9si31KT4XLN9h0O5urb4eXz3mgR3jWd7HMyO6IfPPlKJflB3qc5OSfHJP2Zfh74R/4NrbDxxp3g3w7a+NYdEsfECeIFskOqJfrqMYWcXJBlDKvyABtoT5AAvFfengf9rH9j/4Ypcr4b+Jf7Nfh5byzg0+4GmeIdFtBPbQBlhgfy5BujjV3CIflUOwAGTRL+1h+x/P8K18Cv8Sv2a38ELCtsPDzeIdEOlCIMHEf2bzPK2hgGC7cAjPWuj6xOM+aEWv4XS2lLm/O6aXS3kVGq1WjUlH3U7td7xgmvO/K79+bzZ5F+1DeeBrr/grX8KYvjQ3ht/BP/Ctb+bwoPEoi/ss66b2H7SR537r7R9lEW3PIGccla4f9hPxh8IPAn7W37bniT4Y6bourfDbTNB0TUpbTw1AHsNReKz1FrtLVVHluHkSRf3WYy2cZ5r6Z+KP7XP7Ifxw8NR6L40+J37N/jDR4ZVnjsNb8R6LqFskighXEc0jKGAJAIGRk1P4R/bN/ZM8AandXug/Fb9nbRLy+trezuZ7DxPo1tLcQQBhBE7JKCyRh3CKchAzYAyaw5p/V5UVFp8sort70+e7VtbbW62T8iKcmoKMk3/Dv/wBuOO3VOXK3fo29He6/Pj4lfGTU/Gkf7Juv6b4Q/Zn+GvhfWPiR4dvvDGj+Ede+1eK7C1nn8uaJo47aKHyism2fYSAxQMC3I+jv25NG0v8AZ2+Mvxd+OXh/WPgp8RFTRLO18d+AvGc1ut5BBaQM0cVncjeYJZ43Ui3nhZZWZSDyBXqHh74ufsL+EtSuLzSfE/7JumXl1ew6lNPaaj4fhkmuoZDLDcMysCZY5CXVz8ysSQQeaueL/j5+xL8QviDb+Ltf8afss654qtShh1rUNX0G51CEp9zbO7mRdvbDcdq2qVb2UINWlJ7N6SUVZ33+Fpu6bunoylP3uaSbXKo2Wl7Sct946u91d3XVM+ivhh4rh8d/DXw7rlvYXGlW+saZbX0VlOgjls1liVxE6jhWUNtIHQityvFf+Hkv7Ov/AEXz4K/+Fvpn/wAeo/4eS/s6/wDRfPgr/wCFvpn/AMerhqU5ym5Rg0r7au3z6nJTpTjFRer9LHtVFeK/8PJf2df+i+fBX/wt9M/+PUf8PJf2df8AovnwV/8AC30z/wCPVn7Gp/K/uK5Jdg/b5/5IXon/AGUTwN/6lukV7VXxz+21/wAFAPgP4r+DOj2ul/Gz4R6ldR+PPBt48Nr4w06aRIIPE+lzzylVmJCRwxySO3RURmJABI9c/wCHkv7Ov/RfPgr/AOFvpn/x6tZUans17r3fT0K5Jcu39aHtVFeK/wDDyX9nX/ovnwV/8LfTP/j1H/DyX9nX/ovnwV/8LfTP/j1Zexqfyv7ieSXY9qorxX/h5L+zr/0Xz4K/+Fvpn/x6j/h5L+zr/wBF8+Cv/hb6Z/8AHqPY1P5X9wckux81fHP4efEj4j/8Fn9YtPhr8SNP+GeqRfCCykur+68MR68LiH+1bgeWsUk0SodxDbst93GOa5v9ub9kTR/2Ov2KdLstZ8Q+IPFnh/xx8WtG1v4yeJNUbZNrNjPcKtw84hAWC0DrbJ5a4VE4BJOT9Rx/ty/srw+OZPFCfGH9n9fE01kumyasPFekC+ktVcyLbmbzd5iDksEJ2hiTjNX9V/4KIfs167pdxY33xz+B15ZXkTQXFvP4z0uSKeNgQyMpmIZSCQQeCDXZTq1qcacYx+FpvTe1Tnte10npdbXV7M6JTlKo5NOzSWmjX7tQv5tauLd7XPlr9oQ/B+X9vL9ldfgCPh83jqLX7h9T/wCELFrtXwwbOQXJuvsvyeTnYIvM43btnO6oL/4v+H/gNrH/AAUA8WeKfCMPjzQdK8QaR9r0CcL5GqCTS7OJYpS6sqxbnUuzKwVAxIIGK9/+E37SX7GHwElvJPAvj79mHwXJqGPtTaDrehaabnHTeYXXd+Oa1rX9tD9k2xufEM0PxY/Z3hm8XENrsieJ9HVtaIjEQNyRLmb92An7zd8ox04p80lBwUZNOLWu/vThL5L3H396TfWwKT54SabUXHurqPP22b57aPRJHxr4a8aeJJf+Cq37LMeq6b+zp4Za6tdchttP+GutPfagmmvpUksUN6PIiTyFaNTGUBQsrlcDOfaP2Nv2dvAnxF/4KSftaeKPEPhHw/r3iDTfFGj2dne6lZJdyWcQ0u2lAi8wERnzMMWUBiVXJO1cegfD/wCOH7EHwnubGbwr4w/ZV8MzabdSX1nJpWq6BZta3EkRheaMxspSRoiYywwSh2k44rqtA/bl/ZX8Ka7rGqaX8Yf2f9N1PxFMlxqt3a+K9Ihn1OVEEaSTusoaVlQBQXJIUADgVrKvJP8Adwa9yUVv9qop369E09db36tGdRzmkrfy38+Xn/8Aklbta3RHzB8Y9R0X9hr4meNPiNolz8G/jV4F8d/EO3n17Q7x7Y+LdG1eW5htvKsZl8xLpreUCQW0iJLHsYBxgsP0fByK+Wbb4+fsS2fxRbxxD40/ZZi8aySmdvECavoK6o0h4Lm5D+buPruzXef8PJf2df8AovnwV/8AC30z/wCPVySjJ0oU+V3jpe3RKKS87Weu7Ts9kFZOdV1Enr+Lu3f8dbaPe12z2qivFf8Ah5L+zr/0Xz4K/wDhb6Z/8eo/4eS/s6/9F8+Cv/hb6Z/8erD2NT+V/cZ8kux7VRXiv/DyX9nX/ovnwV/8LfTP/j1H/DyX9nX/AKL58Ff/AAt9M/8Aj1Hsan8r+4OSXY9u/wCCZH/I+/tOf9lStf8A1D/DNFcv/wAElvjf4L+Iup/tH654f8X+F9e0TUvihA1pqGnarBdWt0E8JeHI3McqMVYLIjocE4ZGB5BFFfeYO6oQT7L8j3qP8OPoi5+3P/ykO+B//ZOvHP8A6c/CNWKr/tz/APKQ74H/APZOvHP/AKc/CNWK6DaIUV8k/tO/8pbv2W/+wL4v/wDSS2qHxN/wUe+I+ufHP4peAPhn+z/qXxA1T4V6lBa317J4rttI0+4hls47lCss0RP2gs5QQqrgKu9pE3KplSXKpd1J+ijNwb/J/PyuV1a80vm48y/X7u7SPryivlzWP+CougyfsUeCfi/ofhfU9SuPiFq1v4c0jQby9h0949Ulnktzb3Nw5KQok0UitJhuFBCknFRftR/Gz41WX/BP74v65dfDnTfBXjHR9G1Fbf7D4585IrQWTu2o213HapIJojkrE0UTFo+JFBDVNefsozk18F0/VWdr7dU/JO70uzSjT9pOEP5v82tt9016q2+h9UUV8rfslfH34yP+wj4V8Q6x8Lz4r8RvoOkLo0On+Mo7y78SCW2TdeXk93DAtr2d/mnb5mxvIAbqfgB+2T4k8aftHat8JfiR8PYPh941tdBTxPpwsPEK65p+raeZhBI6zeTA6SRzEK0bRdCGDEEV0VKbjWlQWrV/K9ld2v2WrW61vszmpVeelGt0aT9LtL82kns+h7V4O8f6D8RbC5uvD+taTrtrZ3cthcTafeR3UcFzE2yWF2QkLIjAqyH5lIwQDWtXw7/wTh8d+IPh1+yL8UtS8L+DdQ8e68Pi34phtNHtL23sTMzam43STTsqRxr1ZvmYAcKxwK9i+AP7ZPiTxn+0dq3wm+JHw9g+HvjW10FPE+nCw8Qrrmn6tp5mEEjrN5MDpJHMQrRtF0IYMQRWVN86jbdxjL74KbS72V3p0VzWXuuV9lKS+6bgr9ru3zZ9AUV8meB/+CinxB+Nnim61X4c/ALWPGHwls9bl0VvFv8AwlNlZXd8IJ2t7m6tNPdd00Ebo20mZGkCnCggrVb4eftOfDH9nvxz+1r4sufCc3hO3+H2t2d14p1WHU5tQl8TTtp0MkckdvJhYHw6QrGh2s2CSMnC5ly8725XLzsnHpvb3l530SerRZ8ygt+bl+fvaX73i9Pva0T+vKK+PYv+Cl/xA+HWoeEdW+LXwA1j4b/DvxtqltpNl4gHii11O50ya6bba/2hZJGjWqvkBiHk8tjtbnAPQ/G/9v8A8Y+DP2ttW+DfgH4Nal8RvE1j4bsvEkVyviCDS7BIpp5opBcyyxkQhPKXZsErys5ARQjOK7Lu2vmlzNPtZa69CVJNXW1k/k3ZNd03pddfRn1DRXjv7FH7Wy/te/DLVtUu/DN/4K8TeFdbuvDXiTQLu5jum0rUbfaZI1mjws0e10ZZAF3Bs4FexVUotfcn3umrpp9U1qir7rs2vmnZr5M0P+CXn/I4/tN/9lVt/wD1DvDFfWFfJ/8AwS8/5HH9pv8A7Krb/wDqHeGK+sKkzCiiigAooooAKKKKACiiigAooooAKKKKACiiigAooooAKKKKACiiigAooooAKKKKACiiigAooooAKKKKACiiigAr5/8A2OP+TjP2sP8Asqlj/wCoR4Vr6Ar5/wD2OP8Ak4z9rD/sqlj/AOoR4VoA+gKKKKACiiigAooooAKKKKACiiigAooooAKKKKACiiigAooooAKKKKACiiigAooooAKKKKACiiigAooooAKKKKACiiigD5//AGOf+Tjv2sP+ypWH/qE+FqKP2Of+Tjv2sP8AsqVh/wCoT4WooA83/bn/AOUh3wP/AOydeOf/AE5+EasVX/bn/wCUh3wP/wCydeOf/Tn4RqxQVE+d/jt8C/FXjL/gol8BfHWm6X9p8K+C9L8R2+s332mFPscl3bwJbjy2cSPvZGGUVguOccUn7I/wK8VfDH9qP9pLxFrml/YdG8feJdP1DQbj7TDJ9vgi0yGCR9qOWjxIjLiQKTjIBHNfRNFKKtHl/uyj8pTU387rTy89RyXNv3UvmouP5P7/ALj4j/Zy+AHjr4D/APBMzw98PfFXwPsfijfTa5qi694SudZ01StjcaleXEc6NMzWszhXhYRmWMjfncGTbU/7Lv7F/jy1/Zk+PXgvVLDUvAPhT4jW11p3gnwfq3iT+3pfCFvLYNbyBrhWlVI5Zm8wQxySLEM4JJNfatFTUpqcakX9tcr9NPx00bvu+hoqjVSNVbxk5L1bb/Xp2Vz8/bz4Z/tLfEL/AIJ0+Gfh+3w91T4f+IPh7NoWnajY6T46tbe98d6VaR+XeRWl5A+LEyhIiPNdSQXQlR8zJ+wj+w14k+Dn/BQ9/iNZ/B7U/hX4Du/Ad5oZh1Xx3/wk2ovenULaVTNvuJ/J3xo5VYZJY8JlmV22V+gdFbqpL20q/wBqTbfrKPK9ultUtlLVIw9mlSVH7KSS9FLmX+V92tGz89W/Y4+OXh39hzxd4a0Gz1TS9dv/AIvan4ovtH0vxJFpeoeJPD02oSStbW9/FIVtpJ42Q/O6HarK23dU37Cv7C/iP4Qf8FDJPiJa/B/VPhX4DvPAV5oRi1Xx5/wk2pPem/tpVM2+4n8nfGjlVhkljATLMrtsr9BKKxpRVO1u3L8vZ+z1tv7utnopXaRpUvNNPq7/AD53P83a+9rJvQ+E/wBkbwz+0l+w14AtfgppPwa0Xxx4d0LV7mPQ/Hb+MrSwsf7OuLqSdXu7QobrzYllIZYo2DkYBx8xd8Q/+Cefjb446L+2R4fuo7Xw5H8XNa0vUvCOp3VxHNBcvZ2dqUeRImaSNBc24Rt6hsZYK4wD91UVUrvVv3rWv13i7+qcE79279LO/v8AP/e5rdL+9+HvPTyVra3+DPjZ4G/aK/4KDeDPC3wu8b/BzSfhX4Yh1vT9T8WeJJfF1pqsd7DZTpN5Wn29vmUNM8akNPs2LwdxOR7X4M+BfirSf+Co3jj4jXGl+X4N1j4faXodpqH2mE+deQ3tzLJF5QfzRtSRDuKBTnAJIIr6Ioqoys010cn6uUeR/wDktrWstF53ydNOPL5RXyjLnX47t3dn6Hzt+wH8CvFXwT8R/Hq48T6X/ZkPjT4oal4i0ZvtMM32ywmt7VI5sRuxTLRuNr7XG3lRkZ+iaKKlaRjD+WMYr0jFRXzstfM0espS/mbfzk23+LND/gl5/wAjj+03/wBlVt//AFDvDFfWFfJ//BLz/kcf2m/+yq2//qHeGK+sKDMKKKKACiiigAooooAKKKKACiiigAooooA4v9oH9orwN+yp8KdT8cfEbxTo/g/wpo6hrrUdSnEUSk/dRR96SRjwsaBnc4Cgk4rT+EnxV0H46fC3w5418K3/APanhnxbptvrGk3nkSQfarWeNZYpPLkVXTcjKdrqrDOCAeK8O/4Kdfs3eBvin+zT458beJPDen654m8A+BfEZ8O3d7umXSJLiwbzZooifLWYiJAJtvmINwVlDuGo/wDBOD4c6P8AGD/gjh8EfCfiC2lvNB8S/CbRtL1G3juZbV57ebSoY5EEsTLIm5WI3IysM8EGlSvKFZ9Yclu3ve03ev8AIuml3uXOMYul2lzX7+7ybLTpLvrboel/An9uD4T/ALT3xR8deDPh7440fxf4g+GslvD4kh0zfNBpsk5lEcZuAvkyPmCVWWN2KMhDhTgV6rXwH/wTp+Gvh74Of8Ffv2vvC/hPQ9L8N+G9D8N+AbXT9M022S2tbOIWN9hI40AVR1PA6knqa+nP2/fiB8SvhX+xx8QPEHwf0BfE/wASNL0wzaHpv2X7U08u9Q5WHehmdIy7rGGBdkC85wVWnGFJVN/dv2/Wy+b06vqKMJSrOltrH5c0Yy3trZyteyv2PYKK+Ef2Lv227DTPgD8XviBqH7SWp/H6L4ceHH1jWvDeseEbHwx4i8KT2tvPNcRzWsEFvNGsvl7VWeFirRNtlk5x8teFP+CoH7QmrfCbwn8WNG8afFbxx4u127sdUu/hTa/s/apD4Um0+6kj8yys9X+wC482GGRnS7e6eKRo/wDVlWFaRjzVFTX93Xp7zaj6p2burpJavVXz5koOo9tbefKk5ejV0rOzu9NE2v2Tor89/wBq39qH4ifED9s74ufDfTv2iND/AGX9B+FHgnTfEen3txoel3954je8S4aa8m/tEOn2K1aBYykCo5d23Sj5Afaf+CNvxP8AH3x1/wCCcnw18e/EzxVrHi/xZ430/wDtm4vNR02x09o0kOI0iitIIY/JKqJELIX2yjcxwMTS9+Mp7ctvndySta/8st7ba66FVHyyUe//AMjGXXylHa+/bU+n6KKKACiiigAooooAKKKKACiiigAooooAK+f/ANjj/k4z9rD/ALKpY/8AqEeFa+gK+f8A9jj/AJOM/aw/7KpY/wDqEeFaAPoCiiigAooooAKKKKACiiigAooooAKKKKACiiigD5j/AGjv+Cyn7NH7JfxXuvBHj74qabo/iTTWgXUreDTb7UIdGacqIRez20EkNmX3KQLh4ztYN905r6Q8PeIbDxboFjqul3lrqWl6nbx3dpd2sqywXUMihkkR1JDKykEMCQQQRXxT/wAFafiD8TPAP7N/xY8G/C/9mXUvG+l+NNAuk1bxPa32lx6dEbuFobq5lsUm/tC8mhjw5SO3LS7VVX9Pbv8AgmOvg23/AOCenwZtfh/4qk8b+DdP8I6fYaVrkkRhfUYoIFh3tGwDRNuRgY2GUKlTypooNTpzb3i4r71K+m6ScdG9JJu3wsmreNSMVtLmfyXLbXZt8zulrHS+6v7pRX5wXf7XnxI/4eF+IvCHxP8Aj1efs8xxeMobDwD4T1DwPYt4e+IGjKYiHXVrmNjLd3JZ4/LhuoXifYBEx4Nb9sv/AIKL+MNd/b+8afB/w74++I/wp8M/CvS9Ol1PUvBHwoufHWra5qN/AbhI3b7Fd29pbRQmI4aPzJWZwGAXjOFRThCcftJtLskk9ei3SavdS0aTNXC05wb+Hd69Xb132drNO6bR+lFFfmS3/BS744eHv+CaMfiPxM0Xg/xhJ8UrT4bf8LB8T+C7rQbNdHubuKGPxNJpd55RhPlSgbHIgE45+TKjq/2IviV8Wr3/AIKveOvhnq37T2qfHD4f+CvBlj4glih8OeHrSKxvbuWaEWN7PZWiOZQsa3MflvH8pw6sMFt6cOefKvOz72gqlrbr3ZLdLV8u90ZTmoxcu1vxqOnfs/eT2b0V9rH6F0UUVBQUUUUAFFFFABRRRQAUUUUAFFFFABRRRQB8/wD7HP8Aycd+1h/2VKw/9QnwtRR+xz/ycd+1h/2VKw/9QnwtRQB5v+3P/wApDvgf/wBk68c/+nPwjViq/wC3P/ykO+B//ZOvHP8A6c/CNWKCohXK/HH4u6b8Afg34p8caxBfXOk+EdKuNXvIrJFe4kigjaR1jVmVS5CnAZlGepHWuqrxH/gpb/yj0+N3/Ykav/6SSVz4qo6dCdSO6Tf3I6cLTVStCEtm0vvZ6V4R+J9n43+D+l+NNPs9TmsNY0eLWra0EIa8eKSATJHsViDKVYDaGI3cAnrXkPi/9vH/AIRzSfgXe/8ACBeJ9M/4XV4jj0D+z/ES/wBk6p4d32882+4t9smXHkY8vcvDg7uMHpf2d7mSz/YM8CzQyPFNF4BsHR0YqyMNOjIII6Eetfn9rF14u/aB/YZ/YDluPHXiKw8WeIvGtr5/ieR11DU42Nnf75Q9zvDSlAVDSBtpIODjFd2IpqGKnShtGpTjbylOSa+aVr9Oh51Cq54WFWW8qc5fOMItP5N/5n6vUV8T/Cfw34q/Y3/4KW+F/hxa/Er4h/ETwP8AE/wjqOrXFl4y1ltXu9EvrGWECeCZgGSKVZtpi4Xdkj+FVw/+CZvwr8WfHHxB4v8AiZ4u+MfxZ1VfCfxJ8R6bovhxNdeLR4bSG8mQQ3EWCbpcsdvmNiJUjVAoXnKPK7O/u8spN9uWag9PXby130OiT5bp7ppevNDnX4b+f3n3pRX5O/Dz4ifG79sf4La58UdF0n9p5vG+vXt/N4Wu/DXivSNP8J6Kbe5litrU6bLfoJ41MapObmBpHIkxjg17Z+0hZ/FD43/td/sz+AtV+IHjb4VyeLvAur33jax8K6mLd7i5hjsXkhjkUskbrMzKs6bnVC4RhvLUU4uTjF6N9H092Uvw5WpW2drXuiqrjBy62/SUY+mrl7uutnflPsXXfjB/YXxs0HwV/wAIt4xvP7esLm//ALetdN8zRNO8kqPJubncPLmk3fIm07tp5GK7GvkPX5Nc+DH/AAUV/Zy+Hln4y8aar4cHgnxGL5dW1mW6k1mSD7GIp7w5CzzLubEjqWG446mvlH9s/wDa80v4d+AvFnxK+FvxG/as8beKPDeuC5g8RR2l+fh8GjvFhn0+WMQx6cbdULx7xGzF9jeY56qNpSpxX2ubXrpUcL2/rTu3Z1yScppdHFfOUFK1/n+fRNr9aqK+M/8AgoRY+Pm+LPhPxDfL8Yrv4H2egzf2vbfC/V5LHWrLVGkBS6nSB47q4tVhLDZC7bWG5oyOv0d+y3408N/EP9nfwbrPhHxVqXjbw1e6XCdP13UZWkvNTjUbfMnZkRjMSpD7kVgwYEA5op+9Fy7O1u2rWva9rrutejSz9pG8UuquvuT09L2fZ/JvvqKKKCjQ/wCCXn/I4/tN/wDZVbf/ANQ7wxX1hXyf/wAEvP8Akcf2m/8Asqtv/wCod4Yr6woMwooooAKKKKACiiigAooooAKKKKACiiigD5//AOCgn7MHxU/ax+F7+Evh38YtL+E+l6xp9/pfiL7V4Lj8RPq1vcxLEFjL3MH2copl5G7cZB02883+w3+xb8ZP2Rf2YLz4a6x8d9E8aR6N4ctvD/gbUI/h9HpbeF/s9s8EUs0YvZftwH7htrNGT5TAsd+V+pKKI+7GcVtK1++l7a7q13a1rXdtypSbcG/s7fNpu/e9le97pJPRHwT+zz/wS4/aJ+CX7Y3ib4wX37VXh3xDefECbR4/F+n/APCpIbRdXs9OV447eKQai32ZjHJKvmKrEFgxVsAV9ifH7wR4t+Inwo1TSfAvjh/hz4quPKaw18aRBqy2bJIrsHtZsJKjqrIw3IwDkqysAw7KinKV4qD2Xy7fhpttv3ZMdKntOrtvrsrLR6baeiXZHyv8C/8Agm/qGmfHLx98TPjJ46034qeMvH3hOPwLcrp3hePw5pNvoqvJI1v9nWe4llkkeRi0ss7EDCqFAxXP/s/f8E5fjR+zf4S8O/D3w/8AtQ6ovwh8JyRW+lafL4HsZfFFvpsJBi09tVklaBowoEe/7CJPL4VlIDD7Iooi3Fpx6W9NG5K62espPX+aXd3TjdNPq7367JaPdaJLR/Zj2VvxP/bD0D4S69/wVT/aCvvjd8VtB+AkkTaNdeGrPxl4B0PxJD4nS209Izqtlcatp86rFuIh+zWcgk3wyMzBmAT9Fv8Agkh8bPiV8f8A9jXT/EHxOt1bUv7W1Cy0XVjoL6BJ4m0eGdo7LVH09+bU3EShxHwNpRgArAV9NUU6NqdL2fkl81b3u93a2j5Um0lbl5brSdSfN5/hZrl6aa32vortu7kUUUVJIUUUUAFFFFABRRRQAUUUUAFFFFABXz/+xx/ycZ+1h/2VSx/9QjwrX0BXz/8Ascf8nGftYf8AZVLH/wBQjwrQB9AUUUUAFFFFABRRRQAUUUUAFFFFABRRRQAUUUUAfHvxt/YB+P3jXxh4sh8GfteeKvCHgHxlczT3Ohah4L07XL/SEnZjPBp+oSNG8ERDFUWWObylChCMZr3j9j79lPwp+xB+zR4P+FPgmO+Xwz4LsRZWj3swmurklmeSaVgFBkkkd3baqqC5CqqgKPSqKKfuQ5I7O3q+W9rvd2u7a9WFT3588t9fxtfTbWyv6Hxx+0h/wTY+J/7Xl1f+FfiJ8fLXXPgzf+JoNfbw3F4AtLXWlgt7pLq3sBqiz7FiSSNF81bQTsi4MmSzHo/jh/wT88XXf7V2o/Gj4L/FlfhT4x8UaPa6H4qs9T8MR+I9F8RQ2pkNrM9v59tLHcxCV0Eqz4KYUp1J+pKKlRtFRXRt/NpRd3u7pJO5TleUpP7Ss9NNHdWWys9Va1nsfmL/AMFnPhtr/wAOf2M/hDo/xM+I3iLxHZr8ULLV/FXxMufC1lc6d4Pt1iuf3k2kx2ssD2Z3/Z40uFkVHlR5ZJMYal/wSt+J9v4D/bXs/hf8A/iL4Q+NnwJutDvdV8W6loHw80nw7ZeENSUw/ZB9t0i2trK5nut7qYPKMipCWJ+U1+o9FaUJKm5N68zbey3hGCT06cqkrWd+vea3vxjHsku+03J+et3F6tWCiiipAKKKKACiiigAooooAKKKKACiiigAooooA+f/ANjn/k479rD/ALKlYf8AqE+FqKP2Of8Ak479rD/sqVh/6hPhaigDzf8Abn/5SHfA/wD7J145/wDTn4RqxXDf8FKvgXonxP8A27fgbpepX3jK1to/Afja6D6T4u1bSLguuoeFFAM9pcxSlMSNmMtsYhSVJRSOQ/4YM8D/APQc+NH/AIeDxb/8sqContFcr8cfhHpvx++DfinwPrE19baT4u0q40i8lsnVLiOKeNo3aNmVlDgMcFlYZ6g9K4H/AIYM8D/9Bz40f+Hg8W//ACyo/wCGDPA//Qc+NH/h4PFv/wAsqmcVOLjLZmkZSjJSjujlfgh/wTh/4UfqWleT8cvj14j0PSLF9Oh0DWtcsZ9LeA27QKjRx2UbYjVgyYYYZFJyAQYdd/4JS/DTxR+zr8K/hhqGoeMrjw78IboXuiTR6otrfyTrDNHHLJPDGjB4zMZEaHyyHjQ5IBB7D/hgzwP/ANBz40f+Hg8W/wDyyo/4YM8D/wDQc+NH/h4PFv8A8sq0lJy38vwba+5t/eZxio2t0TXydk180l9xn/s0/wDBPzwz+zj8UNU8c3Hir4hfEjxxqVgmkJr/AI11ddSvdPsFbf8AZLcpHGkcTP8AO2F3M2SWOTXafs1/s0aD+y14S1vRvD93q15a694h1DxLcNqEsckiXN7OZpUQoiARhmIUEFgOrMea5v8A4YM8D/8AQc+NH/h4PFv/AMsqP+GDPA//AEHPjR/4eDxb/wDLKjmd7+Vvk2m/vau+713uNq+/e/zSsvuTsvLQ5ST/AIJkeHdH8S+IJvCfxG+MHgDw74q1CXVdV8M+HPEEdrpU9zM2+4eMvC9xa+axJYW08QBPy7a9H1j9lTw5rPx+8B/EVrvXI9Y+Hej3uh6Zbi6EltLBdiESGYyK0skgEKYbzB1YtuJrD/4YM8D/APQc+NH/AIeDxb/8sqP+GDPA/wD0HPjR/wCHg8W//LKph7iSj02+5x+5JtJdE9By95ty67/enf1uk2921d3Ok8YfszaD42/aS8G/FK7utWTxB4H0zUNJsbeKWMWc0V75XmmVShdmHkrtKuoGTkNxjwXxX/wRj8A+K/hlrXgE/EL4y6f8NtWmnuLfwhY+IYYdJ0iSWYTHyF+zmVkWTcywzySxAsTsJClfVv8AhgzwP/0HPjR/4eDxb/8ALKj/AIYM8D/9Bz40f+Hg8W//ACyoj7trdL2+b5vzd12eqC7vfzT+5WX4aemhN8cP2Q5/jJ4oh1Sx+LHxg8BBdNXS7iy8Ma1BBZ3cYZjvMU9vMI5vmI82Hy5CAo3fKMdx8Efgv4d/Z2+E2g+CfCdi2n+HfDdqLSygaVpWVQSSzOxLMzMWZmJySxNcD/wwZ4H/AOg58aP/AA8Hi3/5ZUf8MGeB/wDoOfGj/wAPB4t/+WVC0TS6/wDB/wA3btdk8q08lb5af5L7ke0UV4v/AMMGeB/+g58aP/DweLf/AJZUf8MGeB/+g58aP/DweLf/AJZUFHvH/BLz/kcf2m/+yq2//qHeGK+sK/Ob/gnJ+wP4G8YeK/2iI7vXfjVCukfEqCygNl8YvF1i0iHwp4dmzMYNSQzybpnHmS75Agjj3bI41X6Z/wCHafw6/wChj/aA/wDD7eN//ltQZn0BRXz/AP8ADtP4df8AQx/tAf8Ah9vG/wD8tqP+Hafw6/6GP9oD/wAPt43/APltQB9AUV8//wDDtP4df9DH+0B/4fbxv/8ALaj/AIdp/Dr/AKGP9oD/AMPt43/+W1AH0BRXz/8A8O0/h1/0Mf7QH/h9vG//AMtqP+Hafw6/6GP9oD/w+3jf/wCW1AH0BRXz/wD8O0/h1/0Mf7QH/h9vG/8A8tqP+Hafw6/6GP8AaA/8Pt43/wDltQB9AUV8/wD/AA7T+HX/AEMf7QH/AIfbxv8A/Laj/h2n8Ov+hj/aA/8AD7eN/wD5bUAfQFFfP/8Aw7T+HX/Qx/tAf+H28b//AC2o/wCHafw6/wChj/aA/wDD7eN//ltQB9AUV8//APDtP4df9DH+0B/4fbxv/wDLaj/h2n8Ov+hj/aA/8Pt43/8AltQB9AUV8/8A/DtP4df9DH+0B/4fbxv/APLaj/h2n8Ov+hj/AGgP/D7eN/8A5bUAfQFFfP8A/wAO0/h1/wBDH+0B/wCH28b/APy2o/4dp/Dr/oY/2gP/AA+3jf8A+W1AH0BRXz//AMO0/h1/0Mf7QH/h9vG//wAtqP8Ah2n8Ov8AoY/2gP8Aw+3jf/5bUAfQFFfP/wDw7T+HX/Qx/tAf+H28b/8Ay2o/4dp/Dr/oY/2gP/D7eN//AJbUAfQFFfP/APw7T+HX/Qx/tAf+H28b/wDy2o/4dp/Dr/oY/wBoD/w+3jf/AOW1AH0BRXz/AP8ADtP4df8AQx/tAf8Ah9vG/wD8tqP+Hafw6/6GP9oD/wAPt43/APltQB9AUV8//wDDtP4df9DH+0B/4fbxv/8ALaj/AIdp/Dr/AKGP9oD/AMPt43/+W1AH0BRXz/8A8O0/h1/0Mf7QH/h9vG//AMtqP+Hafw6/6GP9oD/w+3jf/wCW1AH0BRXz/wD8O0/h1/0Mf7QH/h9vG/8A8tqP+Hafw6/6GP8AaA/8Pt43/wDltQB9AV8//scf8nGftYf9lUsf/UI8K0f8O0/h1/0Mf7QH/h9vG/8A8tq8Q/ZR/wCCfHgPXfj1+01aza/8cI49F+JNlZ27W/xn8Y20kiN4P8NTkzPHqavcSb5nAkmLuEEcYYRxRooB930V8/8A/DtP4df9DH+0B/4fbxv/APLaj/h2n8Ov+hj/AGgP/D7eN/8A5bUAfQFFfP8A/wAO0/h1/wBDH+0B/wCH28b/APy2o/4dp/Dr/oY/2gP/AA+3jf8A+W1AH0BRXz//AMO0/h1/0Mf7QH/h9vG//wAtqP8Ah2n8Ov8AoY/2gP8Aw+3jf/5bUAfQFFfP/wDw7T+HX/Qx/tAf+H28b/8Ay2o/4dp/Dr/oY/2gP/D7eN//AJbUAfQFFfP/APw7T+HX/Qx/tAf+H28b/wDy2o/4dp/Dr/oY/wBoD/w+3jf/AOW1AH0BRXz/AP8ADtP4df8AQx/tAf8Ah9vG/wD8tqP+Hafw6/6GP9oD/wAPt43/APltQB9AUV8//wDDtP4df9DH+0B/4fbxv/8ALaj/AIdp/Dr/AKGP9oD/AMPt43/+W1AH0BRXz/8A8O0/h1/0Mf7QH/h9vG//AMtqP+Hafw6/6GP9oD/w+3jf/wCW1AH0BRXz/wD8O0/h1/0Mf7QH/h9vG/8A8tqP+Hafw6/6GP8AaA/8Pt43/wDltQB9AUV8/wD/AA7T+HX/AEMf7QH/AIfbxv8A/Laj/h2n8Ov+hj/aA/8AD7eN/wD5bUAfQFFfP/8Aw7T+HX/Qx/tAf+H28b//AC2o/wCHafw6/wChj/aA/wDD7eN//ltQB9AUV8//APDtP4df9DH+0B/4fbxv/wDLaj/h2n8Ov+hj/aA/8Pt43/8AltQB9AUV8/8A/DtP4df9DH+0B/4fbxv/APLaj/h2n8Ov+hj/AGgP/D7eN/8A5bUAfQFFfP8A/wAO0/h1/wBDH+0B/wCH28b/APy2o/4dp/Dr/oY/2gP/AA+3jf8A+W1AH0BRXz//AMO0/h1/0Mf7QH/h9vG//wAtqP8Ah2n8Ov8AoY/2gP8Aw+3jf/5bUAfQFFfP/wDw7T+HX/Qx/tAf+H28b/8Ay2o/4dp/Dr/oY/2gP/D7eN//AJbUAfQFFfP/APw7T+HX/Qx/tAf+H28b/wDy2o/4dp/Dr/oY/wBoD/w+3jf/AOW1AB+xz/ycd+1h/wBlSsP/AFCfC1Fcl/wT5+Cmj/DP4tftQaDpt54uubHTfihZrFLqvirVNWvXD+DvDMh8y6uriWeUhnIBkkYqoVFwiqoKAMT9uf8A5SHfA/8A7J145/8ATn4Rrhf2rf2idK/ZL/Zy8YfEfWree80/wjpsl81tCQsl24wscSk8AvIyrk8Ddmu6/bn/AOUh3wP/AOydeOf/AE5+Ea8R/wCCmf7OOpftafsI/ErwDoqo+ua1pfmabG77FmuoJEuIYyeg3yRKuTwN3PFY4iTVKTWmnTVrzS6tdF1eh0YWMZVYxntdX9Lnmfw5+D/7W3xP8H6X451T48eGvBmuavDHqS+CLfwLa32h6ejKGWzluXkF5I2CA8iSrhidoIA3eofHv/gpD8F/2XPHE3hbx744t9F8T21lb6g2mR6be3dzNDM0qpJFHDE7SgGGQt5e4xhQX2ggnyb4Tf8ABbD4L3fgHSNO8V6l4i8N/E+3t4rLVPA03hrUZNet9REa77ZLdIC0hLZ2so24IJK4IFn4cafZ6t/wW78falJZRNdwfCPRvs8s0AE9ssmoXW9QSNybtq7hxnaM9K7Jx/expw+BuVnvooSkrSer+FatvR36nJTk1R56t+e0brbVyjF3XSzk9LLtsj2b40/t1/Cz9n670O18T+JZotS8SWZ1DTtO07SL3VtQuLUDJn+zWkMsyxD++6BcgjOQRVp/21/hSn7PEPxY/wCE60Jvh7cKPK1lZS0crltghVAPMM2/KeSF8zeCu3dxXxf+0BcL8Av+Cn/xO1/x/wDGTxl8D/Dvj7QtGbwx4istP099L1BbWKSK4sJLq8s7hYpo5czCIMm4TliD8udq9+Jlt+xF+wRqHjX4P65rHjOw8bfET7fq/jPxv4flFnoq3kipd6z9lt4LUvaoYwVeNAjNLu3FM1yxlzU3NeVutm5qKT2Wz1baSa2ad10ySjNQfa79ORybWl3rpZJ9dbqx9bfs+/to/Db9qHW9Z0vwb4gnvNZ8PrHJqGl6hpV5pGoW0cgykptryKKUxt2kClc8ZzxXJeKv+CpPwD8F/GuX4e6h8RtNj8UW+oR6VcxxWV3PZWd5I2xbea8jia1hl3fKUklVlbggHivkz9hj4lap8Vf+Cvzapc/F7TPjPbSfCa9tbfxBpPhFvD+nHy9WtiYYm8ySO78tpCTJG7BS5Thg1aX/AATk/bf+Gf7Jf7P0XwT+KT6ppPxm07xHqVrrHho6BeXuoeIru6v5pY7qFUhYXKTI6ESZ27QMkKFJ6KcOZw/vJu3V2m4aaeV9nrJWutTKcuWM3f4Wlforw5rvXo9N1pu09D64+Cfxbtpvil8bItV+Klt4msfBurQ/adNuNDXSYfAsJs0nNu90QFulZD5xmJIQNtJGKw/hN/wVU+APxw+Jdh4R8N/EWxu9c1aV4NNS40+8sbfVZEO0ra3M8KQXDZ6CJ2Lds18ifGz4Z+JvjB4M/wCCiPh/wfY32ra7eeINFkj0+zBa41GKLTrKWe3jA5ZpIUkQKuWbdgAkgG/+2D+158Mf2/vgh8N/hL8C2vNc+IS+KdCvbDTrPQri2fwHHZTo01xc741S0WGJZIsZBO4hQy5NZYf35Uo/zKlp1tOKvK/ZXb1u9G5NXTbqtxjUkujq+nuN2XrLZbJfZT2X2L8eP+CinwZ/Zl8bXnhrxx42t9F8Q2NnbX7ab9gu7m6nhuHkSIwRwxO05JhkysQdkVSzBVwa7n4CftB+DP2oPhjY+MvAPiCy8S+G9S3LDd24ZcMpwyOjhXjkU9UdVYdwK+c/Aej2d3/wXG+IV7La20l5Z/CbR0t53iDSwK+o3W8K2MqG2rkDrtGegqb/AIJTxLaeJP2nreJVjgh+NeteXGg2om63smbA6DLEk+pJNPD+/H3t+Wcv/Aaqp2+ad76bba6VU91u3SUY/wDgVPnv8mreh7V+0x+2V8NP2PdI0u8+Ivim38PjXJzb6bbraz3t5qDrt3CG2t0kmk27l3FUIXcMkZFeC/sE/tU2f7T/AO3t+0ReeGfG9x4t8A2eleFZdFhS+llstOeW2u/tAjgc4t5S6ASoVV9yYcZHGP8Atd/FvQf2Rv8AgqX4F+KXxOkutL+G198Przwxp2vyWUtxY6Hq7XyTssjRq3ktPAAoYgZ8sjJG7Hn/AOzRrsX7VH7Sv7cF98NrHVNAk8deENEh0K7v9LfSZr64ksNRhjvRHIFkCSSAMryKrMoDYwQazjUaoyrpczUZ6Lo1KyT31aXMtnZqya1NJU9XTb5U3TV31vKDbW2ivyvfVPVbH1Jo3/BT74E+IPiJa+GbTx9ayX19qh0W0vG029TR7y+Bx9mi1FoRZSSkjARJiWPAyeK98r8j/gZafDP4vfsm+CfhD45/aE+MGk61Db6dpGp/CmHw3pq6rpl9byRHyEto9KN2I45ow4nzwgDs/wB41+t6LsRVyW2jGT1NdM6aitHfVq62aSWq33u+r0tqc8ajlKzXLorp7p66PZ6bapap+i0f+CXn/I4/tN/9lVt//UO8MV9YV8n/APBLz/kcf2m/+yq2/wD6h3hivrCsgCiiigAooooAKKKKACiiigAooooAKKKKACiiigAooooAKKKKACiiigAooooAKKKKACiiigAooooAKKKKACiiigAr5/8A2OP+TjP2sP8Asqlj/wCoR4Vr6Ar5/wD2OP8Ak4z9rD/sqlj/AOoR4VoA+gKKKKACiiigAooooAKKKKACiiigAooooAKKKKACiiigAooooAKKKKACiiigAooooAKKKKACiiigAooooAKKKKACiiigD5//AGOf+Tjv2sP+ypWH/qE+FqKP2Of+Tjv2sP8AsqVh/wCoT4WooA83/bn/AOUh3wP/AOydeOf/AE5+EasVX/bn/wCUh3wP/wCydeOf/Tn4RqxQVEKKKKCgoorkfhX8dfCvxsvPFFv4Y1T+05vBetzeHdZX7NND9jv4VR5IcyIofCyIdybkO7hjg4Fq7Ltf5XSv6XaXq13DZXfp89Xb7k/uZ11FFFABRRRQAUUUUAFFFFABRRRQBof8EvP+Rx/ab/7Krb/+od4Yr6wr5P8A+CXn/I4/tN/9lVt//UO8MV9YUGYUUUUAFFFFABRRRQAUUUUAFFFFABRRRQB+cv8AwWM/4Jv/ALOulfs1fHD49fE//hItQ8b2GjXOpaF4j1HxRffafDN8kf8AxL7bSkWVY7Yfa/K2RonzvJ85cGu+/wCGoPid+zF/wSY+DceuRz69+0n8QPD+j+FdB07UwVuL3xJdWi/PdggnFsqy3Fwzfw20uSCwrx/9qvQf2nfjL/wUJ/4SLxZ+yxr3xQ+Dfwn1Jbv4caFp/jzw9p2n6hqKAga9fpc3QlmnUEi3hdFWAMWIaQlq95+Lf7At9/wUYvfhf8WPG2ufG79nD4leC9P1GyttG8KeKtJll0oXcgSYvOLe6hd5I4Y/niZfkba2cEDOjeWH5Xflk43V7OMYqWy0alO9m1rFKDd5JxV1OWNdSVuaKlra6lKTjp2cYW0T0leSjaNpPx//AIIL/s+Q/sr/ALQn7YHgKPVr/wAQT6D400X7dq165a41e9l0S3nu7t8k4aa4llk2g4XftHAFfSf/AAUS/wCCgtx+wX/wquOz+HOvfEu++KPi1fCVppui3ccN9HO9pcTxNGsg8uTc8Kod8kSIrtIzgIQfCP8Agl//AMEvfiB+yR+3P8fPHHin4ifGDWvD2t61anQG17xFp19D4zgOmwxyX1/HBCsn2iCVWijJEOEQfI4+Y+w/8FE/2cfGfx2+N37LmseFdG/tTTvhz8UYfEXiGX7XBB/Z9gun3kJm2yOrSfvJY12xhn+bO3AJG0veWHV91RUrJKy9yMtNlZXvp7vW1jBXiq73adVq7u2/fcfW7t/i80zyTQP+Cw3xku/jvr/wV1D9kbxNB8crHT7fXtM0Wx8b2N34eutIl3Kb651doo1tQkqNF5Ygldn2hQ2SVv8AxB/b88Kftff8Eiv2hPFnxE+EepRP8N7PW/D3xB+G99r5gcXthEJJ7JNStRkxurRlbiNQSHyF9fWrH9n3xfD/AMFitS+KjaRjwHcfB628Kx6p9qh+bUk1me5aDyd/ncQurbymznG7ORXzzc/sF/FiT9hv/goB4PXwp/xUfxt8ZeKNV8F2n9p2f/E6trzTrWG2k3+bsh3yRuu2do2XGWABBPLWvLC1NLydOo1pf3o1FCMbdeaF5tNO+6tHQ7KKUcTHXRVKavt7sqfPJ3X8s/durWtZ66noXxb/AOCmOqfs3a9+z/8ADL4d/AzXPiBrHxb8C3Gr+HdK07xDFbLpRs4LMx21xPcptW3Ec533TvuXygBFK8irXpX7Bf7e+sftXeMviV4E8d/DW8+EvxU+E95aQ694ffWodatWt7yJpbO6t7yJIxLHIiPkGNSpUqckHHnenfskfEKD9uv9kvxk3h/b4b+GXwx1jw94lvPt1t/xLb6e309Iodnmb5NzQSjdEroNvLAEZ679mb9nDxp8Pf8AgqX+098RtY0b7H4M+IeleErbw/qP2uCT+0JLG1u47pfKVzLHsaVBmRFDbvl3AHHpVuX2sne93U1vtarJR163glve6ae+r87D83sNrOKp2Vt7xpqat5OUnZbOLWysvqiiiiuU6QooooAKKKKACiiigAooooAKKKKACvn/APY4/wCTjP2sP+yqWP8A6hHhWvoCvn/9jj/k4z9rD/sqlj/6hHhWgD6AooooAKKKKACiiigAooooAKKKKACiiigAr8y/+C0v7O2twfGb4GfEjXviL4o1qxf47eCdN8OeE4SLHRNAt2uY/PkkijOb26kmjZhPOT5aOEjRMMz/AKaV+dv/AAWE079oz48+N/APhf4b/s161408OfDX4jeHfHSeJU8b6Fp8Osx2LCeW2jt7m4SaN97GPc6gZQsAQRlU2o4mhP8AlqU35JKcXJ9tIp+e9i+Xmo1Y94TXq3FpL/wK366HQf8ABcP9oO58HD4HfChZPiEujfGTxZNa+I7fwPbzza/q+lWVo9zLp1sYMSx/apfIikkR49sTS7nVN7Cb/gmXcfs6fDr9pLxH4F+H/wAAvGH7OPxSj8ORX1zoXiLS0sZNf0hZkUXkb2t1c2tzsmdUaQyGcMSG4zUn7Zfws+On7Rvw/wDgL8c/CHwptfD/AMZ/gv4nutbl+HOu+JrPzdTsLiCeyurNNSt2ktUlliaOVHYlAOG+YFTY/Zi+A/xm/aL/AOCjUf7R3xg+Htj8HNP8IeC5vBfhfwl/wkNtrup3T3F0J7m+up7XNvGm1ESOJHc8szFTgG8PFxqOL/mnzO/T2a5XF9U5Wi0m95uyu5EYr36cWtko2X972j5rrpaFnzNK9oq7skeof8FEv+Cgtx+wUvwsWz+HWvfEq++KHi1fCVppui3ccN9HO9pcTxNGsg8uTLwqh3yRIiu0jOAhB8N0H/gsN8ZLr47698FdR/ZG8TQfHKx0+317TNFsfG9jd+HrrSZdym9udXaKNbUJIjReWIJXZ9oUNklfXP8Agor+zj4z+O3xr/Zd1fwro39q6f8ADr4ow+IvEMv2uCD+z7BdPvITNtkdWkxJLGu2MM/zZ24BIvWX7Pvi+H/gsTqPxUbSMeA7j4PW3hZNU+1Q/NqSazNctB5O/wA7iF1bfs2c43ZyKzoRcpWm95TXpGNJTi1/ineN3e92lZ2aVa6TcOkYP1bquMl8oWlZbWTel7+S+Pv2/PCv7X3/AASN/aD8WfET4R6nDJ8N7PW/D/xA+HF9r5gcXthEJJ7JNStRkxurRlbiNQSHyF9dX4sf8FMdS/Zt1n9n34Z/Dv4Ga58QNX+Lnga41bw7pOneIY7ddKNnBZmO2uJ7lNq24jnO+6d9y+UAIpXkC1wFz+wb8WJP2Hv2/vB6+Ff+Ki+NvjHxPqvgu0/tOz/4nNteadaw20m/zdkO+SN12ztGy4ywAIJ9E0z9kf4hW/7cv7JPjF/D+3w58MfhlrHh7xLd/brb/iW309vp6RQ7PM3y7mglG6JXUbeWGRm6NpzTl7qlGk2l0bo1pSWt/hqcqs7uLdvtNMxHu35Pe5ZVEvT2tKMXp3hzN2tzJN/ZTXo37Bf7e+sftW+M/iT4E8efDW8+EvxT+FN3aRa94ffWodatWt7yJpbO6t7yJIxLHIiNkGNSrKVOSDj6Sr5Y/Zn/AGcPGnw+/wCCpf7TnxG1jRvsfgz4haT4StvD+o/a4JP7QksbW7jul8pXMsexpUGZEUNu+XcAcfU9NtOMXazsr+ttf8xyVqkorVaW+cU7fJtr5a63CiiipAKKKKACiiigAooooAKKKKACiiigD5//AGOf+Tjv2sP+ypWH/qE+FqKP2Of+Tjv2sP8AsqVh/wCoT4WooA83/bn/AOUh3wP/AOydeOf/AE5+EasVX/bn/wCUh3wP/wCydeOf/Tn4RqxQVEKKKKCj5W+Lf7UHxk+JP7WPib4WfAzS/hrH/wAK502xvvFOteNGvZITcXqyPBZW8VqVbd5aLI0rMQofGwnG7z3/AIJU+I/Hd38O/wBqHUh4Z0K0+ITfFvWX/sW41ljpsd59kshsN2kJYxZ53iLdt/hB4rvfin+y18afht+174q+KXwQ1r4ayQfEvTbGx8T6R4zivFjtriyRo7e9tntQWkbyn2tE+wHYPnGRs4zwf/wTH+I0n7GP7Q3w58TfEHR7jxV8ZPE934gg1/TraS3hcTQ2e6OeABTEkj28kbJG74ik4dmzWdO6hOXX2cl58zqQenlZXXkl9rmNJKLqRTenPF+SXJJNvb7TfXr2sbPwx/bl+IXhL9sPwD8MPiHrnwT8YRfEi31CK2m8ByXMV14evrKE3EkN1HNPN5sTxhlWQCI7kOUGQK4f9jfSPjAP+Cq/7Sxk8Q/DVrOHUfDTeIlXw9eiS8tTpxMC2h+2kQSiL5XaQSqz/MFUfLU3wV/4Jh+NfC37V/wd+Ilx4H/Zt+Gmm/DeW+TUbHwDY3K3urpPp0lssr3T20RlIlcERSJ8q7286Rm2j1yz/Zj+K/wt/wCCgni74i+Cb/4e3Xw/+KkekDxVbay14mr6c9hE8BayESmKTfCV/wBayhWwcHB39EbQnB7u0o+V3JSV+lrK2t+ietznk24SWtrRfne9mltstfXVdDz/APa6/br+MX7HFhq3jTxRe/s/jwxoepQtP4Lt9QvJPFFxpck6w+fFcvIkZnw4k8oWhXarKJGOCey/bE/bT8XfC79pHwV8N/C+pfDTwPH4r0WfV4/FHj6O6k028nSQRrptukUsCtcncJDumyE6IxxXzB8QP+CIvxE8QfATxh8PbTQv2btQ1HVr+81C2+JWs6fd3HjDUzLdfaEE7+QfsshyUaWOaZQowIfnJX7J/a0+F/xa+J+nyeGfD/hX4E+NvAepaStvd6f45e+jkgvAWHm4ihnjni2lSExC4ZT+85G3mtJUIdZXvbuuXZvpaWt313XK0jolb2kuXbXXtaSs0vNN6X22fMrnL/tpft5a5+x78Nvhno+sXnwy0r4mfEWVrNtR1rU5bPwnpDQQiS7u3dyszxAsixxAq7tKg3DBJ5P9mD/goP4u/aK+J/jr4V6f4w+B3i7xdp/h1fEXh/xd4R+0X2gvGZhBJb3tn9qaaOZGKnC3JDrID8pBU2bv/gmZ4q8Bfs6/AOx8GeLtFvviV+z95n9nXniG1mk0rW4LiForqxlCs0sMJVkEbjzGjECfKTyPdf2e9F+LX9sapefEi1+F+iWM0CQ2WleEvtd44cEl5prydIdwI4ES2428kyNnAutTUvawve/Ouys1aNt+uumt7p+7ZmKlJU6dt7Rv115veT2+zpd6dveufOf/AAQOsPiBD+wb4Lm1vVvB1z4Kktr4aTZ2Ok3MGqQTf2jPvM9w9w8UiE+ZgJChAK5Jwc/clfMf/BOL9mf4sfseeFLr4c+Jr74e6p8M/Dst6fC17pbXg1ydJ7x50W8SRRCmxJHX92zknbzwS305XRWqKo/aR2evn8/MIxtKS83/AMOvJ/1qFFFFYlGh/wAEvP8Akcf2m/8Asqtv/wCod4Yr6wr5P/4Jef8AI4/tN/8AZVbf/wBQ7wxX1hQZhRRRQAUUUUAFFFFABRRRQAUUUUAFFFFABRRRQAUUUUAFFFFABRRRQAUUUUAFFFFABRRRQAUUUUAFFFFABRRRQAV8/wD7HH/Jxn7WH/ZVLH/1CPCtfQFfP/7HH/Jxn7WH/ZVLH/1CPCtAH0BRRRQAUUUUAFFFFABRRRQAUUUUAFFFFABRRRQAUUUUAFFFFABRRRQAUUUUAFFFFABRRRQAUUUUAFFFFABRRRQAUUUUAfP/AOxz/wAnHftYf9lSsP8A1CfC1FH7HP8Aycd+1h/2VKw/9QnwtRQB4N/wUq0T4g6n+3b8DY/CfifwbourDwH42Z7nVvDFzqlu0A1DwoGQQx39uwcsYyH8wgBWGxiwZeQ/4Qb9oj/oqXwX/wDDXan/APNBXsH7c/8AykO+B/8A2Trxz/6c/CNZ/wAQPH2j/CvwPq/iXxFqFvpOhaDaS39/e3DbY7aCNSzux9AoPTk9uamUlFOUtEjSEXJ2W55f/wAIN+0R/wBFS+C//hrtT/8Amgo/4Qb9oj/oqXwX/wDDXan/APNBXlfg3/goR8ZPiroVn4x8I/sueJtW+GepBbmx1G68Xafp+vahZkZFzFpkgxhh8yI9wruuCB8yg/XUT+ZGrbWXcAcN1H1rTlaV3p5PRr1T1XzRKlF7O/mtV8ns/wCmeM/8IN+0R/0VL4L/APhrtT/+aCj/AIQb9oj/AKKl8F//AA12p/8AzQV7RRUlHi//AAg37RH/AEVL4L/+Gu1P/wCaCj/hBv2iP+ipfBf/AMNdqf8A80Fe0UUAeL/8IN+0R/0VL4L/APhrtT/+aCj/AIQb9oj/AKKl8F//AA12p/8AzQV2/wAOPGni7xN4z8Y2PiHwT/wjGj6Lfpb6Dqf9sQ3v/CR25jDNceUgDW21yU2SZJxnoa7Gjon3s/v1+T7rdbPUOtvl939b7PdaHi//AAg37RH/AEVL4L/+Gu1P/wCaCj/hBv2iP+ipfBf/AMNdqf8A80Fe0UUAeL/8IN+0R/0VL4L/APhrtT/+aCj/AIQb9oj/AKKl8F//AA12p/8AzQV7RXhvwW/aZ174jftwfGz4aX1ppEWg/Dex0C50yeCKRbudr+CeSYTMXKMFMS7dqLgE53cEC1dvn9wPSLl2t+LS/Notf8IN+0R/0VL4L/8AhrtT/wDmgo/4Qb9oj/oqXwX/APDXan/80Fe0UUAeTf8ABOTwL+0Vd+K/2iBovxT+CunyQ/EqBNRa9+Fmp3i3Vx/winh0iSEJ4hi8mPyTCnlsZSXjkfeBIscf0z/wrn9qb/osn7P/AP4ZvV//AJp64/8A4Jef8jj+03/2VW3/APUO8MV9YUGZ8/8A/Cuf2pv+iyfs/wD/AIZvV/8A5p6P+Fc/tTf9Fk/Z/wD/AAzer/8AzT19AUUAfP8A/wAK5/am/wCiyfs//wDhm9X/APmno/4Vz+1N/wBFk/Z//wDDN6v/APNPX0BRQB8//wDCuf2pv+iyfs//APhm9X/+aej/AIVz+1N/0WT9n/8A8M3q/wD809fQFFAHz/8A8K5/am/6LJ+z/wD+Gb1f/wCaej/hXP7U3/RZP2f/APwzer//ADT19AUUAfP/APwrn9qb/osn7P8A/wCGb1f/AOaej/hXP7U3/RZP2f8A/wAM3q//AM09fQFFAHz/AP8ACuf2pv8Aosn7P/8A4ZvV/wD5p6P+Fc/tTf8ARZP2f/8Awzer/wDzT19AUUAfP/8Awrn9qb/osn7P/wD4ZvV//mno/wCFc/tTf9Fk/Z//APDN6v8A/NPX0BRQB8//APCuf2pv+iyfs/8A/hm9X/8AmnrgP2lvFv7U37O/w607xB/wtD9n/WP7Q8VeHPDPkf8ACpNXt/L/ALX1yx0rz93/AAkrZ8n7b5uzA3+Vs3Ju3r9f18//APBSz/k3Tw7/ANlU+HP/AKm+h0AH/Cuf2pv+iyfs/wD/AIZvV/8A5p6P+Fc/tTf9Fk/Z/wD/AAzer/8AzT19AUUAfP8A/wAK5/am/wCiyfs//wDhm9X/APmno/4Vz+1N/wBFk/Z//wDDN6v/APNPX0BRQB8//wDCuf2pv+iyfs//APhm9X/+aej/AIVz+1N/0WT9n/8A8M3q/wD809fQFFAHz/8A8K5/am/6LJ+z/wD+Gb1f/wCaej/hXP7U3/RZP2f/APwzer//ADT19AUUAfP/APwrn9qb/osn7P8A/wCGb1f/AOaej/hXP7U3/RZP2f8A/wAM3q//AM09fQFFAHz/AP8ACuf2pv8Aosn7P/8A4ZvV/wD5p6P+Fc/tTf8ARZP2f/8Awzer/wDzT19AUUAfP/8Awrn9qb/osn7P/wD4ZvV//mno/wCFc/tTf9Fk/Z//APDN6v8A/NPX0BRQB8//APCuf2pv+iyfs/8A/hm9X/8Amno/4Vz+1N/0WT9n/wD8M3q//wA09fQFFAHz/wD8K5/am/6LJ+z/AP8Ahm9X/wDmnrxD9lHwF+0lP8ev2ml0/wCLHwPtbyH4k2SanLcfCfVJ47y4/wCEP8NMskKL4iQwxiAwIY2aUl45H3hZFij+76+f/wBjj/k4z9rD/sqlj/6hHhWgA/4Vz+1N/wBFk/Z//wDDN6v/APNPR/wrn9qb/osn7P8A/wCGb1f/AOaevoCigD5//wCFc/tTf9Fk/Z//APDN6v8A/NPR/wAK5/am/wCiyfs//wDhm9X/APmnr6AooA+f/wDhXP7U3/RZP2f/APwzer//ADT0f8K5/am/6LJ+z/8A+Gb1f/5p6+gKKAPn/wD4Vz+1N/0WT9n/AP8ADN6v/wDNPR/wrn9qb/osn7P/AP4ZvV//AJp6+gKKAPn/AP4Vz+1N/wBFk/Z//wDDN6v/APNPR/wrn9qb/osn7P8A/wCGb1f/AOaevoCigD5//wCFc/tTf9Fk/Z//APDN6v8A/NPR/wAK5/am/wCiyfs//wDhm9X/APmnr6AooA+f/wDhXP7U3/RZP2f/APwzer//ADT0f8K5/am/6LJ+z/8A+Gb1f/5p6+gKKAPn/wD4Vz+1N/0WT9n/AP8ADN6v/wDNPR/wrn9qb/osn7P/AP4ZvV//AJp6+gKKAPkD9pbxb+1N+zv8OdP8Qf8AC0P2f9Y+3+KvDnhnyP8AhUmr2/l/2trdjpXn7v8AhJWz5P23zdmBv8vZuTdvXv8A/hXP7U3/AEWT9n//AMM3q/8A809H/BSz/k3Pw9/2VP4df+pvodfQFAHz/wD8K5/am/6LJ+z/AP8Ahm9X/wDmno/4Vz+1N/0WT9n/AP8ADN6v/wDNPX0BRQB8/wD/AArn9qb/AKLJ+z//AOGb1f8A+aej/hXP7U3/AEWT9n//AMM3q/8A809fQFFAHz//AMK5/am/6LJ+z/8A+Gb1f/5p6P8AhXP7U3/RZP2f/wDwzer/APzT19AUUAfP/wDwrn9qb/osn7P/AP4ZvV//AJp6P+Fc/tTf9Fk/Z/8A/DN6v/8ANPX0BRQB8/8A/Cuf2pv+iyfs/wD/AIZvV/8A5p6P+Fc/tTf9Fk/Z/wD/AAzer/8AzT19AUUAfP8A/wAK5/am/wCiyfs//wDhm9X/APmno/4Vz+1N/wBFk/Z//wDDN6v/APNPX0BRQB8//wDCuf2pv+iyfs//APhm9X/+aej/AIVz+1N/0WT9n/8A8M3q/wD809fQFFAHz/8A8K5/am/6LJ+z/wD+Gb1f/wCaej/hXP7U3/RZP2f/APwzer//ADT19AUUAfKX/BPnRvHmm/Fr9qCDxV4k8I6z4ij+KFn9tvtK8N3GmWVwT4O8MlDHbSX1w8YEZjUhppNzKzAqGCKV1v7HP/Jx37WH/ZUrD/1CfC1FAHm/7c//ACkO+B//AGTrxz/6c/CNfNP/AAWb8Ga14+/4Jg/GHT9Bjnm1BdGW7aKFN7ywQTxTzqB3zDHIOOa+lv25/wDlId8D/wDsnXjn/wBOfhGppYlniZHVXRwVZWGQwPUEVnWg5wcY79L6q/S66ruuq0OjD1PZ1Iz7NP7ji/gX8VPDPxH+APhjxd4f1Cxk8K6ho0F7a3KSgQxQeUD8zHG3YAQwbBUqQcEGvjP4o/sk+B/2xP8Agsn420f4gWd9r/hrT/hdo15/Yy6jNb6ffTG/vFjlnSJl81owXMe44UuzYzgj2Wb/AII0fszT+LZ9Y/4VTpcbXV4L+XTotRvo9HkmGPmOnLMLMjgfL5O3gcV7bo3wD8I+H/jLqHxAstHS38Xapo9voFzepcS7XsYJHkihEW7ylCs7HcqBjnBJAAHRKSlWjWfeTtva8JJa9bOS1stFffQ5oQlCj7GL6RV9r2lFvTW10n1erttqfA/xt+GXiH9p/wD4KQ/ETwLefDfwJ8TPDPwt8O6LH4b8OeMPFt3pVhZ29zA5mvoraO0uFuZGkBhM0nzRiFAOWzXUDwc37In7AFx4H+Omn6z4v0/xD46GieEfB/g7xTeX928F04az0Vr6U2kkkSFZQwlYL5KhTuA219VfHv8AYj+GP7THinTde8XeG5LjxFo8DWtprGm6peaPqUUDEkwm6s5Ypmi3Eny2coCxOMkmo9R/YT+Emq/s/t8LpvBGl/8ACENcC9NjHJLHL9qD+Z9q+0q4n+07/mM/meaTnLc1zxi/ZuEtb2v1v76k3qrczV7Np2bfR2N5S99NbJaeT5HH5q+rScfvVz44/YFtdU+Df/BU/WPB2n/Bu6+APhrxF8NH1y48JJr1pqVnqF5b6hDBHfpHaSvFDIY5GiPRm25I7mx/wTp/ZG+F/wC2Z8B7X4/fEyPUdW+LmpeItR1C/wDEU2v3lpeeGZrbUJlhs4dsqi3igjVFERUKVPIKkAfW3wR/YC+Ev7OvxKbxl4R8KvYeLJdPm0ufWLnVr3UL68t5ZY5XSeW4mkaY7oo9rSFmRVCqVX5a5zxL/wAEov2e/F/xiuvHeofDXTZvEN9qCard7b27i0+9u0O4TzWKSi1lfd8xZ4iWYknJOa6KcknBvdJq/Ve+5K13/K0t1ZxSVomU43jNLq07dGlDlaenV67PTV3Z8k/GX4t+JPgZ4S/4KHeJvCd9PpeuWPiHRYob+D/W6ck2nWUMtwh6h44pHcEcgqCOat/tl/se/DP/AIJ//BX4cfFT4L/b9I+J/wDwlmhWlnq0Ou3Fxd+PVvLhFuLe63SFLoTxs8rfLwVyu1cg/e+hfs1eBfDus+Pr638O2cs3xQlWbxSl28l3b6yVtxbASQys0YQwqEKKqqwzkEkmvNfg3/wSs+APwC+I2n+LPC/w7srPXNHZ30yW61G91CLSmc5ZrWG4mkityfWJFI4xis6HuSpuX2VSu+vuJJx/wuz7aN3T0SdWPNCaX2nVa/7fd4v1jvtvs1u/B/ib+yr4O/a2/wCCx/jzQfH1rqWteGbP4YaLdy6Iuoz2thqMo1C8EbXKRMpmEeWKK5KBmLFSQpHf/wDBICzbwV4K+M3gG0ur+bwz8NPijq3hzw3bXd1JctpunJFbSx2yvISxjRpXCgk4B79a+kNO+BfhXSfjbqXxGt9L8vxlrGkwaHeah9pmPnWcMjyxxeUX8obXkc7ggY5wSQAKT4V/Arwr8E7zxRceGNL/ALMm8aa3N4i1lvtM032y/mVEkmxI7BMrGg2ptQbeFGTkw/7uPL05Zp+cnVU0/lG6vur2WmpVT3m3/ei16KnyNfOVn6K++h8o/tdfDbQf2uf+CoXgf4Q/EtZtR+G9j8P7zxVZ6A19LbWmv6qL+OEmZY3UzeRCodUOQC7NjAbPmv7LvhvT/wBlP9pj9ua1+Fdzeax/whfhPRJ9EsrjVH1Y2F1Dp2oPHYq8jO4SORQixMxKDC9AAPtT9pn9i34Y/th2Okw/ETwrBr0mgTNcabdx3dxYXtgzAB/KubaSOZFbA3KHCttXIOBh37Pv7F3wu/ZV1PVrz4d+DtN8Jza9a2lnfrZPKIriO283ycxsxQMDNKWcAM5clyxwaz5JewlSTs2pq6680m1J7axVo9dErNLQ0lKPPztX1ho+ii43S30lZvoryej3Pzj+Bf7FHxI+Nf7M3gH4keC/B3wx0n4hawlh4mi+LM3xL1ObxBdTu0clw90v9n7XSRfMie0aQxLuKgZXNfrWm7Yu7G7HOOma8A0f/glt8BtA8WLq1n4At7dUvxqiaSuqX39hR3QbeJV0vzvsKsGAYYgGGGRg819AV0zqJq0VZXbt0V0tFtta2iW1+tlzxjJSvJuWiV3u99Xvrrfd7/N6H/BLz/kcf2m/+yq2/wD6h3hivrCvk/8A4Jef8jj+03/2VW3/APUO8MV9YVkAUUUUAFFFcT+0N4r8beDPhHql98OfCdj428aboYNM0u+1RNMs2eSVI2mnnYMVhhRmlcIryMsZVFZ2UVMpWV/6/r+mVGN3Y7aivjX/AII/ftGfFj41+G/j5a/GjxRonibxH8N/ipqfhaK50nSk03T7S2t7Oyk8qBBmQxLJLKVaZ3lII3MeAPA/APxr/a+/bS/ZS8WftR/D/wCMWg+AfDcUmq6r4J+GU3gqz1Kx1rS9PlmSMX98/wDpizXfkPkwMgj3KVHOAVJxhFTl8PJGbfRRklJX63s9km3aVrpXHTpucnBb8zgl1ck2nbyut3Zaq9m0j9RqK84/Y+/aGtf2tf2Vfh38TrK2+xW/jzw7Za59l37/ALK08KyPFu77GLLnvtrhvh5/wVH+BfxZ+OEPw88NeNpda8RXWoXGk281poWpSaPdXkCNJNbxan9n+wySoqPlEnLZVhjIIrapTlTrOhL4ldW9HZ/j+aMKdRTpKuvhsnfyavr20PoCivn39o7/AIKm/An9k/4h3nhPxt44ks/EGl2K6nqdnpmhalrTaLat92e9ayt5ls4yPmDXBjBX5vu811HxZ/br+EfwR+C+g/ELxB460dPCPixoI9AvNP8AM1OTxC867oUsYLVZJrt3XLBIEdtoLYwCRjzLl5+l7X6Xbsl6tq3qbSjJOzXS/wArXv6Wafoz1qivBf2Qf+CmXwZ/bw8T+ItH+FviLXPEF94TZo9XF14T1jSY7CVWVWheS8tYY/OBYZiDGQDkrgE171Wji0k2t9V5ruRzK7XVaPyfZhRRRUjCvn//AIKWf8m6eHf+yqfDn/1N9Dr6Ar5//wCCln/Junh3/sqnw5/9TfQ6APoCiiigAooooAKKKKACivzN/aJ/4KQ/FrxR/wAFMvhTpPw38QW+jfAa2+J0Xws14/2bbXL+NNW+xXN3fiKaWNpIYLIww2+6Ir5kzzjcRFiv0p1nWbPw7o91qGoXVvY2FjC9xc3NxII4beJFLO7s2AqqoJJJwACaUZJ0fbvSN2te3LGSfazjKMk77PWw5K1X2O7sn97lG3qnFpro1Ys0V4R+zf8A8FLvgt+1x4/Phn4f+LL7XNTezm1G2eTw7qdjZanbRSLHJNaXdxbx293GrOo3QSSDDAjIOawvil/wV+/Zz+DHxP1bwj4j+JFvY6n4dvotN1m7i0fULrSNCupCFWG91KGB7K0kyQCs8yFTw2KfVLq9vPW2nfXT10Got3t038vXsfSlFeQ/tLft4/Cf9kWDQv8AhO/Fi2N34oEj6Pp2m6dd61qWpxxqHklhs7KKa4kiRSC8ixlEDLuYZGYf2M/2+/hX/wAFAvBWoeJPhL4g1LxNoOmzi2lv5/D2paVA8h3ArE15bwibaUYMY9wUjDYJAoinK/Lry7+XTXtroTJpWv1289L6fLX0PZKKKKACiiigAr5//Y4/5OM/aw/7KpY/+oR4Vr6Ar5//AGOP+TjP2sP+yqWP/qEeFaAPoCiiigAooooAKKK8L/a6+EPx1+M2u6Hp/wALPi/o3wZ8O28Uk+r6pF4Xg1/W72fIEUEKXebWGELuZ3ZJJGO0KEGWKb1S/ra/9eYdG/67f1957pRXyB/wRy/ah+JP7RHwr+J2h/FLWtJ8ZeIvhH8QtT8Cp4v0vTV0+18WQ2iwkXfkoTEk253WRIjsVlwOQc+uftO/t+/Cb9jzXNH0nx74nuLHXPEEUtzp+kaXo1/rmqXEEX+snFpYwTziFehlZAgPG7PFOo4xUXdWkk0+6lFSW9ns723CClJyjZ3i2muzi3F7X6o9joryb4g/t0fCf4Vfs26X8XfEPjTT9L+H2uQ202m6nLDMX1H7QMwRw24Q3EszjpCkZk4b5eDiD9mn9vX4TftdL4kTwJ4sW+vvB7IuuabqWm3mi6npAdS6PPZ30UNxHG6glZGjCMFOCcHA9HJPeO/lbe/a11v3CKbiprZ7Po/TuewUV8iy/wDBdf8AZc/4T3RfDdr8Q9X1bVPEt3LZaI2leCdf1Kz12SNtshs7q3sngukU9ZIZHQDktjmvrqnZuKmtns+j/q4uZX5ev9f5P7gooopDCiiigD5//wCCln/Jufh7/sqfw6/9TfQ6+gK+f/8AgpZ/ybn4e/7Kn8Ov/U30OvoCgAooooAKKKKACimzSNFCzKjSMqkhFIyx9BnA596+B/2bP2q/2kPEf/BXKy+H/wAWl8K+D/CPiL4V3vjCw8C6OsV/NokseqWttEbzUtubi62PLvEG23XeABIV8wlP36qordqT8vdjKT+dovb52WoS92m6nRW9dWo/ddq599UVW1nWbPw7pF1qGoXVvY2FjC9xc3NxII4beJFLO7s2AqqoJJJwACa8Q/Zv/wCCl/wW/a3+IB8M/D/xZfa5qj2c2oWzyeHdTsbLUraKRY5JrS7uLeO3u41Z1G6CSQYYEZHNEXeXIt97dba/5P7mEtI8z22v5nvFFfNfxT/4K/fs5/Bf4n6t4R8SfEi3sdT8PXsWm6zdRaPqF1pGhXUhCrDe6lDA9laSZIBWeZCp4bFdt+0r+3j8J/2RrfQW8deLFsbrxQHfR9O03TrvWtS1SONQ8ksNnZRTXEkSKQXkWMogZdzDIzPNHlU76PZ9O+/pqVKEk+VrU9eorxv9jT9vv4Vf8FAvBeoeIvhL4g1LxNoWmzi2mvp/D2paVA8h3ArE15bwibaUYN5e4KRhsEgV7JWkoyi7SVv+DqiIyT2/q2j+5hRRRUjCiiigD5//AGOf+Tjv2sP+ypWH/qE+FqKP2Of+Tjv2sP8AsqVh/wCoT4WooA83/bn/AOUh3wP/AOydeOf/AE5+EasVX/bn/wCUh3wP/wCydeOf/Tn4RqxQVEKK8t/as/a68L/sheDtL1LxBZ+Ida1DxBqC6TomheH9POoatrl2yM4ht4QRk7UYlmZVAHLDIz8q/Av9pLT/ANpD/gtTp93b+G/Gng/VNI+Dl7a6joninSG07ULJzrFsyErlo5EdCGV4pHUg4yCCAUv3lRU1/eu+3LBz/RLy5k+16qe5ByflZd7yUf1frZr0+/KK+afHn/BTzw18MdWmuNe+HPxi0nwPa6smjXPja88NrbaHbSvIIllcSSrd/ZzKVQTi2MZLDDEHNcb+2j+3H48+BP7e/wAFfBfh/wAG+Ptc8L6/bazNqtnpFnpU3/CUmO0ieFbWS4uEkRrZ2LybmhBDDBlHAmElLlcdpXS+UebXqtPzXRjkrXT6K7/L8z7Iorw74tftuN8L9Ug0+z+EPxq8ZakNKj1a/t9A0CGZdKR13CGSea4igluByDFbyTPkdMEE+Hf8FLf20YPiJ/wSf1fxx8Mbfxhq2j/EDTltoda0cQ2smixPcRxTfafOljkiJ/ewfu1dg5xwPmpTlaLlHo7fNtpd9Lp62ez3sOmlKSi9L6/Kyf5O9j7ior428N/tK/CH/gmR+zZ4J2/CT4gfDDRfHHiA6LZeHYtMhvdR+3/Zj5bvDb3M+4zi3RVMbO7O6lwCzsPV5P24Ft/g1o/iqb4S/GyLVNdv5NOtPCh8Mq2ub0JzJKqzG3ghKjcJZZ0QgjnJxWs0ldrVJpfN206/zL71exnTblFNq11f5a6/g/u0ue5UV49+z5+2p4c/aEsPGkcOh+LfCfiP4eTCHxD4c8Q2MdrqmnbojLE5EckkLpLGCyPHKysO4rw7R/8Aguv8JdT8CeGvGk3hX4uab8OfEMsVrN4zu/DO3Q9GuZNw8i5mWVmLK42M8KSxBzt3khgs3V7X7PytLZ32s7aP/NFN2V35/hv81fbtqfaVFfO3wS/4KX+C/jX8cNN8B/8ACL/ErwfqHiWym1LwxfeKPDr6ZZeLLeEbpHs2ZjJ8qESbZkifYynbyKn+Kv8AwUS0HwB8R/Efhnw/4B+KXxOvPBcat4juPB+jQ3lrobsgkEEjzTxeZP5bK5hgEsgDDK54ol7tubS6b+S0d+1no72s9HqEfe0jrt+O1u9+lt+h9BUVzPwZ+MXh39oH4WaH408JalHq3hzxHareWN0qMnmIcjBVgGVlIKsrAFWUggEGumqpRcW4y3RMZKS5lsaH/BLz/kcf2m/+yq2//qHeGK+sK+T/APgl5/yOP7Tf/ZVbf/1DvDFfWFSSFFFFABXH/Hz4/wDg39l34S6v46+IGv2fhfwjoKxtf6ndhvJtRJKkSbtoJ5kkReAeWFdhRUyvbQqNr+9t/XqflZ/wRF/4KG/A/wCKnx1/aU8B6T8RtEvPE3xW+Mmv694X09BKs2tac9han7RDuQDbtgmODg4jJxiuK/Zb/wCCkPgr9gP/AIJh61+zF4xg8Qf8NIeAbTXvCOk+AoPD9/NqHiy4lurwafNZeXEyzW9wskbCVCVA3HsM/sRRSqUoTo/V3flcI05d2oR5YtO2j5b9Gru9tEioVZRqusrc3O5rycm5NPum2uz93fVnhn/BNn4D6t+yp/wTz+Dvw/8AEkfl674P8H6fYarEjCbyblIFM0alMhtrllBXOdvGc18HfsoftT+H/gD+038L/hv+yv8AGKP4yfC3xt4qurfXvhlqmhzyax8NrOZri5u9RS98uKe1hiuCAbfUUZj5pVGycr+slFb1KrqYr6zLq7tLZ3d2nvo9trrVpp6rmhSUML9Wi3skn2smk/VXvvbo01ofjb4b13T/ANk/9sn9pvQPjF+0/wDEf9nHVPF/xAvPFOiJFo2jf2V4z0e6gh+zS2tze6ZcPcywqPszwpK2wxKoQEsKf+05PpH/AAT2+HX7BUnwmk8Q6lpXhfU/El3oGoeP/D2r7r1LqylZ7O4sNO05r2CaZbmVoHjtP3KQHdGyk1+x9fNf7ZX7B3iL4+/Hj4d/Fj4d/Exvhl8Svhza32l2t3e+HovEOlX+n3piNxBNaPLCyuTDHiWKaNwNwO4EYwppwp06S+zyK/lCLUdHv0vrZXb5WvcOiXLOpOo18XO7a7z+KzWy1dtL7LmWsjx7/gi/8RdC+LXxK+P3jTUPiL4R8SfFnx7r1jqnijwvoWmalpUXhCCCzS0s4fs+pQ295IzRR5e4kt4t7kjaNoFfetfOP7J37CeufB39oDxd8YPiV8Rn+KPxU8WaTbeHBqFtoMWg6Xo+k280k8dpa2aSTOC0srO8ks8rMVQDaAQfo6t6nLyxUeiS8lZWS1SfwpXv1vq/ieSvzSb73+/V6dPebSXa2i2RRRRWZQV8/wD/AAUs/wCTdPDv/ZVPhz/6m+h19AV8/wD/AAUs/wCTdPDv/ZVPhz/6m+h0AfQFFFFABRRRQAVwP7VHh/x/4t/Zv8b6V8K9V0XQviNqWjXNr4d1LVi4s9PvHQrHNJsSRsITuGEfkDKsMg99RWdWmqkHTls0195dOo4TU1unc/EX9oz4GftX/spW/wCxR8O5PDf7Mlna+EfiRb2nhM6b4i125/tDVP7OvmeXUpJrNWCS7riWSSMO5lcfLgnH6+fGV9Ib9mDxR/ws6NF0OTwzcr4rTSo7q5UW5tmF2IFiQ3DrtMm3YnmEYwN3Fd9RWlZurRqUp2fPJyeneMY2t8tdrqy0tdxStCrCpG65Ulo9dJSle+vfTfW71vZfmT/wTS/apn0H9q7wX8Evgz8ZbP8AaQ/Z/XwrdytfS6RjVvhdHapEtha3OowJHBcLNlolinjW5XywWJCnd8w/sw2nhH4Ufsu+NPgP8ef2p/i98JfGkera9pPiX4dQ+GdIlfxOl5eXB+1adHJpE95qEd7FKHV4nlcs5CnAWv3UopVEpu8/eumpX1cry5tX6aO972Td2kFP3ItR095SVtLWTVvTVvS1ntpo/wAiP2uPjRqn/BPf/goV8Co/h3aC8bQ/gN/wjll/wm2ja/fSa1ZLe24CbNH026ubW7g8iJ5mktxG4nVCI2CkfVv/AAQ+vfCd7+yp4kudC+Jnhz4meJNc8a6x4h8YT6LY3Gm2ukaxfXBuJ7KOzuQtxbxx7lVRKis4BfaNxFdF8e/+Cf3jjXP2xpfjh8Ifi9a/DbxZrPh2Dwv4gstb8Ix+J9L1W0t5ZZbcxp9otpreRHmkJKTbH+XKZBJ679h/9iKT9k2fx54j8ReNL74jfEz4qarFrHivxJPp0OmQ3ckFultbw29pEStvbxQoAql5HLM7M7ZAG9Gd4SdR+8+f196s522tZpqTejuku5NWnFOMaa91OGn+GlyX16p+6lqrO/p71RRRWJQUUUUAFfP/AOxx/wAnGftYf9lUsf8A1CPCtfQFfP8A+xx/ycZ+1h/2VSx/9QjwrQB9AUUUUAFFFFABXxn/AMFTf2gf2bPC+qaD4H/aVvPHnhTw7fW7ajpuvWl5r2j6Hdyt5sUlnLf6VLGPNCLuMNwQhEkZXcxwPsyis6lPnVna3VNXv/Ts/kXCfLdrf+v00+Z+ev8Awb+6jfW3gb4t+H/B9j4iX9mXw94lii+Dmoa7pb6fd3unyQebeLGJYopprVLlj5c8yl33uGd2Vts3/BU74gfCX4O/tO6N40b9opv2d/j5ovhGW20y71LSG1LRvEmkSXJkNlLbTReXdN58RIW1lW6QsDggoD+glFVWTnytNpxSV73ldQ5W29NZauWlndprUiilBTi1pJt2WiV5c1ra6LpqmrJp6H5F/tn/ABE+KHxx+Bn7D/7QvxS/4S/4L6bod7qF14/vvC2hLeTeC7i9smhs9Va1vba68i2/dsGaaJmgW9ALbsE9p8LdD+FPxOPx9+K/g746fFT9p7xXY/CHUvDV3erY2Ftpklmyy3CWUF9Y6bb28l75gbau+R4xISUAIr9QK4P9qL9nrRf2s/2dPG3wz8RXGpWmh+OtHudFvp9PmEV1DFMhQtGxBAYZyNwKnGCCCQc8ZFzpVo00veU+VdnOLja78m1snZ2vZI2wslGpRdR/DyKT7qM+e+mt7921otL3v+O/7E37VsHx30f9jXwf8UviZ8MfA/gP4UXmk6h4bu7Xwt4n0y88aalBp72ljZ/adQ0+20+3ULM3mG3ubhZ3VQm1XAr9xK+Gbr/glP8AFj4vfD7wj8OfjB+0VZ+OPhH4WvLC6uNB0f4dW2gahr6WE0c9nb3d4LqZBCrwxBxb28LSKpG5M5r7mHFeliqkZuUov4pyl635feemjdrWTaSS8zho03FRT6QjH0s5Oy8le97J6sKKKK4zoCiiigD5/wD+Cln/ACbn4e/7Kn8Ov/U30OvoCvn/AP4KWf8AJufh7/sqfw6/9TfQ6+gKACiiigAooooAGbYpY9Bya/IfX/8Agsl+zFL/AMF1PD/j4fGLwv8A8IdZ/By98MT6sVnFvFqT61BMtsSY87jGjNnGAB16V+vFFFP3a8ar2jzaf4oyg9fSTtpvbdaFSadKVPrLl19JKW3rFddr/Li/2gbjwrcfs+eM5PGf2mTwTNoF5/bf2WG4mlawaBxPsS3VpmPlFsCJS/8AdGcV+fn/AATT/aom0D9q3wX8E/gx8ZbP9pD4ADwtdStezaRjVvhdHapEtha3OowJHDcLNlolinjW5XywSSFO79N6KmMUpyk9mrNd9JJX/wALleLsmnfXVkzvKnGHVO9/uvbqr2s9WnppofhZ+zHa+EfhP+zD41+A/wAeP2p/i98JfGker69pPiT4dw+GdIlfxOl5eXB+1adHJpE95qCXsUodXieVyzkKcBa9c/a4+M2qf8E9/wDgoL8CE+HdqLxtD+BB8O2X/CbaNr99JrVkt7bgJs0fTbq5tbuDyInmaS3EbiZUIjYKR+u9fK/x8/4J/wDjjXf2xZPjh8Ifi9a/DbxbrHh2Dwxr9nrfhGPxPpeq2lvLLLbmNPtFtNbyI8zkmObY/wAuUyCSU+aMqfS27WmipVILT1nbR2Sbsi6nLP2ja31SfRupCb20+z21sk31Od/4If3/AIUv/wBlfxLdaH8TPDnxM8Sa5411jxD4wn0WxuNNtdH1e+nM81lHZ3IW4gjj3KqiZEZwC5UFiK+yq8F/Yf8A2Ipf2Trjx54k8R+NL74jfEz4qarDq/ivxHPp0OmQ3UkFultbw21pEStvBFEgCqXkcszlnbIA96rary6KOyjFeStFKy0WitZaXaWplG95N9ZSfreTd35u935sKKKKzKCiiigD5/8A2Of+Tjv2sP8AsqVh/wCoT4Woo/Y5/wCTjv2sP+ypWH/qE+FqKAPN/wBuf/lId8D/APsnXjn/ANOfhGrFcN/wUq+J2t+Cv27fgbfab8OvGXi65bwH42gOn6Tc6VHcIh1DwoxmJu72CLYpVVIEhfMi4UgMV5D/AIaj8cf9G3/Gj/wZ+Ev/AJd0FRPNf+CjHhvxV4L+OvwH+M2g+DfEXxA0n4V6rqkevaLoFuLvVBa6hZ/ZxdW9vkGZ4mAyqZba7YGMleP+Bfi3xp+0F/wVksviPcfCf4heA/A8fwtvdF06/wDE2nG0lvZv7TtZf3sS7vszNl9kUrCVljZiiivev+Go/HH/AEbf8aP/AAZ+Ev8A5d0f8NR+OP8Ao2/40f8Agz8Jf/Luin7kk97c1vLmi4v/ANKbV+rfS1qqPmjy+ST/AO3Zcy/HR/8AD3/NP9r3wp8dv2iv2X/iDpHjOL9q7Wfiw93cxz+FNC8OQW/gRLSK9VofKlW3H22PydhXyZ3nd+qYVjX2h+39a+Ifhj+0l+zb8WrLwT418beH/h/PrVhrln4W0l9U1O1F/YJFFMLZPnZBJFhiB8oPJzgH1z/hqPxx/wBG3/Gj/wAGfhL/AOXdH/DUfjj/AKNv+NH/AIM/CX/y7ojeMIxhvF3v8uV/er73d23faxUfPNyl2kvTmt+VtOlrK2mvzJ+0/wCOPix47/aV1S31yb9p7wf8Ob7QtMvvBVl8L/D1tJc3l3LH/pcOp3TwTC1nSRgnlzPFCFXf5nBJ5D4f/s/ePNI/4N6r/wAC3Xg7xkvjZbm8H9h3OnSyaxJnxG8oZolUs5Mf7zcoKsp3AlSDX2V/w1H44/6Nv+NH/gz8Jf8Ay7o/4aj8cf8ARt/xo/8ABn4S/wDl3RG0YuK6tP7m2vzs/RWtbUlKUnFvpZ/dHl/G9/Vu97nC/t9/D/XvGXxf/ZfutH0PV9VtvD/xKhv9Uls7OSePTbcafdoZp2UERxhmVd74GWAzkiov+CmfiX4oaEfhzB4PuviJpXgHUdUuIPHGp+ANFTV/EtlAYf8ARhbwtFM6xtLnzJY43dAq8YJrv/8AhqPxx/0bf8aP/Bn4S/8Al3R/w1H44/6Nv+NH/gz8Jf8Ay7qXG8eX+9zfhFW9Pd/EI+61JdI8v4yd/X3tO1kfLn/BNf4SeLPDnx9/aZ1rUtL+N1xo/izQtC/sPVviTZomsayI7a+Rh+6RE+UlQIiqyoroJEVjis65+BXjKb/g3s8HeC28G+Jm8ZWdhoYk0E6TOdTgePWbeR82+zzVKxhmOVyFBJwMmvrT/hqPxx/0bf8AGj/wZ+Ev/l3R/wANR+OP+jb/AI0f+DPwl/8ALutVK0rrvT/8pttfffX8ERKPNLmfn/5MoL/2z8Th/wBr3wBr3iX/AIKAfsqa1puiavqGj+HdU8RSarfW1nJLbaYsukvHE08igrEHchVLkbm4GTXzh/wzxZ/s/wD7Sfxlt/iP4N/aU1qw8ZeLLrxX4a1v4dapr8um39vdpGzWs0GmXCrb3EUodN06IHQKd21QT9j/APDUfjj/AKNv+NH/AIM/CX/y7o/4aj8cf9G3/Gj/AMGfhL/5d1ko2d/KS+Umm7dneK19U1qaylzKz6W+9c1v/S2rfPc3v2Qfhpovwh/Zw8L6D4d8Ja14F0m1t3mh0LWL37Zf6eZZXlZZ5RNMGkLOzHEr4LYzxgelV4v/AMNR+OP+jb/jR/4M/CX/AMu6P+Go/HH/AEbf8aP/AAZ+Ev8A5d1pOXNJy7mcIqMVFHvH/BLz/kcf2m/+yq2//qHeGK+sK/Ob/gnJ+1N458P+K/2iGtP2bfjVrjX/AMSoLidLLU/CKNprjwp4dj8ibz9cjBkKxpLmIyR7J4xvDiSNPpn/AIbI+Iv/AEad+0B/4N/BH/zQ1JJ9AUV8/wD/AA2R8Rf+jTv2gP8Awb+CP/mho/4bI+Iv/Rp37QH/AIN/BH/zQ0AfQFFfP/8Aw2R8Rf8Ao079oD/wb+CP/mho/wCGyPiL/wBGnftAf+DfwR/80NAH0BRXz/8A8NkfEX/o079oD/wb+CP/AJoaP+GyPiL/ANGnftAf+DfwR/8ANDQB9AUV8/8A/DZHxF/6NO/aA/8ABv4I/wDmho/4bI+Iv/Rp37QH/g38Ef8AzQ0AfQFFfP8A/wANkfEX/o079oD/AMG/gj/5oaP+GyPiL/0ad+0B/wCDfwR/80NAH0BRXz//AMNkfEX/AKNO/aA/8G/gj/5oaP8Ahsj4i/8ARp37QH/g38Ef/NDQB9AUV8//APDZHxF/6NO/aA/8G/gj/wCaGj/hsj4i/wDRp37QH/g38Ef/ADQ0AfQFfP8A/wAFLP8Ak3Tw7/2VT4c/+pvodH/DZHxF/wCjTv2gP/Bv4I/+aGvEP+Cg/wC1f48134DaDBdfsyfHDRY4/iV4BuFuL3VPB7RyPF4w0aVIAIddkfzJnRYUJUIHlQyPHGHkUA+76K+f/wDhsj4i/wDRp37QH/g38Ef/ADQ0f8NkfEX/AKNO/aA/8G/gj/5oaAPoCivn/wD4bI+Iv/Rp37QH/g38Ef8AzQ0f8NkfEX/o079oD/wb+CP/AJoaAPoCivn/AP4bI+Iv/Rp37QH/AIN/BH/zQ0f8NkfEX/o079oD/wAG/gj/AOaGgD6Aor5//wCGyPiL/wBGnftAf+DfwR/80NH/AA2R8Rf+jTv2gP8Awb+CP/mhoA+gKK+f/wDhsj4i/wDRp37QH/g38Ef/ADQ0f8NkfEX/AKNO/aA/8G/gj/5oaAPoCivn/wD4bI+Iv/Rp37QH/g38Ef8AzQ0f8NkfEX/o079oD/wb+CP/AJoaAPoCivn/AP4bI+Iv/Rp37QH/AIN/BH/zQ0f8NkfEX/o079oD/wAG/gj/AOaGgD6Aor5//wCGyPiL/wBGnftAf+DfwR/80NH/AA2R8Rf+jTv2gP8Awb+CP/mhoA+gK+f/ANjj/k4z9rD/ALKpY/8AqEeFaP8Ahsj4i/8ARp37QH/g38Ef/NDXiH7KP7V/jzS/j1+01PD+zJ8cNSk1L4k2VxcW9vqng9ZNLceD/DUQgmMmuojSFI0mBhaRNk8YLiQSRxgH3fRXz/8A8NkfEX/o079oD/wb+CP/AJoaP+GyPiL/ANGnftAf+DfwR/8ANDQB9AUV8/8A/DZHxF/6NO/aA/8ABv4I/wDmho/4bI+Iv/Rp37QH/g38Ef8AzQ0AfQFFfP8A/wANkfEX/o079oD/AMG/gj/5oaP+GyPiL/0ad+0B/wCDfwR/80NAH0BRXz//AMNkfEX/AKNO/aA/8G/gj/5oaP8Ahsj4i/8ARp37QH/g38Ef/NDQB9AUV8//APDZHxF/6NO/aA/8G/gj/wCaGj/hsj4i/wDRp37QH/g38Ef/ADQ0AfQFFfP/APw2R8Rf+jTv2gP/AAb+CP8A5oaP+GyPiL/0ad+0B/4N/BH/AM0NAH0BRXz/AP8ADZHxF/6NO/aA/wDBv4I/+aGj/hsj4i/9GnftAf8Ag38Ef/NDQB9AUV8//wDDZHxF/wCjTv2gP/Bv4I/+aGj/AIbI+Iv/AEad+0B/4N/BH/zQ0AH/AAUs/wCTc/D3/ZU/h1/6m+h19AV8If8ABQf9q/x5r3wE0KC6/Zk+OGixJ8SfAVwLi91Twe0cjxeMNGlSACHXZH8yZ0WFCVCB5UMjxxh5F9v/AOGyPiL/ANGnftAf+DfwR/8ANDQB9AUV8/8A/DZHxF/6NO/aA/8ABv4I/wDmho/4bI+Iv/Rp37QH/g38Ef8AzQ0AfQFFfP8A/wANkfEX/o079oD/AMG/gj/5oaP+GyPiL/0ad+0B/wCDfwR/80NAH0BRXz//AMNkfEX/AKNO/aA/8G/gj/5oaP8Ahsj4i/8ARp37QH/g38Ef/NDQB9AUV8//APDZHxF/6NO/aA/8G/gj/wCaGj/hsj4i/wDRp37QH/g38Ef/ADQ0AfQFFfP/APw2R8Rf+jTv2gP/AAb+CP8A5oaP+GyPiL/0ad+0B/4N/BH/AM0NAH0BRXz/AP8ADZHxF/6NO/aA/wDBv4I/+aGj/hsj4i/9GnftAf8Ag38Ef/NDQB9AUV8//wDDZHxF/wCjTv2gP/Bv4I/+aGj/AIbI+Iv/AEad+0B/4N/BH/zQ0AfQFFfP/wDw2R8Rf+jTv2gP/Bv4I/8Amho/4bI+Iv8A0ad+0B/4N/BH/wA0NAB+xz/ycd+1h/2VKw/9QnwtRXJf8E+fiRrHjL4tftQapqXw/wDF3hO+vPihZmXR9VuNLkvbEr4O8MoBI1reTwEsqiQeXM42yKG2vuRSgDE/bn/5SHfA/wD7J145/wDTn4RqxVf9uf8A5SHfA/8A7J145/8ATn4RqxQVEKKKKCjjP2gf2hfBv7LPwn1Txx4+1yHw74W0fy/td7LFJNsMjrGgEcStI7MzKAqqTz0rd8A+OtJ+KHgbR/EugX0epaH4gsodR0+7jBC3NvMgkjkAYAgMrA4IBGeQDXxX/wAFNv2hvhrc/tg/BP4VfErxP4c8P+D9LluPiB4j/tq6jhtrwW6Pb6danecOXuZHlKEdLbP0k/4I/fH7R9T/AGXPiR8O/DfijTfFFt8EdZv9J0PVrKZbiO90iQPc6dLnJB2ozRY6D7PjnHOcaiVGpVl9lOSt/LFqMr+fM7JaaJvaxcqb9rTpr7TSd/5pXcbeXKrt66ySXU+5qK/LjQv2nP2ovD//AATW8L/tSax8YPD2oW+m2FlqF/4Lj8IWq2uuWZuhbyNPdjbMl06vv/cCKJSoUKRlz9V/t9fHi3+Esfhm51X9ovw78A9BvIpJZVbSbO/1vWH+UKIBdeaixJuG/bbSNkr86DrtWi6TtLdScX5Na9e/S2vSxnSl7SKlHZq689rr1V15a6Nntn7QXxs0r9m74H+K/H2uW+oXWj+D9Ln1a9hsY0kuZYoULssauyKWIHAZlGe4rL0b9qrwTq/jnwT4XbU5rTxN8QdDfxFoumTWkpkns0RHkZpEVoUZBIoKtJkk/Lu618O2P7X+q/tff8EY/wBqC61bxJp/jebwTF4h8MW3iiysRYx+JbWG1SWG8aBcLG7pMAyoFXK8DFe1eDfjr4q8LftOfsu+AbDVPJ8J+KvhtqGoapYfZoW+1z2ttY+Q/mMhkTb5j8IwB3cg4GCMX7Rwl2i1vtKFWfqtILS1+ml7qKk7RUl3kn6qdOHz1k+vnraz+vK474cfH7wl8W/GfjHw94e1b+0NY8A36aZr1v8AZZovsFw8YlVNzoqyZRgcxlhzjOeK+Rv2Pv2mPHXxD/aNt9F+KPxkuvA3xA/tS/8AP+Eup+EbSws72yQypb/2feOnn3XyKkxliuJQQHBjAGRqan+1R8ZryT9sS28Gwjxd4i+GOr6fZ+C9I/s6GRrZJdPt5pgqJ5b3DAvLIqu5ZmAUcELWKqLk9p05HL7nFb7fatvbq5K1nrKNpqn15lH71J+v2b37bJ3uvtaivmP/AIJ2fGVfi5F4if8A4X9d/F64sY7aK90fV/DNnoGs+F7n5/ME1tDFBKiOeFWaIkGJsSPzj6craUbERkpXt/X9eYUUUVJRof8ABLz/AJHH9pv/ALKrb/8AqHeGK+sK+T/+CXn/ACOP7Tf/AGVW3/8AUO8MV9YUGYUUUUAFFFFABRRRQAUUUUAFFFFABRRRQAUUUUAFfP8A/wAFLP8Ak3Tw7/2VT4c/+pvodfQFfP8A/wAFLP8Ak3Tw7/2VT4c/+pvodAH0BRRRQAUUUUAFFFFABRRRQAUUUUAFFFFABRRRQAUUUUAFfP8A+xx/ycZ+1h/2VSx/9QjwrX0BXz/+xx/ycZ+1h/2VSx/9QjwrQB9AUUUUAFFFFABRRRQAUUUUAFFFFABRRRQAUUUUAFFFFAHz/wD8FLP+Tc/D3/ZU/h1/6m+h19AV8/8A/BSz/k3Pw9/2VP4df+pvodfQFABRRRQAUUUUAFFFFABRRRQAUUUUAFFFFABRRRQAUUUUAfP/AOxz/wAnHftYf9lSsP8A1CfC1FH7HP8Aycd+1h/2VKw/9QnwtRQB5v8Atz/8pDvgf/2Trxz/AOnPwjViq/7c/wDykO+B/wD2Trxz/wCnPwjVigqIUUUUFHkXwV/Zcm+F/wC0f8VviVqniRvEWq/EiWwhtoPsP2aPQtPs4nSG0Q+Y/mfPJLI0mE3M/wB0YrM1j9jTzf2yta+Lel+JDpkfijwUfCOt6L/Z/mJqDpM0lte+b5i7ZIlZ49pRtynGVxXuFFRKnGUVF7JNfJxcX96bu97u976lRk4tyW7afzTUl9zSstkkltofLep/8E1P7R/4JaQfs0/8Jps8nRodI/4SP+yM58u4WfzPsvn99u3b5vGc5PStr4//ALEXiLx1+0T4b+K3w/8AiDZ+B/G2h+HZfC08mp+Gk16yurJ5PNBSIzwtDMJMnzFkIZcKykCvoqitZycp+0e927+bTT+9Nq22pnGKjTVJfClZLyvF/nGL+R8o+EP+CZN54e/ZU+PHw31D4lX3iDUPjlqWpapdeILzRYY57GW9tIYHLQQukcuGiL/J5QwwXAxuPcR/sUtF8evg/wCOF8UMrfCjwnfeFxaDThnUzcxW0f2gSGQiLZ9nzsKvnfjcMc+7UVO23ZL5RjKCXyjJr533SYSimrPu383KMn98op/K2zZ8vx/sI+P/AIjfEzwDq3xW+MVr490f4aa2PEWj2dn4MttGvLi+RHSGS6uUmkDKiyNlIIoFc4LDAxW5pP7F3iXwL4o+OHiDwh8Sm8N+Ivi9rVhrNnejw/DeLoJtraGAxNHLIVuUkWI5P7pgJDtIIDV9CUULTRef4uLf/pMfkrbaFPWXO97p/dzW02t70tNtdjwX9nj9jrXPh3+0H4i+K3j3xxa+OPHmvaLb+HI5tO8PJoVhZafDK0wQQiWaSSRpGJMkkrYACqFHFe9UUU76KPRbfe3+bb9WSopNvq9/uS/JJeiCiiikUaH/AAS8/wCRx/ab/wCyq2//AKh3hivrCvk//gl5/wAjj+03/wBlVt//AFDvDFfWFBmFFFFABRRRQB8+/t/f8FCND/YR8CLcHwv4o+IHjLUdOv8AVNJ8MaDbFp7q3skR7q6nnYeTaWsIkj8yaVhjeoRZHIQ+gfslfHj/AIak/Za+HPxK/sr+wv8AhYHhrT/EP9nfaftX2D7Vbxz+T5uxPM2b9u7YucZ2jpWN+35/yYp8aP8AsRdb/wDSCeuW/wCCSn/KLb9nP/smvh//ANN0FGH1Vbm1cXTt5KXtbr/yRb38rbFVtPZOP2ue/wD277Oz/wDJn/wT6Eor4L/4Kr/sQeKfjf8AHzwj8SpvhnoP7Rnw38KeHrrTL/4W6prbaa6XckwcavZLJm0uLpYd0Wyfy2242SBjgeA/th/HCx/aq+An7D3gf4M+GWuPgb8ZJ7+3k8L+KvE154bh1MadZH7HouoXsSXU+3zEnJiBdZ3tEXeykExTk5xvbXmUbdruSTfqo8yte/w3UtAkoqfLfTlcr+iTdummqd2tr6p3P1yor8z/ANn39kv4ofsF6r8ePHEOj/Cv9n34X3fwzvrxPC3hbxhqGv6bpuuWyyOmtR20tjbraqIcrKsCnzDHGSrNyPl39mz9hjwH+19qn7IV7pP7MPxIg+I2i31l4l+LPjrx7oN0unazaGxdruSa+u3MeqzXV08MsDRGRoxz+6AZK1oxU6qhsvcv3XNKcb22slBybunytaXulFW8IOSXSVuibjGMrerclFaPVPpa/wC6VFFFSMKKKKACvn//AIKWf8m6eHf+yqfDn/1N9Dr6Ar5//wCCln/Junh3/sqnw5/9TfQ6APoCiiigAooooAKbPOltC8kjLHHGpZmY4CgdSadRSle2gep8e/sxf8FetH/a0/bmX4U+F/h/4qtfCN94LufGWi+NtYzp8PiSCG8t7XfZ2Tp5zWrtOSlxIY9/lkpGyFZD9hV8P+If+VjPwx/2b5qP/qQWtfX3xd8J6l49+FHifQ9F1mbw7rGtaTdWNjq0IJk0yeWF0juFAKndGzBxgg5XqOtTKTWDhWiuaVp+rcalSK8ldRSNOVfWZU27RvH5KUISfm7Ns6KivzH/AOCaPwn8M/sCftYeC/hX8QvgTZeC/jh4m8MahBpnxM8Pa5Lq2l/E5bQQzX8100jJcx3bMY5tt1E+0lwkuCA3zJ+zf+yH8U/+ClX7Mfi34pX3wo+FfiL4s+K9b1hF+I+tfFfVtL8U+CNRtb2eKCK2hh02RbBLIpGEgilCuiKXyHq5aP3feVm7rraXLpe3Z/Fy2ejtdMmnaV+bT3lH5uLlrbyT+HmutV5funRX5Sftn3FnrX7ZnwP8BftEeFvGH7QXh3Qfg22qeJfDXgvRNQ8Q2UXiB7mC3XWbmwt0U3EUvl3UUMhjYxMWYpGHDr7z/wAEE/2Lof2QP2UPEkp+GbfCyTxx4v1TWtN0W+jX+2rLRGuHOmW+oSBnZp44GPDuzoHCsdwNaU4qSk76Lms1qny1HC3SzdnJb+6tbMylJpRutXy3T3XNDnv6LSL21Z9xUUUVmWFFFFABXz/+xx/ycZ+1h/2VSx/9QjwrX0BXz/8Ascf8nGftYf8AZVLH/wBQjwrQB9AUUUUAFFFFABXz7+37/wAFB9E/YS8CLcHwv4o+IHjLUdOv9T0nwxoNsWnureyRHurqedh5NpawiSPzJpWGN6hFkchD9BV5L+3z/wAmL/Gf/sRtb/8ASCauPMKk6eGnVg7OKb+5N/1ozqwdONSvCnPaTS+92Nj9kj48/wDDUv7LXw5+Jf8AZP8AYX/Cf+G9P8Q/2b9p+1fYPtVuk3k+bsTzNm/bu2LnGdo6V6FXzz/wSS/5Ra/s5/8AZNvD/wD6boK8R/4KsfsQeKfjf8e/CPxKm+Gmg/tGfDfwp4eutM1D4W6rrbaa63ckwcatZLJm0uLpYd0Wyfy2242SBjgenmnLQxU6cFaKlJdbJK9r7volfzu2ldnn4GTq4eNSb15U/Vu17bLq38rJN2R96UV+Rn7Yfxwsf2qfgD+w/wCB/gz4Zab4G/GS4v7aXwt4q8TXnhuHUhp1kfsmi397El1Pt8xJyYgXWd7RF3spBPof7Pn7JXxQ/YM1b47+OIdH+Ff7P3wwu/hnfXa+FvC3jHUNe03TtctlkdNajtpbG3W1UQ5WUQKfMMaEqzcjmry9lGrOadoc/r7kb69r7Kzetn8LuumjH2ns4x+KfK7eUpct++mrd0tF30P0wor8LP2bf2GfAf7X+pfsh3mk/sw/EiH4jaPf2fiX4seOvHug3S6brNobJ3u5Jr67cx6rNdXTwywNEZGjHP7oBkr9066KlHkTUnqpNeTtb3k92m20rpapnPCpzWaWjipel2/dfZpJN6vSSCiiisTUKKKKAPn/AP4KWf8AJufh7/sqfw6/9TfQ6+gK+f8A/gpZ/wAm5+Hv+yp/Dr/1N9Dr6AoAKKKKACiiigDN8YeLtN8AeEtU17WLuLT9I0W0lv766k+5bwRIXkdvZVUk/SvgOz/4Li+NbT4aaP8AGbXP2Z/E+h/sx65ewpB4+k8V2cmq2unzzLBBqlxowjEkdqzurEidnWNg+0gjP07/AMFNfC+p+Nv+Cc/x30jRopZ9V1LwBrdvaxRZ3zSNYzAIuOct0A75r46/bM+LnhW+/wCDWtdSt7y1m0/xJ8KNF0XSUiAdrm+nhtbaGBEXOZBPwVHKlG4G04z53H2lW3NyeztH+ZzdTTvd8ijG3VvR6W2jBSlSp7c/PeX8vLyWfa3vtu/8q1Wt/wBNIpVmiV0ZWVwGVgcgg06vPX+Hmva7+ys3hS11i48O+Jrzwr/ZMWqxbnl0y7a08oXC4KsWjkO8YIOV6jrXwT/wTT+E/hn9gT9rDwX8LfiH8CbLwX8cPE3hnULfTPib4d1yXVtL+Jq2ghmv5rtpGS5ju2Jjm23UT4JcJLggNtUtGvOluo3aa+1ZSbt00UU3rezuk7M5KdS+HhWe8rXXa9t+ut3bS11ZtXR+nFFfhb+zj+yH8Uv+ClX7M3i74o33wo+FfiL4seKtb1hF+I2tfFfVtL8UeCNRtbyeKCK2hh02RbBLIpGEgilCuiKXyHNe7ftnT2esftj/AAN8BftEeF/GH7QPh3Qfg6+p+JfDXgvRdQ8Q2cfiB7iC3XWbmxt0U3EUvl3UUMhjYxMWYpGGDrmm7RTsnK3XT4JTdmrt25bbWbcbNpu3RUioykldqN09OqnGHe28r73tF3Sdk/1cor4d/wCCCn7F0P7IP7Kniab/AIVm3wrfxx4v1TWdM0W+jX+2rLRGuHOmW+oOGdmnjhY/K7M6BwrHcDX3FW1SKi1bsnrum0m09Xqm7PXdGUW22uza8mk2k15NK68mFFFFZlBRRRQB8/8A7HP/ACcd+1h/2VKw/wDUJ8LUUfsc/wDJx37WH/ZUrD/1CfC1FAHm/wC3P/ykO+B//ZOvHP8A6c/CNVPGXjXRvh14YvNb8Qatpmg6Np6ebdX+o3SWtrbJnG55HIVRkgZJHWrf7c//ACkO+B//AGTrxz/6c/CNfDv/AAWMTUrn4ufs3215rHhHQvAt14qvYtQvPFmltqWgxan9jJ037XAJ4A4LC4CF5AqyFGIOKmTd4xXVpfe/ld9lfV2XU0p2s29km/uTfy23s7b2Z9aeF/2lvhz43+HWpeMNF+IHgnWPCWjB21DW7LXLW406xCDc5luEcxx7V5O5hgcmtLUPjJ4R0nSPD+oXXirw3a2Hi2eG10O5l1OFIdZlmXfDHbOWxM8ijcqxliw5GRXyd+zX8DtH8A/tX/ETxt4s+K3wX1y41HwQtp4o8O+FNBXSLV7NJWdNRv42vbgNtj86IO6jKMRnC4Pzx/wTQlh0n9rfwCvjCLxLF8Ib+01mT9nMa04aC2ia5kMyS7h5guWtNptPNJxallUljitKaU5xh3V/JWck1fvK3ud/eT1jZzUlywlPs0vW6jrbtFv3vKz0ufpF44/ai+Gfwxtr+bxJ8RPAvh6HSr0abeyanr9raLZ3RjWUW8hkkASUxuj7Gw211OMEGvKf+ClX7RmvfBf9kO18ZfD7Xre1vL7xDoFtb6jbxQXsM9pd6jbRSbPMV42V4ZGAYDIDZUg4NfNPwUuv2eW/4KWftbQ/F6T4ZnxFHq2ntZp4wa22rpzaVAJzCLr93tLD95s+YgJv+XbXmun2zWv/AAQ0tBZfbh4Rf4s2j+EFulkDLoh8URG02+YN2wrkqTnhhU4f33Sb+17GXlaUoJxfe93bulJPbUxDcIVbdPaR87xjNqX/AJL+MX1sv1E+LHx58DfAXS7a+8deM/CfguyvJDDb3Gu6vb6dFO4GSqNM6hmxzgHOKuN8WPCq/Dh/GJ8TeHx4RjtGv21w6jD/AGatuoJMxuN3l+WACS+7Ax1r4qaf4Z3H/BXv4wL8cX8IfbLfwvoS/D9PFphFoNNaOY3xtBcfuzIboMHZMtgYzjeK8Y8JHR5P2C/+CgEnw9Fr/wAKVmutTfwcbAY01pP7NH9oGzx8n2fz8bfL/d8HbxWMqjVGdT+WEp+WklHlfnrr2acdbXNlD99Gn3lGP/gUee/yta2t7p3Wx+mHhT4+eBfHmua1peh+NPCetal4bRZNWtLHV7e4n0tWGVadEctECASC4GQKq/Cz9pj4b/HPVb6x8E/EDwT4xvtLUPe2+h67a6hLaKTtBkWF2KDIIywHPFfNWveF/hL+wp/wSlm8U2/wl8M6xotn4K08ano8FjDGdeEqxDy7uZkYtGZZS8jy7wAXYg85+f8Awz4y8SP/AMFVP2XY9V039nfw291aa5Db6f8ADbWXvr9NNfSpJYob0eREnkBo1MZQFCyuVwM57JU0sVLDrZXV/NKT/RadNXfRJ88anNhliO6bt5JJv87dr287fW3wZ/4KjfDP4v8A7V/xA+FqeJ/AtnceFLvTrDRLxfFdrM/iye5gLyxW0PBMkEg8plRpDu4O0/LXrXjP9qT4Y/Dnx7b+FfEPxG8CaD4ovNn2fR9R1+0tb+ffwm2B5BI249MLz2r5a/Zu1fwb8Pv+Cs/7Tema3deF9F1rWm8KXOgW17JBbz3pbT2iZrZWILMZgFITJ3Fc9Rnw/wDZVvP2b5f+CdnxMuPjhJ8Om+J0+oeIf+FhHxCbc+IBqX2u4RAol/0hWCiIQCMAhtuwb91ccqvLRVR6tQUnbq7K6Xmnfm7NxVtdOhU3KryJ2vKMV5c0W7vvottL6u+lj9NPGnxM8N/DcWP/AAkXiDQ9B/tOV4LP+0b6K1+1yLG8rJH5jDeyxxu5C5IVGPQE15t4r/aRj8YXnwz1T4b+Pfg1qnhPxR4hbTdQu77W/PfVoljkJt9Je3cxzXgdMlGJAVH4yK+E/EHwyvfi1+xX/wAE+/DPxc0ltYk1Lxjp0Wp6fqiMxuYF0+8a3SdW5b9ysO5W68hgQSK+h/2+PAeh/Df4u/sl6X4d0XSdB01fi3HKtpp1pHawB2069LMEjAXJPJOOa7JUlCr7OT2qqH407t+vM9PLzOWNbmo+0S3puf4Tsv8AyXc+lPip+0v8OPgVqNjZ+N/iB4J8G3epgtZwa5rlrp8l2AcExrM6l8EgfLnk12Vlew6lZw3FvNHcW9wgkiljYMkikZDKRwQQcgjrX55/s03nwRf9o39qSb4+SfDk/ECHxvdRyjxsbXzE8NLbQmw8hbvgWvkliSgwxOWyNlen/wDBDqO6i/YaxCt4vg7/AISrWj4KFyJA/wDYJvHNpjzPm2H59uf4dvasaPvwUn1jGfl71vdf97X58stra7VfclbtJx+6/vejt+MddT7R/wCCXn/I4/tN/wDZVbf/ANQ7wxX1hXyf/wAEvP8Akcf2m/8Asqtv/wCod4Yr6woMwooooAKKKKAPF/2xf+Ce/wAJv2+tK0ix+Kvh/VPENnoa3CWkNr4k1PSI9twEWVZBZXEImDCNRiTcAM4xubMf7G3/AATv+Ef7AOmatZfCfw7qvhyz1pLeO6t7nxLqmrwhYA4iEaXtzMIQBIw/dBdwxnO1ce2UUQbgmo6X3t19Qn76Snrba/Trp21PC/2lP+CbPwb/AGt/HyeKPHXhnVL3Xhpg0WW70zxNquite2Id3FtcCxuYVuIt0jnZMHHzsMYJFbXxO/YQ+D/xi/Z40v4T+Ifh94dvPh7oIg/sjR4YTax6M0AKwy2kkJSS2lQFgssLI4DN83zHPrVFTyrl5Lab26Xve/3tv1ZXPLmU76pWv1tta/Y+VPH3/BMXwx8Lv2XPjBofwL0vT/DvxL+Inha60O38R+KdQvPEdxIzQukMM9zqD3Uxtgzn90S0ali3lseD8M+B/wDglT4q1Pwh8KfDPw9/ZAj/AGY/H/hTVNLuNU+K0XxA06c2UNpNGbp4xYXD3WpSXMKSosd3DHGDOd5Xk1+yNFaUZunU9qt/d/8AJHJrbpeTutns9CJRUqfsrae9/wCTJJ+V7JWdroKKKKkYUUUUAFfP/wDwUs/5N08O/wDZVPhz/wCpvodfQFfP/wDwUs/5N08O/wDZVPhz/wCpvodAH0BRRRQAUUUUAFDLvUg9DxRRSaTVmB8Wv/wb3fsmyeLx4gPw98Uf24qGMX4+I/icXCoX37A/9o5C7vm2g4zzivrfx98OND+KXw71jwn4i02DVvDuv2EumahY3GWju7aVDHJG3OcMpIznPPXNbdFOWsPZv4e3T7iuZ+09tf3u/X79zwn9nD/gmp8F/wBk/wAe/wDCVeC/Cd5D4lXT/wCyYNU1jxBqevXdhZ5BNtbSX9xO1vCSBlISinAyDgVgfET/AIJA/s6/FL4la94r1b4dqupeK7n7br1tYa5qWm6V4gnJy0l9p9vcR2d27nlzPC5kJO/dmvpWih6tN7rby1vp89fUlaJxWz38/Xufm7+31+wBq3jn9v7QfHutfsz+G/2lvhPp3geLwvoXh+z1HSNLuvBlxHO8ksjW988EN1FKphSPExMASQLGu4l/XP8Agj9+yL42/Za8K/Eu68SaB/wrfw1438RpqnhX4bL4jfxAnge0W3SOVDclmjElxMJJmigd4YwUCsSWA+xqKqnNwg4Lrf8A8mnzvyb5ur1S07hUtNpvpb/yWPIvRW6LS+oUUUVIBRRRQAV8/wD7HH/Jxn7WH/ZVLH/1CPCtfQFfP/7HH/Jxn7WH/ZVLH/1CPCtAH0BRRRQAUUUUAFeL/ti/8E+PhN+3zpWkWPxV8P6p4hs9DW4W0htfEep6Qm24CLKsgsriHzgwjUYk3Ac4xubPtFFTKKe6KjOUXeLseJ/sbf8ABO74R/sA6bq1n8J/Duq+HLPWkt47m3ufEuqavCFgDiIRpe3MwhAEjD90FyMZztXFf9pT/gm18G/2uPHsfijx14Z1S915dMGiy3emeJtV0Vr2xDu4trgWNzCtxFudzsmDj52GMEivdKKuo3N3nq/P0t+WnoTD3E1DS+9uvr9y+48l+Jv7CHwf+MP7O+l/CfxB8PvDt58PdBEH9k6PFCbWPRmgBWGW0khKSW0qAsFlhZHAZvm+Y58u8e/8ExfDHwu/Zd+L+h/AvS9P8O/Er4heF7rQ7fxH4o1C88R3EhaF0hhnudQe5mNsC5/dEtGpYt5bHg/VdFZVqaqxnGX20031d1Z6+hdKo4Sg19hppdFZ307fI/G3wP8A8EqfFWpeEPhT4Y+Hv7IEf7MvxA8K6ppdxqnxWi+IGnTGyhtJo2upIxYXD3WpSXMKSosd3DHGDOd5UZNfskOBRRXVVryqb9W5fN2v6LRaKy3e7ZhGmo2t0SXyV383ruwooorE0CiiigD5/wD+Cln/ACbn4e/7Kn8Ov/U30OvoCvn/AP4KWf8AJufh7/sqfw6/9TfQ6+gKACiiigAooooACNwweQeor5Z8Af8ABFD9lv4X/G2z+IWh/CDQ7LxFpuonV7FDe3k2l6denBFzb6c8zWUEqkBleOFWRgGUg819TUUR92XPHR9+oS1jyPbt0/rV/eY3xE+H2i/FnwFrXhfxJp1vq/h/xFZTabqVlOD5d3byoUkjbGDhlYjgg815F+zh/wAE0/gv+yf49/4SrwX4TvIfEiaf/ZNvqmseINT167sLPIJtraS/uJ2t4iQMpCUU4GQcCvdqKI6PmW//AA/+b+9hL3o8r23t56a/gvuR81fET/gkD+zr8U/iVr3izV/h2q6l4quftmvW1hrmpabpXiCYnLSX2n21xHZ3bOeXM8LmTJ37s185/t9/sAat45/b70Dx5rX7M/hv9pb4Tab4Ii8L6F4es9R0jSrrwZcJO8ksjW988EN1FKvkpHibMASQLGu4lv0hoqYxUXHl2jey6axcdvSTt2KlJvmctXKyb66NS39Yr5aHxz/wR+/ZF8bfsteF/iXd+JPD/wDwrbwz428RJqnhX4bL4jfxAngi0W3SOVDclmjElxMHmaKB3hjBQKxJYD7GoorWpUcmm+iS69EktXdvbVvczjG1/Nt/e2/1CiiioKCiiigD5/8A2Of+Tjv2sP8AsqVh/wCoT4Woo/Y5/wCTjv2sP+ypWH/qE+FqKAPBv+ClX7RXw/8AhF+3b8DdY8WeOvBvhfSZPAfjazS91bWrayt2nfUPCjrEJJHVS7LHIwXOSI2OMKcefeMv26v2X/iL4YvNE8QfGP4C69o2oJ5V1Yaj4s0m6tblM52vG8pVhkA4IPSvcv25/wDlId8D/wDsnXjn/wBOfhGrFJpNWZpCTWqPl3wz8ff2K/Bfw+1Twlo/jT9l3SfCuuAjUtGstX0K30/UARg+dAriOTI4+ZTWx4i/bB/ZL8X6fodpq3xS/Z11S18M3UN9o8N34k0aePSbiEYhmt1aQiGSMcKyYKjoRX0VRVXd7+n4bfd07Ctpb1/Hf7+p+fnw61L9l7UPjr8bvEHxO+Kf7K/jvw/8RPEtjrmhWWp+JdJ1RrAQ6fFauZI7j5I5CyNgxlsqRkg8V9AeKP20/wBlTxx4Xh0PWvi1+z5rGi27wyRafe+KNHuLWJoWV4WWJ5SoMbKrKQPlKgjBAr6DopR0jGK2iopf9upJfOyWo3q231bf/gTbfybb0Pmr4s/tQ/se/HywtbXx18RP2avGlrYO0ltDr2vaJqUduzYBZFmkYKSAMkYzgVfm/bM/ZRufh5J4Rk+K37PMnhOa1axfRW8TaOdOe3YYMJt/N8sxkEgrtwQelfQ1FFlZrowu7p9jwl/2+P2ZZPDR0VvjT8CW0c232I2J8X6V9mMG3Z5Xl+bt2bfl24xjjGK43wB8bv2JfhRc2M3hbxd+yv4am026kvbOTStV0Gza0nkiMLzRmNlKSNETGWXBKHaTjivqiind3b6v/hxcqtb+ux82+Jf2qf2QPGfxC0nxdrHxI/Zt1bxZoKhdM1q88QaLPqGnAEkCGdpDJGMsx+Vhyx9azvFfx6/Yq8efEKHxdrnjT9lzWvFduUMWtX2r6FcahEUGE2zu5kG0cDDcdq+jfB3j/QfiLYXN14f1rSddtbO7lsLibT7yO6jguYm2SwuyEhZEYFWQ/MpGCAa1qUdLW9V8+q9e/Uff7n8unyPAfEv7cP7LfjS/0m61j4v/AAB1a60C7F/pk154q0ieTTrkKyCaFmlJjk2sy71w2GIzgmjxL+3D+y340v8ASbrWPi/8AdWutAuxf6ZNeeKtInk065CsgmhZpSY5NrMu9cNhiM4Jr36ij/O/z7+ui+4P+G+X9XPmD4oftDfsX/G/WbHUvGnjj9mDxfqGmrss7rW9Z0LUJrVd27EbyuzIN3OARzzXZ2n/AAUU/Zz0+0it7f46/BOGCFBHHHH400xUjUDAUATYAA4wK9sooWisg33PJv8AgnJ/wUl/Z18D+K/2iJNa+PnwV0ePW/iVBf6c17430y3W/tx4U8OwGaEvMPMjE0E0e9cjfDIucqwH0z/w9i/ZZ/6OW/Z//wDDh6R/8kVx/wDwS8/5HH9pv/sqtv8A+od4Yr6woMz5/wD+HsX7LP8A0ct+z/8A+HD0j/5Io/4exfss/wDRy37P/wD4cPSP/kivoCigD5//AOHsX7LP/Ry37P8A/wCHD0j/AOSKP+HsX7LP/Ry37P8A/wCHD0j/AOSK+gKKAPn/AP4exfss/wDRy37P/wD4cPSP/kij/h7F+yz/ANHLfs//APhw9I/+SK+gKKAPn/8A4exfss/9HLfs/wD/AIcPSP8A5Io/4exfss/9HLfs/wD/AIcPSP8A5Ir6AooA+f8A/h7F+yz/ANHLfs//APhw9I/+SKP+HsX7LP8A0ct+z/8A+HD0j/5Ir6AooA+f/wDh7F+yz/0ct+z/AP8Ahw9I/wDkij/h7F+yz/0ct+z/AP8Ahw9I/wDkivoCigD5/wD+HsX7LP8A0ct+z/8A+HD0j/5Io/4exfss/wDRy37P/wD4cPSP/kivoCigD5//AOHsX7LP/Ry37P8A/wCHD0j/AOSK8Q/4KD/8FNv2bfGnwG0Gz0f9oP4H6teQ/ErwDfyQWXjrS55Et7bxho1xcTFVnJEcUEUsrueESN2YhVJH3fXz/wD8FLP+TdPDv/ZVPhz/AOpvodAB/wAPYv2Wf+jlv2f/APw4ekf/ACRR/wAPYv2Wf+jlv2f/APw4ekf/ACRX0BRQB8//APD2L9ln/o5b9n//AMOHpH/yRR/w9i/ZZ/6OW/Z//wDDh6R/8kV9AUUAfP8A/wAPYv2Wf+jlv2f/APw4ekf/ACRR/wAPYv2Wf+jlv2f/APw4ekf/ACRX0BRQB8//APD2L9ln/o5b9n//AMOHpH/yRR/w9i/ZZ/6OW/Z//wDDh6R/8kV9AUUAfP8A/wAPYv2Wf+jlv2f/APw4ekf/ACRR/wAPYv2Wf+jlv2f/APw4ekf/ACRX0BRQB8//APD2L9ln/o5b9n//AMOHpH/yRR/w9i/ZZ/6OW/Z//wDDh6R/8kV9AUUAfP8A/wAPYv2Wf+jlv2f/APw4ekf/ACRR/wAPYv2Wf+jlv2f/APw4ekf/ACRX0BRQB8//APD2L9ln/o5b9n//AMOHpH/yRR/w9i/ZZ/6OW/Z//wDDh6R/8kV9AUUAfP8A/wAPYv2Wf+jlv2f/APw4ekf/ACRXiH7KP/BTb9m3w58ev2mrzUP2g/gfY2evfEmyv9MnuPHWlxR6jbr4P8NW7TQs04EkYngniLrkB4ZFzuRgPu+vn/8AY4/5OM/aw/7KpY/+oR4VoAP+HsX7LP8A0ct+z/8A+HD0j/5Io/4exfss/wDRy37P/wD4cPSP/kivoCigD5//AOHsX7LP/Ry37P8A/wCHD0j/AOSKP+HsX7LP/Ry37P8A/wCHD0j/AOSK+gKKAPn/AP4exfss/wDRy37P/wD4cPSP/kij/h7F+yz/ANHLfs//APhw9I/+SK+gKKAPn/8A4exfss/9HLfs/wD/AIcPSP8A5Io/4exfss/9HLfs/wD/AIcPSP8A5Ir6AooA+f8A/h7F+yz/ANHLfs//APhw9I/+SKP+HsX7LP8A0ct+z/8A+HD0j/5Ir6AooA+f/wDh7F+yz/0ct+z/AP8Ahw9I/wDkij/h7F+yz/0ct+z/AP8Ahw9I/wDkivoCigD5/wD+HsX7LP8A0ct+z/8A+HD0j/5Io/4exfss/wDRy37P/wD4cPSP/kivoCigD5//AOHsX7LP/Ry37P8A/wCHD0j/AOSKP+HsX7LP/Ry37P8A/wCHD0j/AOSK+gKKAPhD/goP/wAFNv2bfGnwE0Kz0f8AaD+B+rXkPxJ8BX0kFl460u4kS3tvGGjXFxMVWckRxQRSyu3REjdmIVSR7f8A8PYv2Wf+jlv2f/8Aw4ekf/JFH/BSz/k3Pw9/2VP4df8Aqb6HX0BQB8//APD2L9ln/o5b9n//AMOHpH/yRR/w9i/ZZ/6OW/Z//wDDh6R/8kV9AUUAfP8A/wAPYv2Wf+jlv2f/APw4ekf/ACRR/wAPYv2Wf+jlv2f/APw4ekf/ACRX0BRQB8//APD2L9ln/o5b9n//AMOHpH/yRR/w9i/ZZ/6OW/Z//wDDh6R/8kV9AUUAfP8A/wAPYv2Wf+jlv2f/APw4ekf/ACRR/wAPYv2Wf+jlv2f/APw4ekf/ACRX0BRQB8//APD2L9ln/o5b9n//AMOHpH/yRR/w9i/ZZ/6OW/Z//wDDh6R/8kV9AUUAfP8A/wAPYv2Wf+jlv2f/APw4ekf/ACRR/wAPYv2Wf+jlv2f/APw4ekf/ACRX0BRQB8//APD2L9ln/o5b9n//AMOHpH/yRR/w9i/ZZ/6OW/Z//wDDh6R/8kV9AUUAfP8A/wAPYv2Wf+jlv2f/APw4ekf/ACRR/wAPYv2Wf+jlv2f/APw4ekf/ACRX0BRQB8pf8E+fj/4D+LPxa/ag8SeFfG3hHxN4d1X4oWbWWqaVrFveWV4E8HeGYnMc0bsjhZI5EO0nDIynkEUV1v7HP/Jx37WH/ZUrD/1CfC1FAHm/7c//ACkO+B//AGTrxz/6c/CNfD3/AAWk/YV+EnjP9kn4xfFbVPA2kXnxE0/wzJNb645k+0RPCgWMgBtvyqABxX3D+3P/AMpDvgf/ANk68c/+nPwjXjf/AAUe+EfiH49fsKfFPwb4T0/+1vEniTw/cWOnWfnxwfaJmA2rvlZUXPqzAe9cuOi3QnyrWzt3vZ7eZ1YOSVWPNtdX7WutzzDwV8EvhP8A8Ev/ANjnxT8Yvh/8NdJs9Y03wUuq6lDa3clu+riGAT+U0jeYE3Nk7ghxnoeldp+z9+178S/jP8NdY8Zah8BPEHh3QZNIh1bwvbN4hsp9Y8ReYMiGS2by0s3I2sPMmI2t820gqLf7W/wV8TfE7/gmx428AaHpv27xdq/gaXRrSw+0RR+bdtaeWI/MdhGPm43Fgvvim/Hf4Q/EvX/+Cc114L+H+qN4X+Ji+FbOws7hLz7PJBPHHEJokuEyI5GVZI1lUkIzK2cDNd+NqfvK7WqVlG3S7qXate9vddkmvJ3s+TBx9yhGWjd+ZvfTktf1vLs9N9DJ+H/7b3jfTv2i/Bvw7+K/wnt/h3dfEa0u5/Dd9p/iqLXoZ57WPzp7S5CwQmGVYjuBTzUbDANwTXlP7J/x4+OXiT/gpd8fvD+qeF9LvPDem6h4fhubWfx5cTW/hS2exLCWygaz2ytOv714x5GH4LP9+vO/gP8AsB+LdI/bm+CHxE034GeJvhzpPhK41P8A4SfUPEnxN/4SbUruS40uWJZfJN1PGsZmYLviYSOzktEiKGr3rwz8Nvip8Bf+Cl/xF8TaP8PY/F/w9+MyaE93r8XiC1s28LvZQPbTebbSfvZgU2uoiVsnAJGTsUYqNSF92pLyb5k1d9Fyp63j20b1cpXhK19ovz3s0l32dtfu0PrSvI4f2pXs/wBtuX4N6poK6eL7wqPFGh6yL7zF1ZY7gQXVuYTGvlyRF424d9yPnC4IrQ/Zl8UfFLxRpni5vil4a0HwzdWfie+tfDyaXcidb/RkYfZbmX95Jtldd25cqeAdiZ2jyb/gpt8C/iJ4rsPh98SvgzosOu/Ff4X6081hYyX0Vkupafdwtb3ls0kzpGFIMUnzH/ljwCTg4Sk4uE7XTtdLf3o2V+3K2nLtZp9TaMeZSitGr2b/ALr1t35kmk/NNG74J/bf8QfFrwv8UtU8E/C/UfFy+BfF03g/RorTWre3PiOeAItzcM84jjt4IpmdCwaUsI2IUnC1Y+AH7ZPiTxp+0dq3wl+JHw9g+H3jW10FPE+nCw8Qrrmn6tp5mEEjrN5MDpJHMQrRtF0IYMQRXk/xM/Yk+JHwx/4Jl+Afhp8ObrULnxH4fvNPvvGFrpGuf2LqHiyNpGm1SCC/yvkyTzSM29mUFQVLDNcp+wj+w14k+Dn/AAUPf4jWfwe1P4V+A7vwHeaGYdV8d/8ACTai96dQtpVM2+4n8nfGjlVhkljwmWZXbZWtGFqzpzd0rpvo3GnfmW2kprTV6txstGZ1JJ0ueCd3Zpdk5/C99Yw3273buhf2Kv2pNG/ZD/Yn+JnirVtP1TW7i6+MviPSNI0fS4xJfa1qFzqrx29rCpIG52PUnAUMecYPrvw+/b/8caD8dfBvgX40fBe5+FM3xGeW18NapaeKbbxDY3N5FGZWtLh4o4jbylB8nDq5yA3BI8d07/gn78U5v2R9RtbPTdK034heEPjdf/FDw3p+p30bWmswrqEssUTzQs4i8+CVwCwyrFQwTll7HUvh38bv26P2jfhHq3xB+Fdp8G/BPwk1s+K5kuvE9prWoa5qKwvFBDALTKRwIXZmeQhm4AUY5nDaxpKfRU010UVThd/4k+fS+8UuXXUrXTqOPeo15y552XX3WuTWy0k/e006iz/4KGePvHX7V/jz4X+BvgbqHiiH4b63ZafrfiCbxPb6dYRWtzbwzeagkiLSXCiSQm3XI2xhjKC6rV7x3+334v1b4m+NNB+FHwptviHYfDu4Ona3qeoeLoNAjm1BUWSSyskeGU3EiK6hmcxRhzt38E1sfsh/AvxV8L/2p/2kPEmu6X9h0Xx94m07UNCuPtMMv26CLTYYJH2o5aPEiMuJApOMgEYNfO2tf8E/ZPg9+0Z8VNR1L9l7wX+0N4f+IXiGbxTo+tPcaRFqejy3KobiyuhqBjPlCYO6NC0mFc5XPyjNN8tOL35E2/77UNH0VrydtNVa+0XpdXnJLabSX9xOWq11eke+jbt9pe067/wU/sPEXwy+DeqfDzwfc+KfEPxwmuINB0nV9Vi0OKze1Rmu0u7hll2PGVdAsccpdlwvGDXv3wY8VeKPGXw+tb7xn4Th8E+ImkljudKh1aPVYotrsqulwiIHV1AcZRGG7BUEV88/GX4O3Ef7NPgnwLdfsq+EfHPhmaCZ9U8MeGtc0+1g8KXGd8ZszdLaK5JeTM0TxSI2SFbdmu1/4Jv/AAd8efA79m4aL8QLq++3SaxfXmlaZe602tXPh3TJJd1rp0l63Nw0KfLvyQMhQSFBrfRzqdr6el0rL8Xf3k1d3WieL5lGn3e/46vt0VtHe2lrn0X/AMEvP+Rx/ab/AOyq2/8A6h3hivrCvk//AIJef8jj+03/ANlVt/8A1DvDFfWFQAUUUUAFFFQ6jqNvo+nz3d3PDa2trG0000zhI4UUZZmY8BQASSeABSckldgk27ImorzD9lr9s74X/tseGte1r4U+MNN8baN4Z1mXQL+/09JTareRRxyOkcrKqTLsmjIkiLxtu4Y4OIfGX7b/AMJ/AP7TnhX4Map440eH4peNI5ptJ8Nxb7i9ljihknaSVY1YW6GOKRlaYoH2EKWIxT1ul/NqvNNcyt3019Ndg6OXSN7+VnZ37Wej8z1WiiigAooooAKKKKACiiigAr5//wCCln/Junh3/sqnw5/9TfQ6+gK+f/8AgpZ/ybp4d/7Kp8Of/U30OgD6AooooAKKKKACiiodR1G30fT57u7nhtbW1jaaaaZwkcKKMszMeAoAJJPAApOSSuwSbdkTUV8t/Cf/AILVfsvfHH45ab8OfC/xc0bU/FGt3EtppKmwvbfT9amjYK8dnfyQraXTbmAAhmcsT8ua+pKtxkkpNaMnmV3G+qCiiipKCiiigAooooAKKKKACvn/APY4/wCTjP2sP+yqWP8A6hHhWvoCvn/9jj/k4z9rD/sqlj/6hHhWgD6AooooAKKKKACiivP/ANpT9qb4ffsf/DVvF3xJ8Uaf4V0H7RHZxTXIeSW8uJM7Le3hjVpbiZgrERRI7kKxC4BITkluVGLk7RV2egUV5j+zT+2J8P8A9rqx1ifwLqWsXjeH5o7fUbbVfD2o6Hd2jyKXj3W99BDLtZQSGC7Tg4NenVTTW5nGSkrxd/8AgaP7noFFFFIoKKKKACiiigAooooA+f8A/gpZ/wAm5+Hv+yp/Dr/1N9Dr6Ar5/wD+Cln/ACbn4e/7Kn8Ov/U30OvoCgAooooAKKKKACignAr5Z8O/8FsP2W/Ffxyt/h3p/wAXtFn8SXmqtodq/wBhvU0q7vgcfZotSaEWMkpb5QqTksxAGTxRH3pqnH4nsur+Q7NRc3st30X9Wf3H1NRRRQIKKKKACiiigAooooAKKKKAPn/9jn/k479rD/sqVh/6hPhaij9jn/k479rD/sqVh/6hPhaigDzf9uf/AJSHfA//ALJ145/9OfhGrFV/25/+Uh3wP/7J145/9OfhGrFBUQooooKCiiigAooooAKK8l8f/tSf8IN+2J8PPhN/YX2r/hPdG1XV/wC1ftuz7D9h8j935PlnzN/nfe3rt29Gzx61QtYqS2d/wbi/xTQbSceqtf5pNfg0wooooAKKKKACiiigDQ/4Jef8jj+03/2VW3/9Q7wxX1hXyf8A8EvP+Rx/ab/7Krb/APqHeGK+sKDMKKKKACuQ+OvwE8I/tM/DO88G+O9Ft/EfhbUprea80y4kkW3vfInSeNJVRl8yPzI0LRtlJACrqykqevrj/j54S8ZeOvhLq+lfD/xhZ+AfF10sYsNeu9EXWobAiVGctaNLEJd0YdOZF2lw3OMGZbbX/r9NyqfxLW3n2+7U+R/+CJuk2ugeJv2vrGxtbeysbL4/a5Bb28EYjigjWx05VRFXAVVAAAAwAMVyP7Uf7N3gb9nz/grb+xrceDvDen6JeeMvGfjjXtdvI90l3q97Noc0jzTzSFpJCC5ChmKxphECooUd1/wT/wD+CaHxv/Ys+NXijX9Y/aR0Px14X+IHie+8X+KdCX4ZRaVNqWoXVusReK6W/lNuqtFC20RsCEI4Lbhj/tO/8Euf2hv2hP2sfCfxRs/2qvD/AIdb4a6tquoeC9MPwmgvBo0V9C1u8M0p1FPtRWBtm9kXJy20HgaR932F3dxpwjJ+cYRi13d5K66aJuz0CVn7ddJOo4r/AB8/K/KylZ9Vd2urn3oTgV+cP7CX7XfxI+KX7V1roHxk+Pd58Ofic2san9o+COseB7HTLC/09GmS2/su/kjFze/u1juDPDdTggSAxKoyP0D8BaNrmjfDvSNP8Ra5DrviK1sIoNR1e2sBYx39yIwJLhLffIIQz5YR73C5xlsZPyrF/wAE2vid8Vvi78Mtc+NXx5s/iXoPwj8RDxVoNhY+ALTQNQutRjSSO3lvLyO4lV1jWVspbw26yEAsCABUxjbEpt+7s30s3ul3Vr2cddrxu2ROTeGlyr3nsuuz0utld6tO63SdrHzV8UP+Cl3xC+Pv7R/xm03w38VPil8I/D3wv8RXfgzQrLwd8DrzxxHq97ZhBPd6jefYLiMIZy6LbW7wuI1Vi4LA13nif/goX8Z/Hf7OP7J1nr17afs6+LPjzq97o3izxLqugeW/h+Wzt7iWOO0tdSASGa/aBfJF0kgVJCAkjbc+yaz/AME5/iL8L/j78QvGXwK+OEPwy0v4raguueJfDms+DIfEliuqeTHDJfWJ+02z28kqRoZFczIzjdtAwo+W/wDgsx8O9J0D4tfss+Hfi98SNW0PwXo9nr0Gu/FbxP4X0rXNMvbq4ht41sLuzmsJNNhmuCN8c0sSpGkEiqGZiy509KNOnL4nyXu7axTc7PtJp9VdcqUW/cNqi5qs3F+6lO1leyekLrRtx0u7bqUnO15P27/gkd8V/ih8T/2j/wBovR/GPx91D46eE/hj4gtvDmhanFoGi6dp1w8trDdTDfY26M91bM5gk/eGMk5CK3C/eFfnl/wRh+MGrap8YfiF8PfAvizQPit+zj4P0qzl8O+M9I8D2fhayttWkmlFzpcH2GKGyvQkarM81vEgRpVU/eFfobXVUi1GCf8AKulm7aNtWv7zTkt7ppptWZzp+/P1fyvZpLpomk7W1T0TugooorEsK+f/APgpZ/ybp4d/7Kp8Of8A1N9Dr6Ar5/8A+Cln/Junh3/sqnw5/wDU30OgD6AooooAKKKKACodR0631jT57S7t4bq1uo2hmhmQPHMjDDKyngqQSCDwQamrL8caXqmu+CtYsdE1VdC1m8spoLDUmtVul0+dkZY5zCxAk2MQ2wkBtuCRmoqfA9L6baa+WumvnoVD4lrbz7eemv3HwH/wU40XTP2xv2p/gD+zH8PNLs7jVPhv4x0b4l+MLyziEdn4D0Sw8zyIWZABFc3ZIjhhT5tilyqxkNX3d8XdY8QeHvhR4n1DwnpsOseKLHSbq40ewmbbHfXiQu0ELHcuFeQKpO5eD1HWvg/9lL/gkd+0p+x7omoWHhX9rnwvJ/wkGry654g1C/8Ag3Dd6p4hvJW3Sz3V3JqjSSSEfKCSQigBQAAK++PiFoGq+Kfh/rOmaLr1x4X1q/sZrex1m3tYrqTS52QhLhYZg0chRiG2OCrYweDTqxf1V00/ek5SbW/M1FXV9LJRild6tOTSvZFOS+sRla0YqMUntypt621u3JtpaJNRTdrv4b/4JQftTeKPjj4+W1+IH7Rmqa58SbbQWuPF3wf8Q+BbLwzqHhi9Z42Z7RRFFdyW0BLReYz3KSB428xSRn5ls/8AgrJ8Z/2kfhX4q+Lfgn4jfFDw7qDXl7P4J+Hmj/ALUvEPhrUbW1nljgt77VlsHllluhGN8ttcxJA0mADsIr7q+EP/AAT18dS/tX+DvjB8Zvi9pvxO8SfDjRr7R/DMOj+CYfDNvb/bVRLqe5IubmS4kZI1AUPHEhLER5Oa534f/wDBMj4qfs3N4h8M/Bn9oqbwD8Kde1i71i38PXvga01rUfDL3k7z3MWmX0k6RxRGSR2jS4tbgRljnfzmp3ck9vde20Xz3W97+7Zq/NbWLunoUpcqk3r7y36x5ddtE72vbkvq9Nnyfxy/bH+JnxX/AGgPgj8NYfH0P7L9v8QvhpN4+1TU7/SLK51eTUY2tkbRYF1JWt42gE7yzB4WlKxqAEG9h1H/AAQ7+MXxI/aA/Zz8ZeKPiJ8Wr34xeR411bw9ouvDRdM0vTtSsbC5kt0vbNLKCPMU+MnzHlw0Z2ttPPyn/wAFV/BPw+1r/gqT4f0342fEaH4S+DLb4XW2l2Hinxh4R0XxHpfje7S+mmeJDqmnz2FpcQY3yEKskvnxhVRVG76s/wCCK3xx8afGD4ZePrHUNUsPGXwt8I67FpPw48a2nhJfCsPinTRbRvIYrJFWHyLeVjAk8KJHLsbAG01th7ShOolvz6atWVZqLTezUUopaXjeTuzKtFw5INvRw12f8G7T6NOTcm9bSSXp9qUUUViWFFFFABXz/wDscf8AJxn7WH/ZVLH/ANQjwrX0BXz/APscf8nGftYf9lUsf/UI8K0AfQFFFFABRRRQAV+c37d9z8TPiF/wW7+Cvhj4f2fw9m1Lwn8Mtb8TaVdeNFuZtO0m6nvre0mvI7e32vcXCwgRrGJYsLcSN5gxhv0Zr5n/AG5f+CfmtftM/FT4f/E34d/FDUvg98Wfhul3ZadrsWjw61ZXun3fl/abO7spXRZo2MSFSJFZGyw52lZXu1qdRq6i3f5wlFdtpSTfWydtbFrWnOF7NpWb8pRb6PdJra2tnpcy/wBhr9sn4ifED9p/4t/Av4w2Pgf/AIWB8L7fTdYh1jwhHdwaVrum6gJTE/2e5eSS3mjMQV0M0gYtlTgV57/wVK/ai+I3wL/aI8F6bcfEbxF8BvgVeaFcXWq/EbR/Blv4i8nWfOEcNjdyXENzDY25ibzPNkgAZht81eceyfsLfsCTfsneJ/Hnjjxd481T4rfFz4o3FrN4m8VXunw6ZHNFaxeVbWtrZwkpbW8SliEDOxZ2LOxxjR/ah+APxt+KfjFrj4c/HPR/h94dvdJOm32h6t8P7bxHEZSz7ruCU3Fu6SFGCFJfOi+QHy+W3TXjK0GtZJa2uk3Z+j0utVo5rm5eV8qVJq8+i6X1e6v3Wrvo9ou1+azPnP8Ab4/4KF+J/wBn74Rfs7+CvB/xIXxB4j+NSzef8TfDnguTxOz2FlaRzXGoWGlWKzpNNO0sIQAPDGsjuQVUYo/sa/tyfGCD4n/FrQdQm+J3xl8E+HfA03i/w74n8WfCy78D6kupQllfRZQbS1t7nzBskjeKJHALq27G4el6x/wR00Hw7+yv8E/Avw88eeIvAvjD9nm5a/8ABfjEWdvfTxTypKl2t1bMFjmtrhZpPMhQx/wBWULgn7Qnwb+NHw9/Yk+Pmp+OvH+rfHrWtU8CalpumeE/CnhiDwxbndbSqxt0Vru6a7fdjcZnXCgJDu6zjZ+zp4icH0qNOy1XL7tl0s7OyS1W/K2jTCR55UKcuvIpdWnz3ldvdOOl7y0vonq/kbQP2uvjr8Sl/ZG8TaT+2Na6tfftHa5bRa74F8LeEvDr/wBi20tpLdXBtHmt57lIbFoxBMblnkJYndG421+wNfg5+yr8SfDv7NuifCfWP2bfjn4F+MXx38QTaPomteBbH4PaLY6jqdqZIYb5Lq6sbG31Gwjto98jz3sr/wCoBbOST+8Y6V6WJpqCcYrTnnbyVo6Xeskt1K71cl0OGjJtxct+SN/N3lrbo3s1ZaJdwooorjOgKKKKAPn/AP4KWf8AJufh7/sqfw6/9TfQ6+gK+f8A/gpZ/wAm5+Hv+yp/Dr/1N9Dr6AoAKKKKACiiigDw7/gpr4o1PwV/wTn+O+r6NJLBqum+ANbuLWWLO+GRbGYh1xzleoPbFfHP7Wvwi8KeFP8Ag1nbStNsbO10zQfhRpOtaYY9v7i/SK2u47hG7StcnfuHzFnPOTX6S+MfCOm/EDwjqmg6xaR3+ka1aS2F9bSfcuIJUKSIfZlYj8a+BNM/4Id+NNZ+Gfh/4N+Nf2lvE3jL9mfwzdWjW3gOTwnZWmp31lZyRy2unXesI5kmtUeNAQsEbsihd64BGapuSq0r8vP7O0v5eV1Lvvdc6lG27T1WjNeeMZUqjV+RzvH+bm5LLtb3Gnf+ZaPW32W/i7xUP2Vm17Q9Ni1jxt/wiv2+wsJ/3aXuofZN8cT5ZdoebCnLLjPUda+Qv+CUP7U/ij44+P1tfiB+0Zqet/Em30Jrjxb8HvEXgWy8M6h4YvWeNi9ooiiu5LaDLReYz3KSB0bzFJGfuXx/4c1LxH8PdY0nQdcm8K6teWEttp+rW9rDcyaVMyFY51hlVopDG2GCOpU7cEYNfNXwi/4J6eOpv2rvBvxe+M/xe034neI/hxo99pHhmHR/BMPhmC3+2qiXU9yRc3MlxIyRqAqtHEhLER5Oa2lLmxM6i0Uk7dVF2nay23aTuuzi1ZnNGnKGFhTveSav3a927b+Tas+6ad0fC9p/wVj+M37SPwt8VfFrwT8Rvih4b1D7ZezeCvh7o/wC1LxF4a1G2tZpY4Le+1ZbB5ZZboRjfJbXMSQNJgA7CK+mvjj+2R8TPit8ffgf8No/H0H7L8PxC+Gs3j3VNUv9Is7nV5NRja2RtFgXUla3jaETvLMHhaUrGoAQb2HW+Af+CZPxU/ZvfxD4a+DP7RU3gH4U6/rF3rFv4evfA1prWo+GXvJ3nuYtNvpJ0jiiMkjtGlxbXAjLc7+c/J//AAVX8FfD/Wf+Covh7TfjZ8RofhL4MtfhfbaXY+KvGHhLRfEel+N7tL2WZ4kOp6fPYWlxBjfIQqyS+fGFVFUbsYW/d03fV6pvVWpVG9Vv7yi3rZuKslzNPqre9KpKL0W1lunUglppa0brbS7bbsmfVn/BD34xfEj4/wD7O/jPxN8RPi3efGL7P411bw9ouvDRdM0vTtRsrC5kgS9s0soI90U+MnzHlw0Z2ttPP2pXxT/wRW+OPjP4v/DTx9Yahqmn+Mvhb4Q1yLSvhz41tPCK+FYfFGmi2R5DFZRqsJht5WMCTwokcuxsAbTX2tXVXVmk/wCWPS1/dWrVlZvdq2jbRyw3l/il52956J9Utk+yQUUUViaBRRRQB8//ALHP/Jx37WH/AGVKw/8AUJ8LUUfsc/8AJx37WH/ZUrD/ANQnwtRQB5v+3P8A8pDvgf8A9k68c/8Apz8I1Yqv+3P/AMpDvgf/ANk68c/+nPwjVigqIUUUUFBXxf8Atzad4w+J/wDwUT+CXw50P4l+Nvh74c8U+F/EU2uDw7e/Z572OE2ZUIWDJFKC2FnCGSNWcIVLbh9oV534v/Zo0Hxr+0n4N+KV1d6tH4g8D6ZqGlWFvFLGLOWK98rzTKpQuWHkrtKuoGTkNxhRS9pGUtlzX+cJJeurQSb9nJR3fLb5Ti36aJnzl+xtrHin4S/Hb9pb4P3vjrxl430D4eWWlav4f1HxLqJv9XshqFncSywNdECSRUkhBQscqDjtk+eePfjl4wg/4NyLDx1beMPEqeNG8F6dct4gi1acaoZ2uoUkkNyH83ecspbdk5INfZngn9l3w74F+P3xE+Itvcapdax8TrTTrPVrW6kjeyjjsYpYovKQRhhuWVt+93B4wF5B+edf/wCCHPwx8S/DjVvBF144+Mz/AA/vGkk0zwp/wlAOj+HJGk8wNaQGEj5GLbFnMyIWLBQ2GDi2/j6qGv8Ag5r+raa16ta9zSLjGrGototu3e6hf5KUZfJ6LoaHxsmY/wDBXD9nGRtzN/wg3iliSeWOLGvJ/gJ8KvHX7ef7K+tfHvVvjt8WvBfizWpdWu/D+l+H9c/s/QPDEVnc3EVtbzWQUx3WDDmZpss4JXII3H7P8TfswaB4q/aK8E/E24vNYTXvAelX+j6fBHLGLOaG88rzWlUxl2ceSu0q6gZOQeMeLeL/APgj94C8Q6n4it9L8dfGLwd4L8X3ct7rXgnw/wCKDZ+Hr+SZi1wPJMbSxJMSd6QyxqQSuAvFZ1IydNQjo7TSf8rdSUk/ua13VrLSTMsOlF3qK6vC67qNNRkvP3ls9Ha+6R5PqHxh+MX7X/7B/wCzx8SbW18fXWg6lbvffEjTfAGoppPiPU0SNoopbNg0b+WZ4zI8UEsbsjgLkcD6i/YJ+IHg/wCIn7OljceCfFnjTxhpNjfXdjNceLp55tcsLlJm82yuzcKswkhY7MS5baF+ZwQxm+If7HOn+JPC/g/R/CPjb4hfCbT/AARaNp+nW/g3UYLa3e2KIixTQXEM8MoQINrNHvUlsMNxz0X7Nv7N3h39lr4cN4b8OyateJdX1xquo6jqt415qGr3tw++e6uJTjfK7ckgADAAAAArolKLqVZR0jJtpfNWWmluVeqeiumzOMZqnSjJ3lFJPts7vvzXfo472aO+ooorM1CiiigDQ/4Jef8AI4/tN/8AZVbf/wBQ7wxX1hXyf/wS8/5HH9pv/sqtv/6h3hivrCgzCiiigAooooAKKKKACiiigAooooAKKKKACiiigAr5/wD+Cln/ACbp4d/7Kp8Of/U30OvoCvn/AP4KWf8AJunh3/sqnw5/9TfQ6APoCiiigAooooAKKKKACiiigAooooAKKKKACiiigAooooAK+f8A9jj/AJOM/aw/7KpY/wDqEeFa+gK+f/2OP+TjP2sP+yqWP/qEeFaAPoCiiigAooooAKKKKACiiigAooooAKKKKACiiigAooooA+f/APgpZ/ybn4e/7Kn8Ov8A1N9Dr6Ar5/8A+Cln/Jufh7/sqfw6/wDU30OvoCgAooooAKKKKACiiigAooooAKKKKACiiigAooooAKKKKAPn/wDY5/5OO/aw/wCypWH/AKhPhaij9jn/AJOO/aw/7KlYf+oT4WooAuftDfsMfDv9pX4meE77xZD4yfUPDumanBp93pPjfW9DuIIrmWwaeMyWN3C7o7W8BKuSuYlOMiub/wCHSHwb/wCe/wAaP/D0+M//AJa0UUAH/DpD4N/89/jR/wCHp8Z//LWj/h0h8G/+e/xo/wDD0+M//lrRRQAf8OkPg3/z3+NH/h6fGf8A8taP+HSHwb/57/Gj/wAPT4z/APlrRRQAf8OkPg3/AM9/jR/4enxn/wDLWj/h0h8G/wDnv8aP/D0+M/8A5a0UUAH/AA6Q+Df/AD3+NH/h6fGf/wAtaP8Ah0h8G/8Anv8AGj/w9PjP/wCWtFFAB/w6Q+Df/Pf40f8Ah6fGf/y1o/4dIfBv/nv8aP8Aw9PjP/5a0UUAH/DpD4N/89/jR/4enxn/APLWj/h0h8G/+e/xo/8AD0+M/wD5a0UUAH/DpD4N/wDPf40f+Hp8Z/8Ay1o/4dIfBv8A57/Gj/w9PjP/AOWtFFAFH4e/8EpPhH4S1jxV/ZN58atJbUtVS6vGsvjT4zt2vZvsVrEJZimqgySCOOKPe+W2RRrnaigdN/w7T+HX/Qx/tAf+H28b/wDy2oooAP8Ah2n8Ov8AoY/2gP8Aw+3jf/5bUf8ADtP4df8AQx/tAf8Ah9vG/wD8tqKKAD/h2n8Ov+hj/aA/8Pt43/8AltR/w7T+HX/Qx/tAf+H28b//AC2oooAP+Hafw6/6GP8AaA/8Pt43/wDltR/w7T+HX/Qx/tAf+H28b/8Ay2oooAP+Hafw6/6GP9oD/wAPt43/APltR/w7T+HX/Qx/tAf+H28b/wDy2oooAP8Ah2n8Ov8AoY/2gP8Aw+3jf/5bUf8ADtP4df8AQx/tAf8Ah9vG/wD8tqKKAD/h2n8Ov+hj/aA/8Pt43/8AltR/w7T+HX/Qx/tAf+H28b//AC2oooAP+Hafw6/6GP8AaA/8Pt43/wDltR/w7T+HX/Qx/tAf+H28b/8Ay2oooAP+Hafw6/6GP9oD/wAPt43/APltXP8AxL/4JafCrxJ4ctrfUtT+OGp28eq6bdJDe/G3xpcRpNDfQTQyhX1UgSRSpHIjgbkeNHUhlBBRQB0H/DtP4df9DH+0B/4fbxv/APLaj/h2n8Ov+hj/AGgP/D7eN/8A5bUUUAH/AA7T+HX/AEMf7QH/AIfbxv8A/Laj/h2n8Ov+hj/aA/8AD7eN/wD5bUUUAH/DtP4df9DH+0B/4fbxv/8ALaj/AIdp/Dr/AKGP9oD/AMPt43/+W1FFAB/w7T+HX/Qx/tAf+H28b/8Ay2o/4dp/Dr/oY/2gP/D7eN//AJbUUUAH/DtP4df9DH+0B/4fbxv/APLaj/h2n8Ov+hj/AGgP/D7eN/8A5bUUUAH/AA7T+HX/AEMf7QH/AIfbxv8A/Laj/h2n8Ov+hj/aA/8AD7eN/wD5bUUUAH/DtP4df9DH+0B/4fbxv/8ALaj/AIdp/Dr/AKGP9oD/AMPt43/+W1FFAB/w7T+HX/Qx/tAf+H28b/8Ay2o/4dp/Dr/oY/2gP/D7eN//AJbUUUAH/DtP4df9DH+0B/4fbxv/APLauf8ABv8AwS0+FWj+I/FlxZ6n8cLK41XVY7q/mt/jb40hkv5hY2kIlmZdVBlkEUUUYdyWCRRpnaigFFAHQf8ADtP4df8AQx/tAf8Ah9vG/wD8tqP+Hafw6/6GP9oD/wAPt43/APltRRQAf8O0/h1/0Mf7QH/h9vG//wAtqP8Ah2n8Ov8AoY/2gP8Aw+3jf/5bUUUAH/DtP4df9DH+0B/4fbxv/wDLaj/h2n8Ov+hj/aA/8Pt43/8AltRRQAf8O0/h1/0Mf7QH/h9vG/8A8tqP+Hafw6/6GP8AaA/8Pt43/wDltRRQAf8ADtP4df8AQx/tAf8Ah9vG/wD8tqP+Hafw6/6GP9oD/wAPt43/APltRRQAf8O0/h1/0Mf7QH/h9vG//wAtqP8Ah2n8Ov8AoY/2gP8Aw+3jf/5bUUUAH/DtP4df9DH+0B/4fbxv/wDLaj/h2n8Ov+hj/aA/8Pt43/8AltRRQAf8O0/h1/0Mf7QH/h9vG/8A8tqP+Hafw6/6GP8AaA/8Pt43/wDltRRQBz/xM/4JafCrxJ4bt7fUtT+OGp28eq6ddJDe/GzxpcRpNDfQTQyhX1UgSRSpHIjgbkeNHUhlBHQf8O0/h1/0Mf7QH/h9vG//AMtqKKAD/h2n8Ov+hj/aA/8AD7eN/wD5bUf8O0/h1/0Mf7QH/h9vG/8A8tqKKAD/AIdp/Dr/AKGP9oD/AMPt43/+W1H/AA7T+HX/AEMf7QH/AIfbxv8A/LaiigA/4dp/Dr/oY/2gP/D7eN//AJbUf8O0/h1/0Mf7QH/h9vG//wAtqKKAD/h2n8Ov+hj/AGgP/D7eN/8A5bUf8O0/h1/0Mf7QH/h9vG//AMtqKKAD/h2n8Ov+hj/aA/8AD7eN/wD5bUf8O0/h1/0Mf7QH/h9vG/8A8tqKKAD/AIdp/Dr/AKGP9oD/AMPt43/+W1H/AA7T+HX/AEMf7QH/AIfbxv8A/LaiigA/4dp/Dr/oY/2gP/D7eN//AJbUf8O0/h1/0Mf7QH/h9vG//wAtqKKAD/h2n8Ov+hj/AGgP/D7eN/8A5bUf8O0/h1/0Mf7QH/h9vG//AMtqKKAOi/Z0/ZQ8Hfs/t4zs/Df/AAl3/E911dU1G51Xxhq+s3t9c/2fZW4kkuby5mmYiG3hjAL4VYlAAAooooA//9k=)\n",
        "\n",
        "Inicialmente se realizaron las pruebas con un dataset de 100.000 datos, pero no se apreciaban diferencias en los tiempos de ejecucion. Para hacer un analisis de los tiempos mas profundo, se realizo una prueba con 5.000.000 de registros y se pudo observar que la libreria Polars presenta una mejor performance que Pandas. La misma presento mejoras desde un 60% hasta un 83% segun la tarea medida.\n",
        "\n",
        "Tambien se pudo observar que el entorno TPU v2-8 tiene un rendimiento notablemente mayor que en los otros entornos. En general podriamos decir que segun el tipo de tarea, este entorno fue desde un 50% hasta un 75% mas rapido.\n"
      ],
      "metadata": {
        "id": "RUEt5bPL4aVp"
      }
    }
  ]
}